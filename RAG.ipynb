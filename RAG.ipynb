{
  "cells": [
    {
      "cell_type": "markdown",
      "metadata": {
        "id": "n2GHOA61L8VV"
      },
      "source": [
        "##RAG"
      ]
    },
    {
      "cell_type": "markdown",
      "metadata": {
        "id": "uODqoAnYMzj9"
      },
      "source": [
        "#Indexing"
      ]
    },
    {
      "cell_type": "code",
      "execution_count": null,
      "metadata": {
        "colab": {
          "background_save": true
        },
        "id": "dbwlmXYmMYMz",
        "outputId": "798e86c2-49c1-4f7c-a96e-621d62b683ce"
      },
      "outputs": [
        {
          "name": "stdout",
          "output_type": "stream",
          "text": [
            "\u001b[2K   \u001b[90m━━━━━━━━━━━━━━━━━━━━━━━━━━━━━━━━━━━━━━━━\u001b[0m \u001b[32m30.7/30.7 MB\u001b[0m \u001b[31m32.1 MB/s\u001b[0m eta \u001b[36m0:00:00\u001b[0m\n",
            "\u001b[2K   \u001b[90m━━━━━━━━━━━━━━━━━━━━━━━━━━━━━━━━━━━━━━━━\u001b[0m \u001b[32m363.4/363.4 MB\u001b[0m \u001b[31m3.9 MB/s\u001b[0m eta \u001b[36m0:00:00\u001b[0m\n",
            "\u001b[2K   \u001b[90m━━━━━━━━━━━━━━━━━━━━━━━━━━━━━━━━━━━━━━━━\u001b[0m \u001b[32m13.8/13.8 MB\u001b[0m \u001b[31m52.7 MB/s\u001b[0m eta \u001b[36m0:00:00\u001b[0m\n",
            "\u001b[2K   \u001b[90m━━━━━━━━━━━━━━━━━━━━━━━━━━━━━━━━━━━━━━━━\u001b[0m \u001b[32m24.6/24.6 MB\u001b[0m \u001b[31m35.9 MB/s\u001b[0m eta \u001b[36m0:00:00\u001b[0m\n",
            "\u001b[2K   \u001b[90m━━━━━━━━━━━━━━━━━━━━━━━━━━━━━━━━━━━━━━━━\u001b[0m \u001b[32m883.7/883.7 kB\u001b[0m \u001b[31m27.9 MB/s\u001b[0m eta \u001b[36m0:00:00\u001b[0m\n",
            "\u001b[2K   \u001b[90m━━━━━━━━━━━━━━━━━━━━━━━━━━━━━━━━━━━━━━━━\u001b[0m \u001b[32m664.8/664.8 MB\u001b[0m \u001b[31m2.9 MB/s\u001b[0m eta \u001b[36m0:00:00\u001b[0m\n",
            "\u001b[2K   \u001b[90m━━━━━━━━━━━━━━━━━━━━━━━━━━━━━━━━━━━━━━━━\u001b[0m \u001b[32m211.5/211.5 MB\u001b[0m \u001b[31m4.7 MB/s\u001b[0m eta \u001b[36m0:00:00\u001b[0m\n",
            "\u001b[2K   \u001b[90m━━━━━━━━━━━━━━━━━━━━━━━━━━━━━━━━━━━━━━━━\u001b[0m \u001b[32m56.3/56.3 MB\u001b[0m \u001b[31m12.1 MB/s\u001b[0m eta \u001b[36m0:00:00\u001b[0m\n",
            "\u001b[2K   \u001b[90m━━━━━━━━━━━━━━━━━━━━━━━━━━━━━━━━━━━━━━━━\u001b[0m \u001b[32m127.9/127.9 MB\u001b[0m \u001b[31m7.5 MB/s\u001b[0m eta \u001b[36m0:00:00\u001b[0m\n",
            "\u001b[2K   \u001b[90m━━━━━━━━━━━━━━━━━━━━━━━━━━━━━━━━━━━━━━━━\u001b[0m \u001b[32m207.5/207.5 MB\u001b[0m \u001b[31m6.0 MB/s\u001b[0m eta \u001b[36m0:00:00\u001b[0m\n",
            "\u001b[2K   \u001b[90m━━━━━━━━━━━━━━━━━━━━━━━━━━━━━━━━━━━━━━━━\u001b[0m \u001b[32m21.1/21.1 MB\u001b[0m \u001b[31m70.0 MB/s\u001b[0m eta \u001b[36m0:00:00\u001b[0m\n",
            "\u001b[?25h"
          ]
        }
      ],
      "source": [
        "!pip install -q sentence-transformers faiss-cpu"
      ]
    },
    {
      "cell_type": "code",
      "execution_count": null,
      "metadata": {
        "colab": {
          "background_save": true
        },
        "id": "pd3U-HMkMYI6"
      },
      "outputs": [],
      "source": [
        "documents = [\n",
        "    \"The capital of France is Paris.\",\n",
        "    \"Python is a popular programming language.\",\n",
        "    \"The Eiffel Tower is located in Paris.\",\n",
        "    \"Machine learning is a subset of artificial intelligence.\",\n",
        "    \"The Great Wall of China is one of the Seven Wonders of the World.\",\n",
        "    \"Deep learning is a type of machine learning.\",\n",
        "]"
      ]
    },
    {
      "cell_type": "code",
      "execution_count": null,
      "metadata": {
        "colab": {
          "background_save": true,
          "base_uri": "https://localhost:8080/",
          "height": 386,
          "referenced_widgets": [
            "11ad0ad10ffc468bb01a5119fc5011f3",
            "59ab8dd669e4447b8c07df22eea0aea2",
            "e3f440061b20452793b1b80940544239",
            "23a196481df54cd697d3d3d073684b60",
            "cdbd843e58564746bd2e0f8170e4dc67",
            "1b5d23d9d14c47ef860c579093faab42",
            "86368c4190f64eabb976e10b67081393",
            "f1bf270d307c481b972bda1dee19a859",
            "2fadf5fe7c3e49f4b80db440a438ef98",
            "9ccbeb8fc26849d98d5cd50560fba888",
            "a7bf14896ca8483b8846aeb0244ce7a4"
          ]
        },
        "id": "yJ08reIqMYGR",
        "outputId": "3236a392-71bd-491c-e2c8-b184100694be"
      },
      "outputs": [
        {
          "name": "stderr",
          "output_type": "stream",
          "text": [
            "/usr/local/lib/python3.11/dist-packages/huggingface_hub/utils/_auth.py:104: UserWarning: \n",
            "Error while fetching `HF_TOKEN` secret value from your vault: 'Requesting secret HF_TOKEN timed out. Secrets can only be fetched when running from the Colab UI.'.\n",
            "You are not authenticated with the Hugging Face Hub in this notebook.\n",
            "If the error persists, please let us know by opening an issue on GitHub (https://github.com/huggingface/huggingface_hub/issues/new).\n",
            "  warnings.warn(\n"
          ]
        },
        {
          "data": {
            "application/vnd.jupyter.widget-view+json": {
              "model_id": "11ad0ad10ffc468bb01a5119fc5011f3",
              "version_major": 2,
              "version_minor": 0
            },
            "text/plain": [
              "modules.json:   0%|          | 0.00/349 [00:00<?, ?B/s]"
            ]
          },
          "metadata": {},
          "output_type": "display_data"
        },
        {
          "data": {
            "application/vnd.jupyter.widget-view+json": {
              "model_id": "59ab8dd669e4447b8c07df22eea0aea2",
              "version_major": 2,
              "version_minor": 0
            },
            "text/plain": [
              "config_sentence_transformers.json:   0%|          | 0.00/116 [00:00<?, ?B/s]"
            ]
          },
          "metadata": {},
          "output_type": "display_data"
        },
        {
          "data": {
            "application/vnd.jupyter.widget-view+json": {
              "model_id": "e3f440061b20452793b1b80940544239",
              "version_major": 2,
              "version_minor": 0
            },
            "text/plain": [
              "README.md:   0%|          | 0.00/10.7k [00:00<?, ?B/s]"
            ]
          },
          "metadata": {},
          "output_type": "display_data"
        },
        {
          "data": {
            "application/vnd.jupyter.widget-view+json": {
              "model_id": "23a196481df54cd697d3d3d073684b60",
              "version_major": 2,
              "version_minor": 0
            },
            "text/plain": [
              "sentence_bert_config.json:   0%|          | 0.00/53.0 [00:00<?, ?B/s]"
            ]
          },
          "metadata": {},
          "output_type": "display_data"
        },
        {
          "data": {
            "application/vnd.jupyter.widget-view+json": {
              "model_id": "cdbd843e58564746bd2e0f8170e4dc67",
              "version_major": 2,
              "version_minor": 0
            },
            "text/plain": [
              "config.json:   0%|          | 0.00/612 [00:00<?, ?B/s]"
            ]
          },
          "metadata": {},
          "output_type": "display_data"
        },
        {
          "data": {
            "application/vnd.jupyter.widget-view+json": {
              "model_id": "1b5d23d9d14c47ef860c579093faab42",
              "version_major": 2,
              "version_minor": 0
            },
            "text/plain": [
              "model.safetensors:   0%|          | 0.00/90.9M [00:00<?, ?B/s]"
            ]
          },
          "metadata": {},
          "output_type": "display_data"
        },
        {
          "data": {
            "application/vnd.jupyter.widget-view+json": {
              "model_id": "86368c4190f64eabb976e10b67081393",
              "version_major": 2,
              "version_minor": 0
            },
            "text/plain": [
              "tokenizer_config.json:   0%|          | 0.00/350 [00:00<?, ?B/s]"
            ]
          },
          "metadata": {},
          "output_type": "display_data"
        },
        {
          "data": {
            "application/vnd.jupyter.widget-view+json": {
              "model_id": "f1bf270d307c481b972bda1dee19a859",
              "version_major": 2,
              "version_minor": 0
            },
            "text/plain": [
              "vocab.txt:   0%|          | 0.00/232k [00:00<?, ?B/s]"
            ]
          },
          "metadata": {},
          "output_type": "display_data"
        },
        {
          "data": {
            "application/vnd.jupyter.widget-view+json": {
              "model_id": "2fadf5fe7c3e49f4b80db440a438ef98",
              "version_major": 2,
              "version_minor": 0
            },
            "text/plain": [
              "tokenizer.json:   0%|          | 0.00/466k [00:00<?, ?B/s]"
            ]
          },
          "metadata": {},
          "output_type": "display_data"
        },
        {
          "data": {
            "application/vnd.jupyter.widget-view+json": {
              "model_id": "9ccbeb8fc26849d98d5cd50560fba888",
              "version_major": 2,
              "version_minor": 0
            },
            "text/plain": [
              "special_tokens_map.json:   0%|          | 0.00/112 [00:00<?, ?B/s]"
            ]
          },
          "metadata": {},
          "output_type": "display_data"
        },
        {
          "data": {
            "application/vnd.jupyter.widget-view+json": {
              "model_id": "a7bf14896ca8483b8846aeb0244ce7a4",
              "version_major": 2,
              "version_minor": 0
            },
            "text/plain": [
              "1_Pooling/config.json:   0%|          | 0.00/190 [00:00<?, ?B/s]"
            ]
          },
          "metadata": {},
          "output_type": "display_data"
        },
        {
          "name": "stdout",
          "output_type": "stream",
          "text": [
            "document shape is (6, 384)\n"
          ]
        }
      ],
      "source": [
        "#generate document embedding\n",
        "from sentence_transformers import SentenceTransformer\n",
        "model = SentenceTransformer('all-MiniLM-L6-v2')\n",
        "document_embeddings = model.encode(documents)\n",
        "print(f\"document shape is {document_embeddings.shape}\")"
      ]
    },
    {
      "cell_type": "code",
      "execution_count": null,
      "metadata": {
        "colab": {
          "background_save": true,
          "base_uri": "https://localhost:8080/"
        },
        "id": "KSALiG8fMYEF",
        "outputId": "fb0adab7-7038-40ac-b333-ae213ca88c28"
      },
      "outputs": [
        {
          "name": "stdout",
          "output_type": "stream",
          "text": [
            "index size is 6\n"
          ]
        }
      ],
      "source": [
        "\"\"\"\n",
        "FAISS (Facebook AI Similarity Search) is a library for efficient similarity search. We’ll use it to index the document embeddings.\n",
        "\"\"\"\n",
        "#build FAISS index\n",
        "import faiss\n",
        "dimension = document_embeddings.shape[1]\n",
        "index = faiss.IndexFlatIP(dimension) #IndexFlatIP: Uses inner product for similarity (equivalent to cosine similarity for normalized vectors).\n",
        "\n",
        "\n",
        "index.add(document_embeddings)#index.add: Adds the embeddings to the index.\n",
        "\n",
        "\n",
        "print(f\"index size is {index.ntotal}\")"
      ]
    },
    {
      "cell_type": "code",
      "execution_count": null,
      "metadata": {
        "colab": {
          "background_save": true,
          "base_uri": "https://localhost:8080/"
        },
        "id": "G4wrB71WMYBl",
        "outputId": "0a87f6a4-9ae1-4e3f-9b8c-fcccf53135ec"
      },
      "outputs": [
        {
          "name": "stdout",
          "output_type": "stream",
          "text": [
            "query: What is the capital of France?\n",
            "result 1: The capital of France is Paris. (score: 0.8790)\n",
            "result 2: The Eiffel Tower is located in Paris. (score: 0.4122)\n",
            "result 3: The Great Wall of China is one of the Seven Wonders of the World. (score: 0.1806)\n",
            "result 4: Python is a popular programming language. (score: 0.1189)\n",
            "result 5: Machine learning is a subset of artificial intelligence. (score: 0.0506)\n"
          ]
        }
      ],
      "source": [
        "\"\"\"\n",
        "Now that the index is built, let’s test it by querying for similar documents.\n",
        "\"\"\"\n",
        "query = \"What is the capital of France?\"\n",
        "query_embedding = model.encode([query])\n",
        "#search the index for the top_k most similarity\n",
        "k = 5\n",
        "distances, indices = index.search(query_embedding, k)\n",
        "#result\n",
        "print(\"query:\", query)\n",
        "for i , idx in enumerate(indices[0]):\n",
        "  print(f\"result {i+1}: {documents[idx]} (score: {distances[0][i]:.4f})\")\n"
      ]
    },
    {
      "cell_type": "code",
      "execution_count": null,
      "metadata": {
        "colab": {
          "background_save": true
        },
        "id": "X25At1K7PAyC"
      },
      "outputs": [],
      "source": [
        "#save the index\n",
        "faiss.write_index(index, \"index.faiss\")"
      ]
    },
    {
      "cell_type": "code",
      "execution_count": null,
      "metadata": {
        "colab": {
          "background_save": true,
          "base_uri": "https://localhost:8080/"
        },
        "id": "z8d40OojPAvr",
        "outputId": "4e431615-9f63-48e1-f00c-7386da848788"
      },
      "outputs": [
        {
          "name": "stdout",
          "output_type": "stream",
          "text": [
            "6\n"
          ]
        }
      ],
      "source": [
        "#load index\n",
        "index = faiss.read_index(\"index.faiss\")\n",
        "print(index.ntotal)"
      ]
    },
    {
      "cell_type": "code",
      "execution_count": null,
      "metadata": {
        "colab": {
          "background_save": true,
          "base_uri": "https://localhost:8080/",
          "height": 35
        },
        "id": "kqaaVyZnRupH",
        "outputId": "77ac1100-9595-4094-cd2e-686d2222f143"
      },
      "outputs": [
        {
          "data": {
            "application/vnd.google.colaboratory.intrinsic+json": {
              "type": "string"
            },
            "text/plain": [
              "'           SUMMARY       '"
            ]
          },
          "execution_count": 8,
          "metadata": {},
          "output_type": "execute_result"
        }
      ],
      "source": [
        "\"\"\"           SUMMARY       \"\"\"\n",
        "# You’ve learned how to:\n",
        "\n",
        "# Generate document embeddings using Sentence Transformers.\n",
        "\n",
        "# Build a FAISS index for efficient similarity search.\n",
        "\n",
        "# Query the index to retrieve relevant documents.\n",
        "\n",
        "# Save and load the index for reuse.\n"
      ]
    },
    {
      "cell_type": "code",
      "execution_count": null,
      "metadata": {
        "colab": {
          "background_save": true
        },
        "id": "SmdYhKAPRui2"
      },
      "outputs": [],
      "source": []
    },
    {
      "cell_type": "markdown",
      "metadata": {
        "id": "ja1jXnXWS1FS"
      },
      "source": [
        "# Retrieval"
      ]
    },
    {
      "cell_type": "markdown",
      "metadata": {
        "id": "_sWjCLIkRugi"
      },
      "source": [
        "###Improve Retrieval Quality\n",
        "To improve retrieval quality, consider the following techniques:\n",
        "\n",
        "Normalize Embeddings\n",
        "\n",
        "Use a better embedding model\n",
        "\n",
        "hybrid retrieval\n",
        "\n"
      ]
    },
    {
      "cell_type": "code",
      "execution_count": null,
      "metadata": {
        "colab": {
          "background_save": true
        },
        "id": "glfvhy0tRufI"
      },
      "outputs": [],
      "source": [
        "# #1. Normalize Embeddings\n",
        "# import numpy as np\n",
        "# #normalize embedding\n",
        "# NE_document_embeddings = document_embeddings / np.linalg.norm(document_embeddings, axis=1, keepdims=True)\n",
        "\n",
        "# #rebuild the index\n",
        "# index = faiss.IndexFlatIP(dimension)\n",
        "# index.add(document_embeddings)\n",
        "\n",
        "# #normalize query embedding\n",
        "# NE_query_embedding = query_embedding / np.linalg.norm(query_embedding)\n",
        "\n"
      ]
    },
    {
      "cell_type": "code",
      "execution_count": null,
      "metadata": {
        "colab": {
          "background_save": true
        },
        "id": "ggPY9uMMUHuf"
      },
      "outputs": [],
      "source": [
        "# #2. Use a Better Embedding Model\n",
        "# model = SentenceTransformer('all-mpnet-base-v2')\n",
        "# New_document_embeddings = model.encode(documents)\n",
        "# New_query_embedding = model.encode([query])"
      ]
    },
    {
      "cell_type": "code",
      "execution_count": null,
      "metadata": {
        "colab": {
          "background_save": true,
          "base_uri": "https://localhost:8080/",
          "height": 52
        },
        "id": "TGr0Tv2iUHrk",
        "outputId": "7160d246-6d47-4808-8bcd-671283c239d4"
      },
      "outputs": [
        {
          "data": {
            "application/vnd.google.colaboratory.intrinsic+json": {
              "type": "string"
            },
            "text/plain": [
              "'3. Hybrid Retrieval\\nCombine dense retrieval (using embeddings) with sparse retrieval (e.g., BM25) for better results.\\nLibraries like Haystack or Pyserini can help with this.\\n'"
            ]
          },
          "execution_count": 11,
          "metadata": {},
          "output_type": "execute_result"
        }
      ],
      "source": [
        "\"\"\"3. Hybrid Retrieval\n",
        "Combine dense retrieval (using embeddings) with sparse retrieval (e.g., BM25) for better results.\n",
        "Libraries like Haystack or Pyserini can help with this.\n",
        "\"\"\"\n"
      ]
    },
    {
      "cell_type": "markdown",
      "metadata": {
        "id": "9WkvSIIVUHil"
      },
      "source": [
        "###Advanced Retrieval with Filters"
      ]
    },
    {
      "cell_type": "code",
      "execution_count": null,
      "metadata": {
        "colab": {
          "background_save": true,
          "base_uri": "https://localhost:8080/"
        },
        "id": "tBTgocZPUHeZ",
        "outputId": "1a8a3631-ce8d-43b6-b46e-ee1703106381"
      },
      "outputs": [
        {
          "name": "stdout",
          "output_type": "stream",
          "text": [
            "query: What is the capital of France?\n",
            "result 1: The capital of France is Paris. (score: 0.8790)\n",
            "result 2: The Eiffel Tower is located in Paris. (score: 0.4122)\n"
          ]
        }
      ],
      "source": [
        "import numpy as np\n",
        "#define a list of allowed document ids\n",
        "allowed_ids = [0, 2, 4]\n",
        "\n",
        "#create a mask for allowed ids\n",
        "mask = np.zeros(index.ntotal, dtype= bool)\n",
        "mask[allowed_ids] = True\n",
        "\n",
        "k=2\n",
        "#perform search with filtering\n",
        "distances, indices = index.search(query_embedding, k)\n",
        "filtered_indices = [idx for idx in indices[0] if mask[idx]]\n",
        "\n",
        "#display results\n",
        "print(\"query:\", query)\n",
        "for i, idx in enumerate(filtered_indices):\n",
        "  print(f\"result {i+1}: {documents[idx]} (score: {distances[0][i]:.4f})\")"
      ]
    },
    {
      "cell_type": "code",
      "execution_count": null,
      "metadata": {
        "colab": {
          "background_save": true
        },
        "id": "LGTPKKghUHcG",
        "outputId": "17689a7b-0a00-4633-94c3-53f467821f32"
      },
      "outputs": [
        {
          "data": {
            "application/vnd.google.colaboratory.intrinsic+json": {
              "type": "string"
            },
            "text/plain": [
              "'SUMMARY'"
            ]
          },
          "execution_count": 13,
          "metadata": {},
          "output_type": "execute_result"
        }
      ],
      "source": [
        "\"\"\"SUMMARY\"\"\"\n",
        "# You’ve learned how to retrieve documents using a FAISS index.\n",
        "\n",
        "# You’ve explored techniques to improve retrieval quality, such as normalization, better embedding models, and hybrid retrieval.\n",
        "\n",
        "# You’ve also learned how to filter results and evaluate retrieval performance.\n",
        "\n"
      ]
    },
    {
      "cell_type": "code",
      "execution_count": null,
      "metadata": {
        "colab": {
          "background_save": true
        },
        "id": "UmYgHrlNUHaf"
      },
      "outputs": [],
      "source": []
    },
    {
      "cell_type": "markdown",
      "metadata": {
        "id": "SxfGAHSBbARG"
      },
      "source": [
        "# Generation"
      ]
    },
    {
      "cell_type": "markdown",
      "metadata": {
        "id": "lold4Q82VycX"
      },
      "source": [
        "Step 1: Understand the Generator\n",
        "The generator is a sequence-to-sequence (seq2seq) model that takes the retrieved documents and the query as input and generates a coherent response. Popular models for this task include:\n",
        "\n",
        "BART (Bidirectional and Auto-Regressive Transformer)\n",
        "\n",
        "T5 (Text-To-Text Transfer Transformer)\n",
        "\n",
        "These models are pre-trained on large datasets and fine-tuned for tasks like question answering, summarization, and dialogue."
      ]
    },
    {
      "cell_type": "code",
      "execution_count": null,
      "metadata": {
        "colab": {
          "background_save": true
        },
        "id": "ug2IRWjlVyYU"
      },
      "outputs": [],
      "source": [
        "!pip install -q transformers"
      ]
    },
    {
      "cell_type": "code",
      "execution_count": null,
      "metadata": {
        "colab": {
          "background_save": true,
          "base_uri": "https://localhost:8080/",
          "height": 209,
          "referenced_widgets": [
            "6e3572c3820b448aa9b083b87aee5a90",
            "334c09191d5944eaaa059e2838db3dfd",
            "f5b1d53d1776424cbf951f2a4d883426",
            "3a057d67b77c45e0b0c4810a6590ab89",
            "b595c79f6dd74648a0f7299f7279ba2e",
            "4979c4d4089a4399981b378e4d71b106"
          ]
        },
        "id": "Agp5eURBVyW5",
        "outputId": "eff2d0bb-ec2a-4f26-92a0-253235d04b8d"
      },
      "outputs": [
        {
          "data": {
            "application/vnd.jupyter.widget-view+json": {
              "model_id": "6e3572c3820b448aa9b083b87aee5a90",
              "version_major": 2,
              "version_minor": 0
            },
            "text/plain": [
              "tokenizer_config.json:   0%|          | 0.00/26.0 [00:00<?, ?B/s]"
            ]
          },
          "metadata": {},
          "output_type": "display_data"
        },
        {
          "data": {
            "application/vnd.jupyter.widget-view+json": {
              "model_id": "334c09191d5944eaaa059e2838db3dfd",
              "version_major": 2,
              "version_minor": 0
            },
            "text/plain": [
              "vocab.json:   0%|          | 0.00/899k [00:00<?, ?B/s]"
            ]
          },
          "metadata": {},
          "output_type": "display_data"
        },
        {
          "data": {
            "application/vnd.jupyter.widget-view+json": {
              "model_id": "f5b1d53d1776424cbf951f2a4d883426",
              "version_major": 2,
              "version_minor": 0
            },
            "text/plain": [
              "merges.txt:   0%|          | 0.00/456k [00:00<?, ?B/s]"
            ]
          },
          "metadata": {},
          "output_type": "display_data"
        },
        {
          "data": {
            "application/vnd.jupyter.widget-view+json": {
              "model_id": "3a057d67b77c45e0b0c4810a6590ab89",
              "version_major": 2,
              "version_minor": 0
            },
            "text/plain": [
              "tokenizer.json:   0%|          | 0.00/1.36M [00:00<?, ?B/s]"
            ]
          },
          "metadata": {},
          "output_type": "display_data"
        },
        {
          "data": {
            "application/vnd.jupyter.widget-view+json": {
              "model_id": "b595c79f6dd74648a0f7299f7279ba2e",
              "version_major": 2,
              "version_minor": 0
            },
            "text/plain": [
              "config.json:   0%|          | 0.00/1.63k [00:00<?, ?B/s]"
            ]
          },
          "metadata": {},
          "output_type": "display_data"
        },
        {
          "data": {
            "application/vnd.jupyter.widget-view+json": {
              "model_id": "4979c4d4089a4399981b378e4d71b106",
              "version_major": 2,
              "version_minor": 0
            },
            "text/plain": [
              "pytorch_model.bin:   0%|          | 0.00/1.02G [00:00<?, ?B/s]"
            ]
          },
          "metadata": {},
          "output_type": "display_data"
        }
      ],
      "source": [
        "#load a pretraained generator\n",
        "from transformers import BartTokenizer, BartForConditionalGeneration\n",
        "\n",
        "#load a pre trained BART model and tokenizer\n",
        "tokenizer = BartTokenizer.from_pretrained('facebook/bart-large')\n",
        "model = BartForConditionalGeneration.from_pretrained('facebook/bart-large')"
      ]
    },
    {
      "cell_type": "code",
      "execution_count": null,
      "metadata": {
        "colab": {
          "background_save": true,
          "base_uri": "https://localhost:8080/"
        },
        "id": "xyxB2OD0bcJ7",
        "outputId": "e750c79d-092f-4c9c-d528-f7b26a2314a3"
      },
      "outputs": [
        {
          "name": "stdout",
          "output_type": "stream",
          "text": [
            "Input to Generator: Query: What is the capital of France?  Documents: The capital of France is Paris. The Eiffel Tower is located in Paris.\n"
          ]
        }
      ],
      "source": [
        "#prepare input for generation\n",
        "query = \"What is the capital of France?\"\n",
        "retrieved_documents = [\n",
        "    \"The capital of France is Paris.\",\n",
        "    \"The Eiffel Tower is located in Paris.\",\n",
        "]\n",
        "\n",
        "#conccatenate query and documents\n",
        "input_text = f\"Query: {query}  Documents: {' '.join(retrieved_documents)}\"\n",
        "print(\"Input to Generator:\", input_text)"
      ]
    },
    {
      "cell_type": "code",
      "execution_count": null,
      "metadata": {
        "colab": {
          "background_save": true,
          "base_uri": "https://localhost:8080/"
        },
        "id": "AGqs7EDZbcHA",
        "outputId": "3044f1c4-b375-45b8-fde4-b3bcd1b2cbac"
      },
      "outputs": [
        {
          "name": "stdout",
          "output_type": "stream",
          "text": [
            "Generated Response: Query: What is the capital of France?  Documents: The city of France is Paris. The Eiffel Tower is located in Paris.\n"
          ]
        }
      ],
      "source": [
        "#generate the response\n",
        "\n",
        "#tokenize the input\n",
        "inputs = tokenizer(input_text, return_tensors='pt', max_length=1024, truncation=True)\n",
        "\n",
        "#generate the response\n",
        "output_ids = model.generate(inputs['input_ids'], num_beams=4, max_length=100, early_stopping=True)\n",
        "\n",
        "#decode the response\n",
        "response = tokenizer.decode(output_ids[0], skip_special_tokens=True)\n",
        "print(\"Generated Response:\", response)"
      ]
    },
    {
      "cell_type": "markdown",
      "metadata": {
        "id": "N5U-QTXtiVvM"
      },
      "source": [
        "###FULL RAG PIPELINE"
      ]
    },
    {
      "cell_type": "code",
      "execution_count": null,
      "metadata": {
        "colab": {
          "background_save": true
        },
        "id": "9IjmpBr5cPwp",
        "outputId": "29a34fd0-e14e-4e15-82e5-b27e09dbfce5"
      },
      "outputs": [
        {
          "name": "stdout",
          "output_type": "stream",
          "text": [
            "Query: What is the capital of France?\n",
            "Retrieved Documents: ['The capital of France is Paris.', 'The Eiffel Tower is located in Paris.']\n",
            "Generated Response: Query: What is the capital of France?  Documents: The city of France is Paris. The Eiffel Tower is located in Paris.\n"
          ]
        }
      ],
      "source": [
        "## Full RAG Pipeline\n",
        "\n",
        "from sentence_transformers import SentenceTransformer\n",
        "import faiss\n",
        "import numpy as np\n",
        "from transformers import BartTokenizer, BartForConditionalGeneration\n",
        "\n",
        "\n",
        "#step 1: Indexing\n",
        "documents = [\n",
        "    \"The capital of France is Paris.\",\n",
        "    \"Python is a popular programming language.\",\n",
        "    \"The Eiffel Tower is located in Paris.\",\n",
        "    \"Machine learning is a subset of artificial intelligence.\",\n",
        "    \"The Great Wall of China is one of the Seven Wonders of the World.\",\n",
        "    \"Deep learning is a type of machine learning.\",\n",
        "]\n",
        "model = SentenceTransformer('all-MiniLM-L6-v2')\n",
        "document_embeddings = model.encode(documents)\n",
        "dimension = document_embeddings.shape[1]\n",
        "index = faiss.IndexFlatIP(dimension)\n",
        "index.add(document_embeddings)\n",
        "# print(f\"index size is {index.ntotal}\")\n",
        "\n",
        "#step 2: retrieval\n",
        "query = \"What is the capital of France?\"\n",
        "query_embedding = model.encode([query])\n",
        "k = 2\n",
        "distances, indices = index.search(query_embedding, k)\n",
        "retrieved_documents = [documents[idx] for idx in indices[0]]\n",
        "\n",
        "#step 3: generation\n",
        "input_text = f\"Query: {query}  Documents: {' '.join(retrieved_documents)}\"\n",
        "tokenizer = BartTokenizer.from_pretrained('facebook/bart-large')\n",
        "model = BartForConditionalGeneration.from_pretrained('facebook/bart-large')\n",
        "inputs = tokenizer(input_text, return_tensors='pt', max_length=1024, truncation=True)\n",
        "output_ids = model.generate(inputs['input_ids'], num_beams=4, max_length=100, early_stopping=True)\n",
        "response = tokenizer.decode(output_ids[0], skip_special_tokens=True)\n",
        "\n",
        "\n",
        "print(\"Query:\", query)\n",
        "print(\"Retrieved Documents:\", retrieved_documents)\n",
        "print(\"Generated Response:\", response)"
      ]
    },
    {
      "cell_type": "code",
      "execution_count": null,
      "metadata": {
        "colab": {
          "background_save": true
        },
        "id": "_UtKcT9EcPtV",
        "outputId": "cfd1dc3f-278b-45d2-faac-383d7f0311e7"
      },
      "outputs": [
        {
          "data": {
            "application/vnd.google.colaboratory.intrinsic+json": {
              "type": "string"
            },
            "text/plain": [
              "'from transformers import Seq2SeqTrainingArguments, Seq2SeqTrainer\\n\\n# Prepare your dataset (e.g., SQuAD for QA)\\n# Fine-tune the generator using Seq2SeqTrainer\\ntraining_args = Seq2SeqTrainingArguments(\\n    output_dir=\"./results\",\\n    evaluation_strategy=\"epoch\",\\n    learning_rate=2e-5,\\n    per_device_train_batch_size=8,\\n    num_train_epochs=3,\\n)\\n\\ntrainer = Seq2SeqTrainer(\\n    model=generator,\\n    args=training_args,\\n    train_dataset=train_dataset,  # Your training dataset\\n    eval_dataset=eval_dataset,    # Your evaluation dataset\\n)\\n\\ntrainer.train()'"
            ]
          },
          "execution_count": 19,
          "metadata": {},
          "output_type": "execute_result"
        }
      ],
      "source": [
        "#Fine-Tune the Generator (Optional)\n",
        "\n",
        "\"\"\"from transformers import Seq2SeqTrainingArguments, Seq2SeqTrainer\n",
        "\n",
        "# Prepare your dataset (e.g., SQuAD for QA)\n",
        "# Fine-tune the generator using Seq2SeqTrainer\n",
        "training_args = Seq2SeqTrainingArguments(\n",
        "    output_dir=\"./results\",\n",
        "    evaluation_strategy=\"epoch\",\n",
        "    learning_rate=2e-5,\n",
        "    per_device_train_batch_size=8,\n",
        "    num_train_epochs=3,\n",
        ")\n",
        "\n",
        "trainer = Seq2SeqTrainer(\n",
        "    model=generator,\n",
        "    args=training_args,\n",
        "    train_dataset=train_dataset,  # Your training dataset\n",
        "    eval_dataset=eval_dataset,    # Your evaluation dataset\n",
        ")\n",
        "\n",
        "trainer.train()\"\"\""
      ]
    },
    {
      "cell_type": "markdown",
      "metadata": {
        "id": "BUSLsd5mcPoY"
      },
      "source": [
        "#Query Translation (Multi-Query)"
      ]
    },
    {
      "cell_type": "markdown",
      "metadata": {
        "id": "5XN3I3sJcPm0"
      },
      "source": [
        "a technique used to improve retrieval performance by generating multiple variations of a query and retrieving documents for each variation. This approach is particularly useful when the original query is ambiguous or when you want to capture different aspects of the query."
      ]
    },
    {
      "cell_type": "code",
      "execution_count": null,
      "metadata": {
        "colab": {
          "background_save": true
        },
        "id": "7SL1OjH2pFhZ"
      },
      "outputs": [],
      "source": [
        "!pip install -q transformers sentence-transformers faiss-cpu"
      ]
    },
    {
      "cell_type": "code",
      "execution_count": null,
      "metadata": {
        "colab": {
          "background_save": true,
          "referenced_widgets": [
            "7fd6b7167b024c0abda3248bc7174dba",
            "2300d3ebe94b4bbdb14e057b1b4e8d7b",
            "1da93c3119b54a6d8357efec08257bb9",
            "c85fe7db26074533a0b9a0db6e2147fb",
            "901e9ccabdb048e3affad27c40f71d1b",
            "8abbd121ae024264a9f00b651cabcee6"
          ]
        },
        "id": "vCeQCjXNpFeF",
        "outputId": "360a4294-4a02-4cab-f0d8-020f4e1a48da"
      },
      "outputs": [
        {
          "data": {
            "application/vnd.jupyter.widget-view+json": {
              "model_id": "7fd6b7167b024c0abda3248bc7174dba",
              "version_major": 2,
              "version_minor": 0
            },
            "text/plain": [
              "tokenizer_config.json:   0%|          | 0.00/2.32k [00:00<?, ?B/s]"
            ]
          },
          "metadata": {},
          "output_type": "display_data"
        },
        {
          "data": {
            "application/vnd.jupyter.widget-view+json": {
              "model_id": "2300d3ebe94b4bbdb14e057b1b4e8d7b",
              "version_major": 2,
              "version_minor": 0
            },
            "text/plain": [
              "spiece.model:   0%|          | 0.00/792k [00:00<?, ?B/s]"
            ]
          },
          "metadata": {},
          "output_type": "display_data"
        },
        {
          "data": {
            "application/vnd.jupyter.widget-view+json": {
              "model_id": "1da93c3119b54a6d8357efec08257bb9",
              "version_major": 2,
              "version_minor": 0
            },
            "text/plain": [
              "tokenizer.json:   0%|          | 0.00/1.39M [00:00<?, ?B/s]"
            ]
          },
          "metadata": {},
          "output_type": "display_data"
        },
        {
          "name": "stderr",
          "output_type": "stream",
          "text": [
            "You are using the default legacy behaviour of the <class 'transformers.models.t5.tokenization_t5.T5Tokenizer'>. This is expected, and simply means that the `legacy` (previous) behavior will be used so nothing changes for you. If you want to use the new behaviour, set `legacy=False`. This should only be set if you understand what it means, and thoroughly read the reason why this was added as explained in https://github.com/huggingface/transformers/pull/24565\n"
          ]
        },
        {
          "data": {
            "application/vnd.jupyter.widget-view+json": {
              "model_id": "c85fe7db26074533a0b9a0db6e2147fb",
              "version_major": 2,
              "version_minor": 0
            },
            "text/plain": [
              "config.json:   0%|          | 0.00/1.21k [00:00<?, ?B/s]"
            ]
          },
          "metadata": {},
          "output_type": "display_data"
        },
        {
          "data": {
            "application/vnd.jupyter.widget-view+json": {
              "model_id": "901e9ccabdb048e3affad27c40f71d1b",
              "version_major": 2,
              "version_minor": 0
            },
            "text/plain": [
              "model.safetensors:   0%|          | 0.00/242M [00:00<?, ?B/s]"
            ]
          },
          "metadata": {},
          "output_type": "display_data"
        },
        {
          "data": {
            "application/vnd.jupyter.widget-view+json": {
              "model_id": "8abbd121ae024264a9f00b651cabcee6",
              "version_major": 2,
              "version_minor": 0
            },
            "text/plain": [
              "generation_config.json:   0%|          | 0.00/147 [00:00<?, ?B/s]"
            ]
          },
          "metadata": {},
          "output_type": "display_data"
        }
      ],
      "source": [
        "#Load a Pre-Trained T5 Model:\n",
        "from transformers import T5Tokenizer, T5ForConditionalGeneration\n",
        "\n",
        "tokenizer = T5Tokenizer.from_pretrained('t5-small')\n",
        "model = T5ForConditionalGeneration.from_pretrained('t5-small')"
      ]
    },
    {
      "cell_type": "code",
      "execution_count": null,
      "metadata": {
        "colab": {
          "background_save": true,
          "base_uri": "https://localhost:8080/"
        },
        "id": "4dmK-aRmpFcD",
        "outputId": "70d1d046-fe54-4982-92ec-1f27546657a6"
      },
      "outputs": [
        {
          "name": "stdout",
          "output_type": "stream",
          "text": [
            "Query Variations: ['France', 'France.', 'France?']\n"
          ]
        }
      ],
      "source": [
        "#Generate Query Variations:\n",
        "\n",
        "def generate_query_variations(query, num_variations = 3):\n",
        "  input_text = f\"generate {num_variations} variations of this query: {query}\"\n",
        "  inputs = tokenizer(input_text, return_tensors='pt', max_length=512, truncation=True)\n",
        "  output_ids = model.generate(inputs['input_ids'],num_return_sequences = num_variations ,num_beams=4, max_length=50, early_stopping=True)\n",
        "  variations = [tokenizer.decode(output_id, skip_special_tokens=True) for output_id in output_ids]\n",
        "  return variations\n",
        "\n",
        "#example query\n",
        "query = \"What is the capital of France?\"\n",
        "variations = generate_query_variations(query)\n",
        "print(\"Query Variations:\", variations)"
      ]
    },
    {
      "cell_type": "code",
      "execution_count": null,
      "metadata": {
        "colab": {
          "background_save": true
        },
        "id": "P8ZC1l1mpaR4"
      },
      "outputs": [],
      "source": [
        "\"\"\"Set Up the Retriever: \"\"\"\n",
        "import faiss\n",
        "from sentence_transformers import SentenceTransformer\n",
        "import numpy as np\n",
        "\n",
        "documents = [\n",
        "    \"The capital of France is Paris.\",\n",
        "    \"Python is a popular programming language.\",\n",
        "    \"The Eiffel Tower is located in Paris.\",\n",
        "    \"Machine learning is a subset of artificial intelligence.\",\n",
        "    \"The Great Wall of China is one of the Seven Wonders of the World.\",\n",
        "    \"Deep learning is a type of machine learning.\",\n",
        "    \"The Amazon River is a river in South America.\",\n",
        "]\n",
        "\n",
        "model = SentenceTransformer('all-MiniLM-L6-v2')\n",
        "document_embeddings = model.encode(documents)\n",
        "\n",
        "dimension = document_embeddings.shape[1]\n",
        "index = faiss.IndexFlatIP(dimension)\n",
        "index.add(document_embeddings)"
      ]
    },
    {
      "cell_type": "code",
      "execution_count": null,
      "metadata": {
        "colab": {
          "background_save": true,
          "base_uri": "https://localhost:8080/"
        },
        "id": "1Un_lH9fpaO0",
        "outputId": "0dd6584e-81e4-43b4-bfc4-8ee50281be0b"
      },
      "outputs": [
        {
          "name": "stdout",
          "output_type": "stream",
          "text": [
            "Query Variation: France\n",
            "Retrieved Document 1: The capital of France is Paris.\n",
            "Retrieved Document 2: The Eiffel Tower is located in Paris.\n",
            "Query Variation: France.\n",
            "Retrieved Document 1: The capital of France is Paris.\n",
            "Retrieved Document 2: The Eiffel Tower is located in Paris.\n",
            "Query Variation: France?\n",
            "Retrieved Document 1: The capital of France is Paris.\n",
            "Retrieved Document 2: The Eiffel Tower is located in Paris.\n"
          ]
        }
      ],
      "source": [
        "#Retrieve Documents for Each Variation:\n",
        "def retrieve_documents(query, k =2):\n",
        "  query_embedding = model.encode([query])\n",
        "  distances, indices = index.search(query_embedding, k)\n",
        "  retrieved_documents = [documents[idx] for idx in indices[0]]\n",
        "  return retrieved_documents\n",
        "\n",
        "#retrive documents for each query\n",
        "retrieved_docs = {}\n",
        "for variation in variations:\n",
        "  retrieved_docs[variation] = retrieve_documents(variation, k=2) # Use retrieved_docs instead of retrieved_documents\n",
        "\n",
        "#display results\n",
        "for variation, docs in retrieved_docs.items():\n",
        "  print(f\"Query Variation: {variation}\")\n",
        "  for i, doc in enumerate(docs):\n",
        "    print(f\"Retrieved Document {i+1}: {doc}\")\n"
      ]
    },
    {
      "cell_type": "code",
      "execution_count": null,
      "metadata": {
        "colab": {
          "background_save": true,
          "base_uri": "https://localhost:8080/"
        },
        "id": "4sKRSvPdpaLu",
        "outputId": "1a94f02c-7a56-4806-8980-dc7250474a71"
      },
      "outputs": [
        {
          "name": "stdout",
          "output_type": "stream",
          "text": [
            "Combined Documents:\n",
            "Document 1: The capital of France is Paris.\n",
            "Document 2: The Eiffel Tower is located in Paris.\n"
          ]
        }
      ],
      "source": [
        "# Combine and deduplicate documents\n",
        "all_docs = set()\n",
        "for docs in retrieved_docs.values():\n",
        "    all_docs.update(docs)\n",
        "\n",
        "print(\"Combined Documents:\")\n",
        "for i, doc in enumerate(all_docs):\n",
        "    print(f\"Document {i+1}: {doc}\")"
      ]
    },
    {
      "cell_type": "code",
      "execution_count": null,
      "metadata": {
        "colab": {
          "background_save": true,
          "base_uri": "https://localhost:8080/"
        },
        "id": "oUrLb5OJpaI1",
        "outputId": "f954c9ff-4918-4c01-9101-6f7a0b07cabb"
      },
      "outputs": [
        {
          "name": "stdout",
          "output_type": "stream",
          "text": [
            "Original Query Results: ['The capital of France is Paris.', 'The Eiffel Tower is located in Paris.']\n",
            "Query Translation Results: ['The capital of France is Paris.', 'The Eiffel Tower is located in Paris.']\n"
          ]
        }
      ],
      "source": [
        "#Evaluate Query Translation\n",
        "original_docs = retrieve_documents(query, k =2)\n",
        "print(\"Original Query Results:\", original_docs)\n",
        "\n",
        "# With query translation\n",
        "print(\"Query Translation Results:\", list(all_docs))"
      ]
    },
    {
      "cell_type": "code",
      "execution_count": null,
      "metadata": {
        "colab": {
          "background_save": true
        },
        "id": "Tw_REJYnpaF2",
        "outputId": "282999d2-8b26-4b68-a2fc-2b708bc836c6"
      },
      "outputs": [
        {
          "data": {
            "application/vnd.google.colaboratory.intrinsic+json": {
              "type": "string"
            },
            "text/plain": [
              "'Summary\\nYou’ve learned how to generate multiple query variations using a pre-trained language model (T5).\\n\\nYou’ve retrieved documents for each variation and combined the results to improve recall.\\n\\nYou’ve explored evaluation and advanced techniques for query translation.'"
            ]
          },
          "execution_count": 27,
          "metadata": {},
          "output_type": "execute_result"
        }
      ],
      "source": [
        "\"\"\"Summary\n",
        "You’ve learned how to generate multiple query variations using a pre-trained language model (T5).\n",
        "\n",
        "You’ve retrieved documents for each variation and combined the results to improve recall.\n",
        "\n",
        "You’ve explored evaluation and advanced techniques for query translation.\"\"\""
      ]
    },
    {
      "cell_type": "markdown",
      "metadata": {
        "id": "dabvW4I4paDF"
      },
      "source": [
        "# Query Translation (RAG Fusion)"
      ]
    },
    {
      "cell_type": "markdown",
      "metadata": {
        "id": "fWVBOfxhpaAw"
      },
      "source": [
        "an advanced technique that combines query translation with reciprocal rank fusion (RRF) to improve retrieval performance in a Retrieval-Augmented Generation (RAG) system. RAG Fusion enhances the retrieval process by generating multiple query variations, retrieving documents for each variation, and then fusing the results using RRF to produce a final ranked list of documents."
      ]
    },
    {
      "cell_type": "markdown",
      "metadata": {
        "id": "ps7Gl0-JpZ-_"
      },
      "source": [
        "What is RAG Fusion?\n",
        "RAG Fusion involves:\n",
        "\n",
        "Generating multiple query variations from the original query.\n",
        "\n",
        "Retrieving documents for each query variation.\n",
        "\n",
        "Fusing the results using reciprocal rank fusion (RRF) to produce a final ranked list.\n",
        "\n",
        "This approach improves retrieval performance by:\n",
        "\n",
        "Capturing diverse aspects of the query.\n",
        "\n",
        "Combining results from multiple retrieval runs to improve recall and relevance."
      ]
    },
    {
      "cell_type": "code",
      "execution_count": null,
      "metadata": {
        "colab": {
          "background_save": true
        },
        "id": "xU9sauF-wCUQ",
        "outputId": "7c8e77c3-2f20-4336-b51e-78339d930df5"
      },
      "outputs": [
        {
          "data": {
            "application/vnd.google.colaboratory.intrinsic+json": {
              "type": "string"
            },
            "text/plain": [
              "'Retrieve Documents for Each Variation:'"
            ]
          },
          "execution_count": 28,
          "metadata": {},
          "output_type": "execute_result"
        }
      ],
      "source": [
        "\"\"\"Generate Query Variations\"\"\"\n",
        "#already done above\n",
        "\"\"\"Set Up the Retriever:\"\"\"\n",
        "#do like done upwards\n",
        "\"\"\"Retrieve Documents for Each Variation:\"\"\"\n",
        "#same as done upwards\n",
        "\n"
      ]
    },
    {
      "cell_type": "code",
      "execution_count": null,
      "metadata": {
        "colab": {
          "background_save": true,
          "base_uri": "https://localhost:8080/"
        },
        "id": "s1kEax_hx8QG",
        "outputId": "9a3f3433-9db2-4f65-8708-1c32e00521e7"
      },
      "outputs": [
        {
          "name": "stdout",
          "output_type": "stream",
          "text": [
            "Fused Documents:\n",
            "Document 1: The capital of France is Paris.\n",
            "Document 2: The Eiffel Tower is located in Paris.\n"
          ]
        }
      ],
      "source": [
        "\"\"\"Fuse Results Using Reciprocal Rank Fusion (RRF)\"\"\"\n",
        "#implement RRF\n",
        "def reciprocal_rank_fusion(retrieved_docs, k = 60):\n",
        "  doc_scores = {}\n",
        "  for variations, docs in retrieved_docs.items():\n",
        "    for rank, doc in enumerate(docs, start = 1):\n",
        "      if doc not in doc_scores:\n",
        "        doc_scores[doc] = 0\n",
        "      doc_scores[doc] += 1/(k + rank)\n",
        "\n",
        "  #sort focuments by RRF score\n",
        "  sorted_docs = sorted(doc_scores.items(), key = lambda x: x[1], reverse = True)\n",
        "  return [doc for doc, score  in sorted_docs]\n",
        "\n",
        "#fuse results using RRF\n",
        "fused_docs = reciprocal_rank_fusion(retrieved_docs)\n",
        "print(\"Fused Documents:\")\n",
        "for i, doc in enumerate(fused_docs):\n",
        "  print(f\"Document {i+1}: {doc}\")"
      ]
    },
    {
      "cell_type": "code",
      "execution_count": null,
      "metadata": {
        "colab": {
          "background_save": true,
          "base_uri": "https://localhost:8080/"
        },
        "id": "fwPu2Ygux8M8",
        "outputId": "2eeffa31-853d-4c3f-e649-00410b0de3c4"
      },
      "outputs": [
        {
          "name": "stdout",
          "output_type": "stream",
          "text": [
            "Original Query Results: ['The capital of France is Paris.', 'The Eiffel Tower is located in Paris.']\n",
            "Query Translation and RRF Fusion Results: ['The capital of France is Paris.', 'The Eiffel Tower is located in Paris.']\n"
          ]
        }
      ],
      "source": [
        "\"\"\"Evaluate RAG Fusion\"\"\"\n",
        "original_docs = retrieve_documents(query, k =2)\n",
        "print(\"Original Query Results:\", original_docs)\n",
        "\n",
        "# With query translation and RRF fusion\n",
        "print(\"Query Translation and RRF Fusion Results:\", fused_docs)"
      ]
    },
    {
      "cell_type": "code",
      "execution_count": null,
      "metadata": {
        "colab": {
          "background_save": true
        },
        "id": "2wxSPgEBx8J0",
        "outputId": "bc4b0e98-7d5f-415f-d91e-898facd120ec"
      },
      "outputs": [
        {
          "data": {
            "application/vnd.google.colaboratory.intrinsic+json": {
              "type": "string"
            },
            "text/plain": [
              "'Summary\\nYou’ve learned how to generate multiple query variations using a pre-trained language model (T5).\\n\\nYou’ve retrieved documents for each variation and fused the results using reciprocal rank fusion (RRF).\\n\\nYou’ve explored evaluation and advanced techniques for RAG Fusion.\\n\\n'"
            ]
          },
          "execution_count": 31,
          "metadata": {},
          "output_type": "execute_result"
        }
      ],
      "source": [
        "\"\"\"Summary\n",
        "You’ve learned how to generate multiple query variations using a pre-trained language model (T5).\n",
        "\n",
        "You’ve retrieved documents for each variation and fused the results using reciprocal rank fusion (RRF).\n",
        "\n",
        "You’ve explored evaluation and advanced techniques for RAG Fusion.\n",
        "\n",
        "\"\"\""
      ]
    },
    {
      "cell_type": "markdown",
      "metadata": {
        "id": "rMBBULobx8HJ"
      },
      "source": [
        "#Query Translation (Decomposition)"
      ]
    },
    {
      "cell_type": "markdown",
      "metadata": {
        "id": "i5hsQHcgx8EY"
      },
      "source": [
        "What is Query Decomposition?\n",
        "\n",
        "Query decomposition involves:\n",
        "\n",
        "Breaking down a complex query into simpler sub-queries.\n",
        "\n",
        "Retrieving documents for each sub-query.\n",
        "\n",
        "Combining the results to produce a final set of relevant documents.\n",
        "\n",
        "This technique is especially helpful for:\n",
        "\n",
        "Multi-hop queries: Queries that require reasoning over multiple pieces of information (e.g., \"Who is the CEO of the company that makes the iPhone?\").\n",
        "\n",
        "Ambiguous queries: Queries that can be interpreted in multiple ways (e.g., \"What is the capital of the country with the largest population?\")."
      ]
    },
    {
      "cell_type": "code",
      "execution_count": null,
      "metadata": {
        "colab": {
          "background_save": true,
          "base_uri": "https://localhost:8080/",
          "height": 241,
          "referenced_widgets": [
            "4a070aceb20c4a9ca465b53bd1f18746",
            "701e3cb74fc44b8fa09f3e739a865aaf",
            "25cdedc1fdc64383be2c0a126a608e19",
            "aa9247551ad348d6856a909c613effb2",
            "a22462a8bb08411090d0ca459be5865e",
            "4ad7a186fba74dabb6c7d6a1ccf75549",
            "e26612219ce748a28921a2779aa1a6cf"
          ]
        },
        "id": "B7hSrs_y4fcV",
        "outputId": "240826a6-9b05-4a2a-bc6d-17c57e19c0b5"
      },
      "outputs": [
        {
          "data": {
            "application/vnd.jupyter.widget-view+json": {
              "model_id": "4a070aceb20c4a9ca465b53bd1f18746",
              "version_major": 2,
              "version_minor": 0
            },
            "text/plain": [
              "tokenizer_config.json:   0%|          | 0.00/2.54k [00:00<?, ?B/s]"
            ]
          },
          "metadata": {},
          "output_type": "display_data"
        },
        {
          "data": {
            "application/vnd.jupyter.widget-view+json": {
              "model_id": "701e3cb74fc44b8fa09f3e739a865aaf",
              "version_major": 2,
              "version_minor": 0
            },
            "text/plain": [
              "spiece.model:   0%|          | 0.00/792k [00:00<?, ?B/s]"
            ]
          },
          "metadata": {},
          "output_type": "display_data"
        },
        {
          "data": {
            "application/vnd.jupyter.widget-view+json": {
              "model_id": "25cdedc1fdc64383be2c0a126a608e19",
              "version_major": 2,
              "version_minor": 0
            },
            "text/plain": [
              "special_tokens_map.json:   0%|          | 0.00/2.20k [00:00<?, ?B/s]"
            ]
          },
          "metadata": {},
          "output_type": "display_data"
        },
        {
          "data": {
            "application/vnd.jupyter.widget-view+json": {
              "model_id": "aa9247551ad348d6856a909c613effb2",
              "version_major": 2,
              "version_minor": 0
            },
            "text/plain": [
              "tokenizer.json:   0%|          | 0.00/2.42M [00:00<?, ?B/s]"
            ]
          },
          "metadata": {},
          "output_type": "display_data"
        },
        {
          "data": {
            "application/vnd.jupyter.widget-view+json": {
              "model_id": "a22462a8bb08411090d0ca459be5865e",
              "version_major": 2,
              "version_minor": 0
            },
            "text/plain": [
              "config.json:   0%|          | 0.00/662 [00:00<?, ?B/s]"
            ]
          },
          "metadata": {},
          "output_type": "display_data"
        },
        {
          "data": {
            "application/vnd.jupyter.widget-view+json": {
              "model_id": "4ad7a186fba74dabb6c7d6a1ccf75549",
              "version_major": 2,
              "version_minor": 0
            },
            "text/plain": [
              "model.safetensors:   0%|          | 0.00/3.13G [00:00<?, ?B/s]"
            ]
          },
          "metadata": {},
          "output_type": "display_data"
        },
        {
          "data": {
            "application/vnd.jupyter.widget-view+json": {
              "model_id": "e26612219ce748a28921a2779aa1a6cf",
              "version_major": 2,
              "version_minor": 0
            },
            "text/plain": [
              "generation_config.json:   0%|          | 0.00/147 [00:00<?, ?B/s]"
            ]
          },
          "metadata": {},
          "output_type": "display_data"
        }
      ],
      "source": [
        "from transformers import T5Tokenizer, T5ForConditionalGeneration\n",
        "\n",
        "# Load a larger or fine-tuned model\n",
        "tokenizer = T5Tokenizer.from_pretrained(\"google/flan-t5-large\")\n",
        "model = T5ForConditionalGeneration.from_pretrained(\"google/flan-t5-large\")"
      ]
    },
    {
      "cell_type": "code",
      "execution_count": null,
      "metadata": {
        "colab": {
          "background_save": true,
          "base_uri": "https://localhost:8080/"
        },
        "id": "xfRULHRdx8Bh",
        "outputId": "db3595eb-db9d-4ddf-c7ca-3ddb2a93bff4"
      },
      "outputs": [
        {
          "name": "stderr",
          "output_type": "stream",
          "text": [
            "/usr/local/lib/python3.11/dist-packages/transformers/generation/configuration_utils.py:628: UserWarning: `do_sample` is set to `False`. However, `temperature` is set to `0.7` -- this flag is only used in sample-based generation modes. You should set `do_sample=True` or unset `temperature`.\n",
            "  warnings.warn(\n",
            "/usr/local/lib/python3.11/dist-packages/transformers/generation/configuration_utils.py:633: UserWarning: `do_sample` is set to `False`. However, `top_p` is set to `0.9` -- this flag is only used in sample-based generation modes. You should set `do_sample=True` or unset `top_p`.\n",
            "  warnings.warn(\n"
          ]
        },
        {
          "name": "stdout",
          "output_type": "stream",
          "text": [
            "Original Query: Who is the CEO of the company that makes the iPhone?\n",
            "Sub-Queries: ['What company makes the iPhone? 2. Who is the CEO of that company?']\n"
          ]
        }
      ],
      "source": [
        "from transformers import T5ForConditionalGeneration, T5Tokenizer\n",
        "\n",
        "# Load fine-tuned model\n",
        "tokenizer = T5Tokenizer.from_pretrained(\"google/flan-t5-large\")\n",
        "model = T5ForConditionalGeneration.from_pretrained(\"google/flan-t5-large\")\n",
        "\n",
        "def decompose_query(query):\n",
        "    # Stronger, clearer instructions for structured output\n",
        "    input_text = f\"\"\"Break down the following query into simpler sub-queries.\n",
        "    Return the output in a numbered list format.\n",
        "\n",
        "    Example:\n",
        "    Query: \"Who is the CEO of the company that makes the iPhone?\"\n",
        "    Output:\n",
        "    1. What company makes the iPhone?\n",
        "    2. Who is the CEO of that company?\n",
        "\n",
        "    Now process this:\n",
        "    Query: \"{query}\"\n",
        "    Output:\n",
        "    \"\"\"\n",
        "\n",
        "    # Tokenize and generate response\n",
        "    inputs = tokenizer(input_text, return_tensors=\"pt\", max_length=512, truncation=True)\n",
        "    outputs = model.generate(\n",
        "        inputs[\"input_ids\"],\n",
        "        max_length=150,  # Increased max length to ensure full output\n",
        "        num_beams=5,\n",
        "        early_stopping=True,\n",
        "        temperature=0.7,\n",
        "        top_p=0.9\n",
        "    )\n",
        "\n",
        "    # Decode the generated output\n",
        "    decomposition = tokenizer.decode(outputs[0], skip_special_tokens=True)\n",
        "\n",
        "    # Improved parsing to extract numbered sub-queries\n",
        "    sub_queries = []\n",
        "    for line in decomposition.split(\"\\n\"):\n",
        "        line = line.strip()\n",
        "        if line and (line[0].isdigit() or line.startswith(\"-\")):\n",
        "            sub_queries.append(line.lstrip(\"1234567890.-\").strip())  # Remove number/bullet and clean spaces\n",
        "\n",
        "    return sub_queries\n",
        "\n",
        "# Example query\n",
        "query = \"Who is the CEO of the company that makes the iPhone?\"\n",
        "sub_queries = decompose_query(query)\n",
        "print(\"Original Query:\", query)\n",
        "print(\"Sub-Queries:\", sub_queries)\n"
      ]
    },
    {
      "cell_type": "code",
      "execution_count": null,
      "metadata": {
        "colab": {
          "background_save": true
        },
        "id": "km5monKxx7-2"
      },
      "outputs": [],
      "source": [
        "#Retrieve Documents for Each Sub-Query\n",
        "import faiss\n",
        "from sentence_transformers import SentenceTransformer\n",
        "import numpy as np\n",
        "\n",
        "documents = [\n",
        "    \"Apple Inc. is the company that makes the iPhone.\",\n",
        "    \"Tim Cook is the CEO of Apple Inc.\",\n",
        "    \"The iPhone is a popular smartphone.\",\n",
        "    \"Sundar Pichai is the CEO of Google.\",\n",
        "    \"Apple Inc. is headquartered in Cupertino, California.\",\n",
        "]\n",
        "\n",
        "model = SentenceTransformer('all-MiniLM-L6-v2')\n",
        "document_embeddings = model.encode(documents)\n",
        "\n",
        "dimension = document_embeddings.shape[1]\n",
        "index = faiss.IndexFlatIP(dimension)\n",
        "index.add(document_embeddings)\n",
        "\n"
      ]
    },
    {
      "cell_type": "code",
      "execution_count": null,
      "metadata": {
        "colab": {
          "background_save": true,
          "base_uri": "https://localhost:8080/"
        },
        "id": "tAPDFivux780",
        "outputId": "f20f7082-f897-4171-c7e9-cf51bd1b660d"
      },
      "outputs": [
        {
          "name": "stdout",
          "output_type": "stream",
          "text": [
            "Sub-Query: What company makes the iPhone? 2. Who is the CEO of that company?\n",
            "  Document 1: Apple Inc. is the company that makes the iPhone.\n",
            "  Document 2: Tim Cook is the CEO of Apple Inc.\n"
          ]
        }
      ],
      "source": [
        "def retrieve_documents(query, k=2):\n",
        "    query_embedding = model.encode([query])\n",
        "    distances, indices = index.search(query_embedding, k)\n",
        "    retrieved_documents = [documents[idx] for idx in indices[0]]\n",
        "    return retrieved_documents\n",
        "\n",
        "retrieved_docs = {}\n",
        "for sub_query in sub_queries:\n",
        "    retrieved_docs[sub_query] = retrieve_documents(sub_query, k=2)\n",
        "\n",
        "# Display results\n",
        "for sub_query, docs in retrieved_docs.items():\n",
        "    print(f\"Sub-Query: {sub_query}\")\n",
        "    for i, doc in enumerate(docs):\n",
        "        print(f\"  Document {i+1}: {doc}\")"
      ]
    },
    {
      "cell_type": "code",
      "execution_count": null,
      "metadata": {
        "colab": {
          "background_save": true,
          "base_uri": "https://localhost:8080/"
        },
        "id": "ZVe3YK84x7vW",
        "outputId": "780c73e1-6035-4391-e623-e0ddc955f61a"
      },
      "outputs": [
        {
          "name": "stdout",
          "output_type": "stream",
          "text": [
            "Combined Documents:\n",
            "Document 1: Apple Inc. is the company that makes the iPhone.\n",
            "Document 2: Tim Cook is the CEO of Apple Inc.\n"
          ]
        }
      ],
      "source": [
        "#combie the results\n",
        "all_docs = set()\n",
        "for docs in retrieved_docs.values():\n",
        "    all_docs.update(docs)\n",
        "\n",
        "print(\"Combined Documents:\")\n",
        "for i, doc in enumerate(all_docs):\n",
        "    print(f\"Document {i+1}: {doc}\")"
      ]
    },
    {
      "cell_type": "code",
      "execution_count": null,
      "metadata": {
        "colab": {
          "background_save": true,
          "base_uri": "https://localhost:8080/"
        },
        "id": "CPbKgNhZx7Vy",
        "outputId": "5b01d3c0-febc-4996-9e6c-aa3e223b3a41"
      },
      "outputs": [
        {
          "name": "stdout",
          "output_type": "stream",
          "text": [
            "Original Query Results: ['Apple Inc. is the company that makes the iPhone.', 'Tim Cook is the CEO of Apple Inc.']\n",
            "Query Decomposition Results: ['Apple Inc. is the company that makes the iPhone.', 'Tim Cook is the CEO of Apple Inc.']\n"
          ]
        }
      ],
      "source": [
        "#evaluate query decomposition\n",
        "original_docs = retrieve_documents(query, k=2)\n",
        "print(\"Original Query Results:\", original_docs)\n",
        "\n",
        "# With query decomposition\n",
        "print(\"Query Decomposition Results:\", list(all_docs))"
      ]
    },
    {
      "cell_type": "code",
      "execution_count": null,
      "metadata": {
        "colab": {
          "background_save": true
        },
        "id": "i06Pwn3i8il7",
        "outputId": "74c4b0b0-d72c-4a62-8c12-149b443695bf"
      },
      "outputs": [
        {
          "data": {
            "application/vnd.google.colaboratory.intrinsic+json": {
              "type": "string"
            },
            "text/plain": [
              "'Summary\\nYou’ve learned how to decompose a complex query into simpler sub-queries using a pre-trained language model (T5).\\n\\nYou’ve retrieved documents for each sub-query and combined the results to improve recall and relevance.\\n\\nYou’ve explored evaluation and advanced techniques for query decomposition.'"
            ]
          },
          "execution_count": 38,
          "metadata": {},
          "output_type": "execute_result"
        }
      ],
      "source": [
        "\"\"\"Summary\n",
        "You’ve learned how to decompose a complex query into simpler sub-queries using a pre-trained language model (T5).\n",
        "\n",
        "You’ve retrieved documents for each sub-query and combined the results to improve recall and relevance.\n",
        "\n",
        "You’ve explored evaluation and advanced techniques for query decomposition.\"\"\""
      ]
    },
    {
      "cell_type": "markdown",
      "source": [
        "#Query Translation (Step Back)\n"
      ],
      "metadata": {
        "id": "x1nB2S6p8iez"
      }
    },
    {
      "cell_type": "markdown",
      "source": [
        " Query Translation (Step Back), a technique that involves generating a step-back prompt to guide the retrieval process. This approach is particularly useful for complex queries that require reasoning or contextual understanding. The step-back prompt helps the retriever focus on the broader context or higher-level concepts before diving into specific details."
      ],
      "metadata": {
        "id": "pGf4xdYB8ibt"
      }
    },
    {
      "cell_type": "markdown",
      "source": [
        "What is Step Back Prompting?\n",
        "\n",
        "\n",
        "Step Back Prompting involves:\n",
        "\n",
        "Generating a step-back question: A higher-level or more abstract version of the original query.\n",
        "\n",
        "Retrieving documents for the step-back question to gather broader context.\n",
        "\n",
        "Using the retrieved context to refine the original query or guide the retrieval process.\n",
        "\n",
        "This technique is especially helpful for:\n",
        "\n",
        "Complex queries: Queries that require reasoning or multi-step understanding.\n",
        "\n",
        "Ambiguous queries: Queries that can be interpreted in multiple ways."
      ],
      "metadata": {
        "id": "J_jLVXlA5Yt6"
      }
    },
    {
      "cell_type": "code",
      "source": [
        "!pip install -q transformers sentence-transformers faiss-cpu"
      ],
      "metadata": {
        "colab": {
          "base_uri": "https://localhost:8080/"
        },
        "id": "WDfh1JJu5YqP",
        "outputId": "dcf2d8a8-b2e8-48dc-922b-08fcd908e059"
      },
      "execution_count": null,
      "outputs": [
        {
          "output_type": "stream",
          "name": "stdout",
          "text": [
            "\u001b[2K   \u001b[90m━━━━━━━━━━━━━━━━━━━━━━━━━━━━━━━━━━━━━━━━\u001b[0m \u001b[32m30.7/30.7 MB\u001b[0m \u001b[31m10.8 MB/s\u001b[0m eta \u001b[36m0:00:00\u001b[0m\n",
            "\u001b[2K   \u001b[90m━━━━━━━━━━━━━━━━━━━━━━━━━━━━━━━━━━━━━━━━\u001b[0m \u001b[32m363.4/363.4 MB\u001b[0m \u001b[31m4.0 MB/s\u001b[0m eta \u001b[36m0:00:00\u001b[0m\n",
            "\u001b[2K   \u001b[90m━━━━━━━━━━━━━━━━━━━━━━━━━━━━━━━━━━━━━━━━\u001b[0m \u001b[32m13.8/13.8 MB\u001b[0m \u001b[31m34.4 MB/s\u001b[0m eta \u001b[36m0:00:00\u001b[0m\n",
            "\u001b[2K   \u001b[90m━━━━━━━━━━━━━━━━━━━━━━━━━━━━━━━━━━━━━━━━\u001b[0m \u001b[32m24.6/24.6 MB\u001b[0m \u001b[31m23.9 MB/s\u001b[0m eta \u001b[36m0:00:00\u001b[0m\n",
            "\u001b[2K   \u001b[90m━━━━━━━━━━━━━━━━━━━━━━━━━━━━━━━━━━━━━━━━\u001b[0m \u001b[32m883.7/883.7 kB\u001b[0m \u001b[31m10.8 MB/s\u001b[0m eta \u001b[36m0:00:00\u001b[0m\n",
            "\u001b[2K   \u001b[90m━━━━━━━━━━━━━━━━━━━━━━━━━━━━━━━━━━━━━━━━\u001b[0m \u001b[32m664.8/664.8 MB\u001b[0m \u001b[31m1.2 MB/s\u001b[0m eta \u001b[36m0:00:00\u001b[0m\n",
            "\u001b[2K   \u001b[90m━━━━━━━━━━━━━━━━━━━━━━━━━━━━━━━━━━━━━━━━\u001b[0m \u001b[32m211.5/211.5 MB\u001b[0m \u001b[31m4.5 MB/s\u001b[0m eta \u001b[36m0:00:00\u001b[0m\n",
            "\u001b[2K   \u001b[90m━━━━━━━━━━━━━━━━━━━━━━━━━━━━━━━━━━━━━━━━\u001b[0m \u001b[32m56.3/56.3 MB\u001b[0m \u001b[31m7.8 MB/s\u001b[0m eta \u001b[36m0:00:00\u001b[0m\n",
            "\u001b[2K   \u001b[90m━━━━━━━━━━━━━━━━━━━━━━━━━━━━━━━━━━━━━━━━\u001b[0m \u001b[32m127.9/127.9 MB\u001b[0m \u001b[31m7.3 MB/s\u001b[0m eta \u001b[36m0:00:00\u001b[0m\n",
            "\u001b[2K   \u001b[90m━━━━━━━━━━━━━━━━━━━━━━━━━━━━━━━━━━━━━━━━\u001b[0m \u001b[32m207.5/207.5 MB\u001b[0m \u001b[31m4.8 MB/s\u001b[0m eta \u001b[36m0:00:00\u001b[0m\n",
            "\u001b[2K   \u001b[90m━━━━━━━━━━━━━━━━━━━━━━━━━━━━━━━━━━━━━━━━\u001b[0m \u001b[32m21.1/21.1 MB\u001b[0m \u001b[31m46.4 MB/s\u001b[0m eta \u001b[36m0:00:00\u001b[0m\n",
            "\u001b[?25h"
          ]
        }
      ]
    },
    {
      "cell_type": "code",
      "source": [
        "from transformers import T5Tokenizer, T5ForConditionalGeneration\n",
        "\n",
        "# Load FLAN-T5 model and tokenizer\n",
        "tokenizer = T5Tokenizer.from_pretrained(\"google/flan-t5-large\")\n",
        "generator_model = T5ForConditionalGeneration.from_pretrained(\"google/flan-t5-large\")\n",
        "\n"
      ],
      "metadata": {
        "id": "EUvzDcFi5Ynu"
      },
      "execution_count": null,
      "outputs": []
    },
    {
      "cell_type": "code",
      "source": [
        "def generate_step_back_prompt(query):\n",
        "    input_text = f\"Generate a step-back question for: {query}\"\n",
        "    inputs = tokenizer(input_text, return_tensors=\"pt\", max_length=512, truncation=True)\n",
        "    outputs = generator_model.generate(\n",
        "        inputs[\"input_ids\"],\n",
        "        max_length=512,\n",
        "        num_beams=5,\n",
        "        early_stopping=True,\n",
        "    )\n",
        "    step_back_question = tokenizer.decode(outputs[0], skip_special_tokens=True)\n",
        "    return step_back_question\n",
        "\n",
        "# Example query\n",
        "query = \"What is the capital of the country with the largest population?\"\n",
        "step_back_question = generate_step_back_prompt(query)\n",
        "print(\"Original Query:\", query)\n",
        "print(\"Step-Back Question:\", step_back_question)"
      ],
      "metadata": {
        "colab": {
          "base_uri": "https://localhost:8080/"
        },
        "id": "pxTYaMTf5Ylv",
        "outputId": "ed041e3b-0c29-439e-ebb7-b5cf4586391d"
      },
      "execution_count": null,
      "outputs": [
        {
          "output_type": "stream",
          "name": "stdout",
          "text": [
            "Original Query: What is the capital of the country with the largest population?\n",
            "Step-Back Question: What is the capital of the country with the largest population?\n"
          ]
        }
      ]
    },
    {
      "cell_type": "code",
      "source": [
        "#retrieve documents from step back question\n",
        "from sentence_transformers import SentenceTransformer\n",
        "import faiss\n",
        "import numpy as np\n",
        "\n",
        "documents = [\n",
        "    \"China has the largest population in the world.\",\n",
        "    \"Beijing is the capital of China.\",\n",
        "    \"India has the second-largest population in the world.\",\n",
        "    \"New Delhi is the capital of India.\",\n",
        "    \"The United States has the third-largest population in the world.\",\n",
        "    \"Washington, D.C. is the capital of the United States.\",\n",
        "]\n",
        "\n",
        "model = SentenceTransformer('all-MiniLM-L6-v2')\n",
        "document_embeddings = model.encode(documents)\n",
        "\n",
        "dimension = document_embeddings.shape[1]\n",
        "index = faiss.IndexFlatIP(dimension)\n",
        "index.add(document_embeddings)"
      ],
      "metadata": {
        "colab": {
          "base_uri": "https://localhost:8080/",
          "height": 369,
          "referenced_widgets": [
            "bb4a848ac87146b18331aa0f6ef88c36",
            "84cb88db44e04a309e5ec7a062ac697c",
            "9a7324ec4b734f8bbe08084498c98833",
            "2fb1b06d4fd14f1ba89fa7531d15a4fd",
            "8e2ceee2c123446189d7a5b1aeffe766",
            "54ce0ef80e4f471f8c247874da8b9c4e",
            "94dd6518af4e403ba3b750af4dca0384",
            "5653e44a080b4673b2cbb28268606f97",
            "1b1f0e98423d425d9a24ed411b90e516",
            "9b7f7eb0abfb4c489deaaa129ca64585",
            "9d0b4d82e42141939f4883c37c7503d0",
            "0b00ccf36bf24b1ebb8a1adecbe9a35f",
            "57bee7e4be4145788a8781f6567d79f2",
            "2ef53b1925d247dd899dffe2271cd7b7",
            "de2009d0d800412ead366ae5a80e9ef0",
            "b54d0df488314bbbb61fb716ca4d104d",
            "5958fc65c79c47c88f1cf30cd7151c92",
            "e7f95b8f592240658d68c872f316713c",
            "e8634466444f44a5bbee7d95168df413",
            "4ad1bfac5b9349178a92f6468c38391a",
            "5294b8d4b08b48ad84f6e30aae87f81b",
            "48c1955ca628419db97765f323196b9d",
            "dbf77eaef6d34f49bb59e6ce01429199",
            "100886e9c6864fb788ee2baee11a5d8c",
            "078c04417d2141268d3399bc39f447e7",
            "77149230281040459f9eaff34cdd3bd5",
            "8e82098cd2f34888b738fea7dab53d70",
            "3e72800d697b4fb79be09234c3c610ce",
            "dc820e968a9f454092a826be8a9ba408",
            "c20f9bf218dc4ab7abd8e40a41b5ed67",
            "c050956c85e8453db2185b9f2d0011da",
            "477ebff3f9b842269758417af3831242",
            "6e83dd4e5e7c48e0a8931f1ba494ccd0",
            "a2d7f72e182746ae98676487a9dafbc2",
            "ff164d1ad7b3444b898ce110cd5a7932",
            "17d2748cc52343ec91a32bcdcc51c0a3",
            "1877734f3a5e4db789ee70de840cc37b",
            "51021e6f2a2149b6b2457c1845fcd615",
            "701b71f9555f476ea9f9688b425d42bb",
            "a4f02317fb3b48f9b8307b6524d53f18",
            "aab0cf0608c7457083d0ea6127be1d33",
            "48ec00e4e22b40a48cdb4da3b5ab317c",
            "9b6f304f510a436890f3399fd1439748",
            "2af1df9393fd4e8ea63cdb83f0a8939b",
            "1472a9fc0a654e588732777b62fb7d16",
            "7c44bad9614a4f448e9c24326d18c8dd",
            "9a2367285e1f4e2d8db599d3653b3023",
            "54c746bd52ed48208d46c6d40815d5e1",
            "f15346e2f9204726b6b1139c127336ee",
            "b271401d2e5e46d283a01032900baf40",
            "cae41b80a3624bf8845fa9bc41b070a4",
            "ebe158c9ac3b4a739587f5b6981e8c39",
            "b5687d929672426a99e6cf32602e5a1e",
            "170566448f5c4cf88e3d96a37b89f3ee",
            "77355710ab104104a46d40ae88ff0185",
            "6c8934eac66f4bfe845837de3e1590f2",
            "84e62a955c2e4aa69cae3d4d34dad5c6",
            "cf84779c4150462ab20abd56f719e2f8",
            "9b55b783654549c9927069508f4ecb65",
            "8f94a2803fd2455f849f34b28c05ebb7",
            "11ab5217e6b646a8be8c90f3c88d84f2",
            "49eb2a45b31246f1808ee305b113b533",
            "54b168565e7748ef95b1fcbf15dd884c",
            "94cda134f71e45a8b5f4e3bfb896b60c",
            "dc9e8a71eaa74fe58e0ff738361fd4ae",
            "64146ed73d1246fc8d8ae588f503c566",
            "e15456ec593648a784e9b1ad3f22b567",
            "fb6cf62a658c4dd2a3419d51280b4e0c",
            "f600196555e54214b1f9bcf57a08688a",
            "e561d027c741419d92365e8fd82e4418",
            "5abbf5f84c024c8092d46974b5f1f075",
            "68ba31f28cf9454a924fc93109e4e030",
            "0a5203d91393410a80ebe568b7eb7762",
            "0f7041446d984ec7a1fec5ee3b538b31",
            "5a7d03cba7b44bb9b2e397e36f715d7d",
            "e16462d8c36a44d98e785819ec7f3295",
            "6dc21fc675a744b297ec6157110349d8",
            "7bd04335c73c4846823333cb62a25dcc",
            "a5f81de54233428cb781c228b00a2aed",
            "8a82f1264148464097ac77e1ffe68451",
            "600bb7ee7f82412585b7e03454219d74",
            "727bbc51f08a4d9ebc6ba267695f5751",
            "6612400a27c540a4acfa57e1d2505a18",
            "75c9b5806df24b2192c9130a1930f8f0",
            "d41c8526c8eb4394835ebcdda062ff54",
            "5f7aadc45bf8473982cfec4f4286352a",
            "e00a6542b8fa4d20907eb72b66e47ba4",
            "6b009d12fc9840a5a8593478a6713942",
            "2708d3c2995643378bf4a67ceda9e570",
            "cec69b88d8ee49fbbd9ec6ce84363a03",
            "d96b5421ae1a48bb813e3fd184cd0627",
            "ff29a64b710e4ff1b517833dc3ee005d",
            "e04a4d109dfa4ce8b9fdf865341f38d0",
            "65d0b29654054a718f36ff4573efb71f",
            "f570ee440ce9499c8ce4df6c8d6083e3",
            "f35a118a5e064efe81b45c55187afabe",
            "4d4fbf3a10144ca5a859f7192e12c6f7",
            "39da189069fe4d8d85ee187e975914b5",
            "4b44d7cd11064000a5f4c0bca768f35d",
            "b2093d49980a452abb0c7c3e65e60952",
            "7d45d891c9d5437aa77d2faf766407a1",
            "fc1e6b3569a94e299917840486e66471",
            "10eb6bca642d4b0fba8dc4c266cd9d58",
            "0a60830d23924899804db36ea7d0d941",
            "d0571afe7cec463b83da30024995772c",
            "30bbd1382f0549e99e0d1a04b8a19e56",
            "e000163ba3dd475fa61dedd7884dff9d",
            "4374618623af489c83411d9ddfab6fbd",
            "61734071a0d04de2b9c247509a4dc989",
            "114d2d4713d845129ec28a65fd2bb0c0",
            "6e06f35d7c63413f87281146d4b317b2",
            "7cd3284752d945d2a74fbeecf338951c",
            "f857dee91d044a488181689dd8e66193",
            "2f232487f4b248399c102ed1694d6add",
            "68a3132a46ab48e398f3b42034db27c5",
            "0126762bb0f9450abd8305bd8af3e199",
            "48f83f69508e4872a0a6a0d99d9091ac",
            "f81067fd4cb742439427da6c7cf75462",
            "affc5cf9b88343048f15deb08d9a56ac",
            "782512c373ba48ca8beec1ac295c26b9",
            "cd5a936f013d4e188d4208fc8a1b86a9"
          ]
        },
        "id": "Uifd48yP5pTn",
        "outputId": "efff131d-8252-400f-e779-1040c3b24c30"
      },
      "execution_count": null,
      "outputs": [
        {
          "output_type": "display_data",
          "data": {
            "text/plain": [
              "modules.json:   0%|          | 0.00/349 [00:00<?, ?B/s]"
            ],
            "application/vnd.jupyter.widget-view+json": {
              "version_major": 2,
              "version_minor": 0,
              "model_id": "bb4a848ac87146b18331aa0f6ef88c36"
            }
          },
          "metadata": {}
        },
        {
          "output_type": "display_data",
          "data": {
            "text/plain": [
              "config_sentence_transformers.json:   0%|          | 0.00/116 [00:00<?, ?B/s]"
            ],
            "application/vnd.jupyter.widget-view+json": {
              "version_major": 2,
              "version_minor": 0,
              "model_id": "0b00ccf36bf24b1ebb8a1adecbe9a35f"
            }
          },
          "metadata": {}
        },
        {
          "output_type": "display_data",
          "data": {
            "text/plain": [
              "README.md:   0%|          | 0.00/10.7k [00:00<?, ?B/s]"
            ],
            "application/vnd.jupyter.widget-view+json": {
              "version_major": 2,
              "version_minor": 0,
              "model_id": "dbf77eaef6d34f49bb59e6ce01429199"
            }
          },
          "metadata": {}
        },
        {
          "output_type": "display_data",
          "data": {
            "text/plain": [
              "sentence_bert_config.json:   0%|          | 0.00/53.0 [00:00<?, ?B/s]"
            ],
            "application/vnd.jupyter.widget-view+json": {
              "version_major": 2,
              "version_minor": 0,
              "model_id": "a2d7f72e182746ae98676487a9dafbc2"
            }
          },
          "metadata": {}
        },
        {
          "output_type": "display_data",
          "data": {
            "text/plain": [
              "config.json:   0%|          | 0.00/612 [00:00<?, ?B/s]"
            ],
            "application/vnd.jupyter.widget-view+json": {
              "version_major": 2,
              "version_minor": 0,
              "model_id": "1472a9fc0a654e588732777b62fb7d16"
            }
          },
          "metadata": {}
        },
        {
          "output_type": "display_data",
          "data": {
            "text/plain": [
              "model.safetensors:   0%|          | 0.00/90.9M [00:00<?, ?B/s]"
            ],
            "application/vnd.jupyter.widget-view+json": {
              "version_major": 2,
              "version_minor": 0,
              "model_id": "6c8934eac66f4bfe845837de3e1590f2"
            }
          },
          "metadata": {}
        },
        {
          "output_type": "display_data",
          "data": {
            "text/plain": [
              "tokenizer_config.json:   0%|          | 0.00/350 [00:00<?, ?B/s]"
            ],
            "application/vnd.jupyter.widget-view+json": {
              "version_major": 2,
              "version_minor": 0,
              "model_id": "e15456ec593648a784e9b1ad3f22b567"
            }
          },
          "metadata": {}
        },
        {
          "output_type": "display_data",
          "data": {
            "text/plain": [
              "vocab.txt:   0%|          | 0.00/232k [00:00<?, ?B/s]"
            ],
            "application/vnd.jupyter.widget-view+json": {
              "version_major": 2,
              "version_minor": 0,
              "model_id": "7bd04335c73c4846823333cb62a25dcc"
            }
          },
          "metadata": {}
        },
        {
          "output_type": "display_data",
          "data": {
            "text/plain": [
              "tokenizer.json:   0%|          | 0.00/466k [00:00<?, ?B/s]"
            ],
            "application/vnd.jupyter.widget-view+json": {
              "version_major": 2,
              "version_minor": 0,
              "model_id": "2708d3c2995643378bf4a67ceda9e570"
            }
          },
          "metadata": {}
        },
        {
          "output_type": "display_data",
          "data": {
            "text/plain": [
              "special_tokens_map.json:   0%|          | 0.00/112 [00:00<?, ?B/s]"
            ],
            "application/vnd.jupyter.widget-view+json": {
              "version_major": 2,
              "version_minor": 0,
              "model_id": "b2093d49980a452abb0c7c3e65e60952"
            }
          },
          "metadata": {}
        },
        {
          "output_type": "display_data",
          "data": {
            "text/plain": [
              "1_Pooling/config.json:   0%|          | 0.00/190 [00:00<?, ?B/s]"
            ],
            "application/vnd.jupyter.widget-view+json": {
              "version_major": 2,
              "version_minor": 0,
              "model_id": "6e06f35d7c63413f87281146d4b317b2"
            }
          },
          "metadata": {}
        }
      ]
    },
    {
      "cell_type": "code",
      "source": [
        "#retrieve documents from step back question\n",
        "def retrieve_documents(query, k=2):\n",
        "    query_embedding = model.encode([query])\n",
        "    distances, indices = index.search(query_embedding, k)\n",
        "    retrieved_documents = [documents[idx] for idx in indices[0]]\n",
        "    return retrieved_documents\n",
        "\n",
        "# Retrieve documents for the step-back question\n",
        "step_back_docs = retrieve_documents(step_back_question, k=2)\n",
        "print(\"Step-Back Question:\", step_back_question)\n",
        "for i, doc in enumerate(step_back_docs):\n",
        "    print(f\"Document {i+1}: {doc}\")"
      ],
      "metadata": {
        "colab": {
          "base_uri": "https://localhost:8080/"
        },
        "id": "ARHWkfQL5pPv",
        "outputId": "e6a71088-7728-489f-c301-14a9162def6f"
      },
      "execution_count": null,
      "outputs": [
        {
          "output_type": "stream",
          "name": "stdout",
          "text": [
            "Step-Back Question: What is the capital of the country with the largest population?\n",
            "Document 1: China has the largest population in the world.\n",
            "Document 2: India has the second-largest population in the world.\n"
          ]
        }
      ]
    },
    {
      "cell_type": "code",
      "source": [
        "#Use step back context to refine the original query\n",
        "def refine_query_with_context(query, context):\n",
        "    input_text = f\"Given the context: {context}, refine this query: {query}\"\n",
        "    inputs = tokenizer(input_text, return_tensors=\"pt\", max_length=512, truncation=True)\n",
        "    outputs = generator_model.generate(\n",
        "        inputs[\"input_ids\"],\n",
        "        max_length=512,\n",
        "        num_beams=5,\n",
        "        early_stopping=True,\n",
        "    )\n",
        "    refined_query = tokenizer.decode(outputs[0], skip_special_tokens=True)\n",
        "    return refined_query\n",
        "\n",
        "# Refine the original query using the step-back context\n",
        "context = \" \".join(step_back_docs)\n",
        "refined_query = refine_query_with_context(query, context)\n",
        "print(\"Refined Query:\", refined_query)\n",
        "\n"
      ],
      "metadata": {
        "colab": {
          "base_uri": "https://localhost:8080/"
        },
        "id": "yT8yxahy5pNa",
        "outputId": "c7d2827c-47f3-4eb7-8e71-410005754a69"
      },
      "execution_count": null,
      "outputs": [
        {
          "output_type": "stream",
          "name": "stdout",
          "text": [
            "Refined Query: Beijing\n"
          ]
        }
      ]
    },
    {
      "cell_type": "code",
      "source": [
        "\"\"\"FINAL UPDATED CODE \"\"\"\n",
        "from transformers import T5Tokenizer, T5ForConditionalGeneration\n",
        "from sentence_transformers import SentenceTransformer\n",
        "import faiss\n",
        "import numpy as np\n",
        "\n",
        "# Load T5 model and tokenizer\n",
        "tokenizer = T5Tokenizer.from_pretrained(\"t5-small\")\n",
        "new_model = T5ForConditionalGeneration.from_pretrained(\"t5-small\")\n",
        "\n",
        "# Generate a step-back question\n",
        "def generate_step_back_prompt(query):\n",
        "    input_text = f\"Generate a step-back question for: {query}\"\n",
        "    inputs = tokenizer(input_text, return_tensors=\"pt\", max_length=512, truncation=True)\n",
        "    outputs = new_model.generate(\n",
        "        inputs[\"input_ids\"],\n",
        "        max_length=512,\n",
        "        num_beams=5,\n",
        "        early_stopping=True,\n",
        "    )\n",
        "    step_back_question = tokenizer.decode(outputs[0], skip_special_tokens=True)\n",
        "    return step_back_question\n",
        "\n",
        "# Refine the original query using the step-back context\n",
        "def refine_query_with_context(query, context):\n",
        "    input_text = f\"Given the context: {context}, rewrite this query to make it more specific: {query}\"\n",
        "    inputs = tokenizer(input_text, return_tensors=\"pt\", max_length=512, truncation=True)\n",
        "    outputs = new_model.generate(\n",
        "        inputs[\"input_ids\"],\n",
        "        max_length=512,\n",
        "        num_beams=5,\n",
        "        early_stopping=True,\n",
        "    )\n",
        "    refined_query = tokenizer.decode(outputs[0], skip_special_tokens=True)\n",
        "    return refined_query\n",
        "\n",
        "# Example query\n",
        "query = \"What is the capital of the country with the largest population?\"\n",
        "step_back_question = generate_step_back_prompt(query)\n",
        "print(\"Original Query:\", query)\n",
        "print(\"Step-Back Question:\", step_back_question)\n",
        "\n",
        "# Set up the retriever\n",
        "documents = [\n",
        "    \"China has the largest population in the world.\",\n",
        "    \"Beijing is the capital of China.\",\n",
        "    \"India has the second-largest population in the world.\",\n",
        "    \"New Delhi is the capital of India.\",\n",
        "    \"The United States has the third-largest population in the world.\",\n",
        "    \"Washington, D.C. is the capital of the United States.\",\n",
        "]\n",
        "\n",
        "model = SentenceTransformer(\"all-MiniLM-L6-v2\")\n",
        "document_embeddings = model.encode(documents)\n",
        "dimension = document_embeddings.shape[1]\n",
        "index = faiss.IndexFlatIP(dimension)\n",
        "index.add(document_embeddings)\n",
        "\n",
        "# Retrieve documents for the step-back question\n",
        "def retrieve_documents(query, k=2):\n",
        "    query_embedding = model.encode([query])\n",
        "    distances, indices = index.search(query_embedding, k)\n",
        "    return [documents[idx] for idx in indices[0]]\n",
        "\n",
        "step_back_docs = retrieve_documents(step_back_question, k=2)\n",
        "print(\"Step-Back Question:\", step_back_question)\n",
        "for i, doc in enumerate(step_back_docs):\n",
        "    print(f\"Document {i+1}: {doc}\")\n",
        "\n",
        "# Refine the original query using the step-back context\n",
        "context = \" \".join(step_back_docs)\n",
        "refined_query = refine_query_with_context(query, context)\n",
        "print(\"Refined Query:\", refined_query)\n",
        "\n",
        "# Retrieve documents for the refined query\n",
        "refined_docs = retrieve_documents(refined_query, k=2)\n",
        "print(\"Refined Query:\", refined_query)\n",
        "for i, doc in enumerate(refined_docs):\n",
        "    print(f\"Document {i+1}: {doc}\")"
      ],
      "metadata": {
        "colab": {
          "base_uri": "https://localhost:8080/"
        },
        "id": "-KZ3A1ot5pLb",
        "outputId": "aef2749f-0e0b-4957-c4e2-b8711e6111e4"
      },
      "execution_count": null,
      "outputs": [
        {
          "output_type": "stream",
          "name": "stdout",
          "text": [
            "Original Query: What is the capital of the country with the largest population?\n",
            "Step-Back Question: Capital of the country with the largest population?\n",
            "Step-Back Question: Capital of the country with the largest population?\n",
            "Document 1: China has the largest population in the world.\n",
            "Document 2: India has the second-largest population in the world.\n",
            "Refined Query: China\n",
            "Refined Query: China\n",
            "Document 1: China has the largest population in the world.\n",
            "Document 2: Beijing is the capital of China.\n"
          ]
        }
      ]
    },
    {
      "cell_type": "markdown",
      "source": [
        "\"\"\" Use a good model for efining query as this model isnt comapaitable, like this you can perform ypur task.\"\"\""
      ],
      "metadata": {
        "id": "i7V2r34zC31_"
      }
    },
    {
      "cell_type": "markdown",
      "source": [
        "#Query Translation (HyDE) – Hypothetical Document Embeddings"
      ],
      "metadata": {
        "id": "KmpHHSjGC3yv"
      }
    },
    {
      "cell_type": "markdown",
      "source": [
        "Query Translation using HyDE (Hypothetical Document Embeddings) is a retrieval-augmented generation (RAG) approach where instead of searching for exact matches, we generate hypothetical answers and use them to retrieve relevant documents.\n",
        "\n"
      ],
      "metadata": {
        "id": "oySptg7rC3nf"
      }
    },
    {
      "cell_type": "markdown",
      "source": [
        "What is HyDE?\n",
        "\n",
        "HyDE stands for Hypothetical Document Embeddings.\n",
        "Instead of directly searching based on a user query, HyDE first generates a \"hypothetical\" document that could answer the query.\n",
        "This hypothetical document is then used to retrieve semantically similar real-world documents from a search index.\n",
        "\n",
        "✅ Why Use HyDE?\n",
        "\n",
        "Improves retrieval accuracy\n",
        "Instead of matching a short query (which may lack context), HyDE expands it into a rich document-like representation.\n",
        "Works well for open-domain QA\n",
        "Good for long-tail queries where exact document matches are rare.\n",
        "Enhances semantic search\n",
        "Generates diverse answers that capture deeper meanings."
      ],
      "metadata": {
        "id": "JkfVIK2aC3kj"
      }
    },
    {
      "cell_type": "code",
      "source": [
        "#genreate hypothetical document using flan_T5\n",
        "from transformers import T5Tokenizer, T5ForConditionalGeneration\n",
        "\n",
        "model_name = \"google/flan-t5-large\"\n",
        "tokenizer = T5Tokenizer.from_pretrained(model_name)\n",
        "model = T5ForConditionalGeneration.from_pretrained(model_name)\n",
        "\n",
        "def generate_hypothetical_document(query):\n",
        "    input_text = f\"Generate a detailed answer to the question: {query}\"\n",
        "    inputs = tokenizer(input_text, return_tensors=\"pt\", max_length=512, truncation=True)\n",
        "    outputs = model.generate(\n",
        "        inputs[\"input_ids\"],\n",
        "        max_length=512,\n",
        "        num_beams=5,\n",
        "        early_stopping=True,\n",
        "    )\n",
        "    hypothetical_document = tokenizer.decode(outputs[0], skip_special_tokens=True)\n",
        "    return hypothetical_document\n",
        "\n",
        "# Example usage\n",
        "query = \"What are the effects of global warming on marine life?\"\n",
        "hypothetical_doc = generate_hypothetical_document(query)\n",
        "print(\"Generated Hypothetical Document:\\n\", hypothetical_doc)"
      ],
      "metadata": {
        "colab": {
          "base_uri": "https://localhost:8080/"
        },
        "id": "igfxzgb6C3h6",
        "outputId": "c9cae238-0905-4e87-f3e9-f787217e21ec"
      },
      "execution_count": null,
      "outputs": [
        {
          "output_type": "stream",
          "name": "stdout",
          "text": [
            "Generated Hypothetical Document:\n",
            " Global warming has a negative impact on the survival of marine organisms, including fish, shellfish, and crustaceans.\n"
          ]
        }
      ]
    },
    {
      "cell_type": "code",
      "source": [
        "#convert hypothetical doc to embedding and retrieve real docs\n",
        "from sentence_transformers import SentenceTransformer\n",
        "import faiss\n",
        "import numpy as np\n",
        "\n",
        "embedding_model = SentenceTransformer(\"all-MiniLM-L6-v2\")\n",
        "\n",
        "def encode_text(text):\n",
        "    \"\"\"Convert text into an embedding vector.\"\"\"\n",
        "    return embedding_model.encode([text])\n",
        "\n",
        "#encode the hypothetical document\n",
        "hypothetical_embedding = encode_text(hypothetical_doc)\n",
        "\n",
        "index = faiss.IndexFlatL2(384)\n",
        "document_embedding = np.random.rand(100,384).astype(\"float32\")\n",
        "index.add(document_embedding)\n",
        "#search for similar documents\n",
        "k = 5\n",
        "distances, indices = index.search(hypothetical_embedding, k)\n",
        "print(f\"top {k} Retrieved documents: {indices}\")"
      ],
      "metadata": {
        "colab": {
          "base_uri": "https://localhost:8080/"
        },
        "id": "wcId35e5C3ej",
        "outputId": "c2dbef6e-df64-4e46-dc5f-31612e8f96aa"
      },
      "execution_count": null,
      "outputs": [
        {
          "output_type": "stream",
          "name": "stdout",
          "text": [
            "top 5Retrieved documents: [[ 9 42 17 55 87]]\n"
          ]
        }
      ]
    },
    {
      "cell_type": "markdown",
      "source": [
        "\n",
        "🎯 Summary of What’s Happening\n",
        "FLAN-T5 generates a hypothetical document answering the query.\n",
        "Sentence Transformers convert it into an embedding (vector representation).\n",
        "FAISS retrieves real-world documents similar to the hypothetical answer.\n",
        "We extract the best match to return a final answer.\n"
      ],
      "metadata": {
        "id": "ETD0UAOFC3cM"
      }
    },
    {
      "source": [
        "# Sample document store (You should replace this with your actual documents)\n",
        "documents = [\n",
        "    \"Climate change is causing sea levels to rise.\",\n",
        "    \"AI is transforming the healthcare industry.\",\n",
        "    \"Renewable energy is becoming more popular worldwide.\",\n",
        "    \"Deforestation is a major contributor to global warming.\",\n",
        "    \"Marine life is heavily affected by increasing ocean temperatures.\",\n",
        "    \"The Great Barrier Reef is at risk due to coral bleaching.\",\n",
        "    \"Many species are migrating due to climate change.\",\n",
        "    \"Industrial pollution is worsening ocean acidification.\",\n",
        "    \"Overfishing is depleting fish populations.\",\n",
        "    \"The Arctic ice is melting at an unprecedented rate.\"\n",
        "]  # Add more real documents in a larger dataset\n",
        "\n",
        "# Convert documents to embeddings and add them to FAISS index\n",
        "document_embeddings = np.array([encode_text(doc)[0] for doc in documents], dtype=\"float32\") # Get the first element of the returned list\n",
        "index = faiss.IndexFlatL2(document_embeddings.shape[1])\n",
        "index.add(document_embeddings)\n",
        "\n",
        "# Perform search with hypothetical document embedding\n",
        "k = 5  # Number of retrieved documents\n",
        "D, I = index.search(np.array([hypothetical_embedding[0]]), k)  # Get the first element of hypothetical_embedding\n",
        "\n",
        "# Retrieve actual document content\n",
        "retrieved_docs = [documents[idx] for idx in I[0]]\n",
        "\n",
        "# Display results\n",
        "print(\"\\nTop 5 Retrieved Documents:\")\n",
        "for i, doc in enumerate(retrieved_docs, 1):\n",
        "    print(f\"{i}. {doc}\")"
      ],
      "cell_type": "code",
      "metadata": {
        "colab": {
          "base_uri": "https://localhost:8080/"
        },
        "id": "2cK-QR6WIjlo",
        "outputId": "da13c56b-cdf5-4494-952c-fac8cb03bcfd"
      },
      "execution_count": null,
      "outputs": [
        {
          "output_type": "stream",
          "name": "stdout",
          "text": [
            "\n",
            "Top 5 Retrieved Documents:\n",
            "1. Marine life is heavily affected by increasing ocean temperatures.\n",
            "2. Overfishing is depleting fish populations.\n",
            "3. Climate change is causing sea levels to rise.\n",
            "4. Many species are migrating due to climate change.\n",
            "5. Industrial pollution is worsening ocean acidification.\n"
          ]
        }
      ]
    }
  ],
  "metadata": {
    "colab": {
      "provenance": []
    },
    "kernelspec": {
      "display_name": "Python 3",
      "name": "python3"
    },
    "language_info": {
      "name": "python"
    },
    "widgets": {
      "application/vnd.jupyter.widget-state+json": {
        "bb4a848ac87146b18331aa0f6ef88c36": {
          "model_module": "@jupyter-widgets/controls",
          "model_name": "HBoxModel",
          "model_module_version": "1.5.0",
          "state": {
            "_dom_classes": [],
            "_model_module": "@jupyter-widgets/controls",
            "_model_module_version": "1.5.0",
            "_model_name": "HBoxModel",
            "_view_count": null,
            "_view_module": "@jupyter-widgets/controls",
            "_view_module_version": "1.5.0",
            "_view_name": "HBoxView",
            "box_style": "",
            "children": [
              "IPY_MODEL_84cb88db44e04a309e5ec7a062ac697c",
              "IPY_MODEL_9a7324ec4b734f8bbe08084498c98833",
              "IPY_MODEL_2fb1b06d4fd14f1ba89fa7531d15a4fd"
            ],
            "layout": "IPY_MODEL_8e2ceee2c123446189d7a5b1aeffe766"
          }
        },
        "84cb88db44e04a309e5ec7a062ac697c": {
          "model_module": "@jupyter-widgets/controls",
          "model_name": "HTMLModel",
          "model_module_version": "1.5.0",
          "state": {
            "_dom_classes": [],
            "_model_module": "@jupyter-widgets/controls",
            "_model_module_version": "1.5.0",
            "_model_name": "HTMLModel",
            "_view_count": null,
            "_view_module": "@jupyter-widgets/controls",
            "_view_module_version": "1.5.0",
            "_view_name": "HTMLView",
            "description": "",
            "description_tooltip": null,
            "layout": "IPY_MODEL_54ce0ef80e4f471f8c247874da8b9c4e",
            "placeholder": "​",
            "style": "IPY_MODEL_94dd6518af4e403ba3b750af4dca0384",
            "value": "modules.json: 100%"
          }
        },
        "9a7324ec4b734f8bbe08084498c98833": {
          "model_module": "@jupyter-widgets/controls",
          "model_name": "FloatProgressModel",
          "model_module_version": "1.5.0",
          "state": {
            "_dom_classes": [],
            "_model_module": "@jupyter-widgets/controls",
            "_model_module_version": "1.5.0",
            "_model_name": "FloatProgressModel",
            "_view_count": null,
            "_view_module": "@jupyter-widgets/controls",
            "_view_module_version": "1.5.0",
            "_view_name": "ProgressView",
            "bar_style": "success",
            "description": "",
            "description_tooltip": null,
            "layout": "IPY_MODEL_5653e44a080b4673b2cbb28268606f97",
            "max": 349,
            "min": 0,
            "orientation": "horizontal",
            "style": "IPY_MODEL_1b1f0e98423d425d9a24ed411b90e516",
            "value": 349
          }
        },
        "2fb1b06d4fd14f1ba89fa7531d15a4fd": {
          "model_module": "@jupyter-widgets/controls",
          "model_name": "HTMLModel",
          "model_module_version": "1.5.0",
          "state": {
            "_dom_classes": [],
            "_model_module": "@jupyter-widgets/controls",
            "_model_module_version": "1.5.0",
            "_model_name": "HTMLModel",
            "_view_count": null,
            "_view_module": "@jupyter-widgets/controls",
            "_view_module_version": "1.5.0",
            "_view_name": "HTMLView",
            "description": "",
            "description_tooltip": null,
            "layout": "IPY_MODEL_9b7f7eb0abfb4c489deaaa129ca64585",
            "placeholder": "​",
            "style": "IPY_MODEL_9d0b4d82e42141939f4883c37c7503d0",
            "value": " 349/349 [00:00&lt;00:00, 18.2kB/s]"
          }
        },
        "8e2ceee2c123446189d7a5b1aeffe766": {
          "model_module": "@jupyter-widgets/base",
          "model_name": "LayoutModel",
          "model_module_version": "1.2.0",
          "state": {
            "_model_module": "@jupyter-widgets/base",
            "_model_module_version": "1.2.0",
            "_model_name": "LayoutModel",
            "_view_count": null,
            "_view_module": "@jupyter-widgets/base",
            "_view_module_version": "1.2.0",
            "_view_name": "LayoutView",
            "align_content": null,
            "align_items": null,
            "align_self": null,
            "border": null,
            "bottom": null,
            "display": null,
            "flex": null,
            "flex_flow": null,
            "grid_area": null,
            "grid_auto_columns": null,
            "grid_auto_flow": null,
            "grid_auto_rows": null,
            "grid_column": null,
            "grid_gap": null,
            "grid_row": null,
            "grid_template_areas": null,
            "grid_template_columns": null,
            "grid_template_rows": null,
            "height": null,
            "justify_content": null,
            "justify_items": null,
            "left": null,
            "margin": null,
            "max_height": null,
            "max_width": null,
            "min_height": null,
            "min_width": null,
            "object_fit": null,
            "object_position": null,
            "order": null,
            "overflow": null,
            "overflow_x": null,
            "overflow_y": null,
            "padding": null,
            "right": null,
            "top": null,
            "visibility": null,
            "width": null
          }
        },
        "54ce0ef80e4f471f8c247874da8b9c4e": {
          "model_module": "@jupyter-widgets/base",
          "model_name": "LayoutModel",
          "model_module_version": "1.2.0",
          "state": {
            "_model_module": "@jupyter-widgets/base",
            "_model_module_version": "1.2.0",
            "_model_name": "LayoutModel",
            "_view_count": null,
            "_view_module": "@jupyter-widgets/base",
            "_view_module_version": "1.2.0",
            "_view_name": "LayoutView",
            "align_content": null,
            "align_items": null,
            "align_self": null,
            "border": null,
            "bottom": null,
            "display": null,
            "flex": null,
            "flex_flow": null,
            "grid_area": null,
            "grid_auto_columns": null,
            "grid_auto_flow": null,
            "grid_auto_rows": null,
            "grid_column": null,
            "grid_gap": null,
            "grid_row": null,
            "grid_template_areas": null,
            "grid_template_columns": null,
            "grid_template_rows": null,
            "height": null,
            "justify_content": null,
            "justify_items": null,
            "left": null,
            "margin": null,
            "max_height": null,
            "max_width": null,
            "min_height": null,
            "min_width": null,
            "object_fit": null,
            "object_position": null,
            "order": null,
            "overflow": null,
            "overflow_x": null,
            "overflow_y": null,
            "padding": null,
            "right": null,
            "top": null,
            "visibility": null,
            "width": null
          }
        },
        "94dd6518af4e403ba3b750af4dca0384": {
          "model_module": "@jupyter-widgets/controls",
          "model_name": "DescriptionStyleModel",
          "model_module_version": "1.5.0",
          "state": {
            "_model_module": "@jupyter-widgets/controls",
            "_model_module_version": "1.5.0",
            "_model_name": "DescriptionStyleModel",
            "_view_count": null,
            "_view_module": "@jupyter-widgets/base",
            "_view_module_version": "1.2.0",
            "_view_name": "StyleView",
            "description_width": ""
          }
        },
        "5653e44a080b4673b2cbb28268606f97": {
          "model_module": "@jupyter-widgets/base",
          "model_name": "LayoutModel",
          "model_module_version": "1.2.0",
          "state": {
            "_model_module": "@jupyter-widgets/base",
            "_model_module_version": "1.2.0",
            "_model_name": "LayoutModel",
            "_view_count": null,
            "_view_module": "@jupyter-widgets/base",
            "_view_module_version": "1.2.0",
            "_view_name": "LayoutView",
            "align_content": null,
            "align_items": null,
            "align_self": null,
            "border": null,
            "bottom": null,
            "display": null,
            "flex": null,
            "flex_flow": null,
            "grid_area": null,
            "grid_auto_columns": null,
            "grid_auto_flow": null,
            "grid_auto_rows": null,
            "grid_column": null,
            "grid_gap": null,
            "grid_row": null,
            "grid_template_areas": null,
            "grid_template_columns": null,
            "grid_template_rows": null,
            "height": null,
            "justify_content": null,
            "justify_items": null,
            "left": null,
            "margin": null,
            "max_height": null,
            "max_width": null,
            "min_height": null,
            "min_width": null,
            "object_fit": null,
            "object_position": null,
            "order": null,
            "overflow": null,
            "overflow_x": null,
            "overflow_y": null,
            "padding": null,
            "right": null,
            "top": null,
            "visibility": null,
            "width": null
          }
        },
        "1b1f0e98423d425d9a24ed411b90e516": {
          "model_module": "@jupyter-widgets/controls",
          "model_name": "ProgressStyleModel",
          "model_module_version": "1.5.0",
          "state": {
            "_model_module": "@jupyter-widgets/controls",
            "_model_module_version": "1.5.0",
            "_model_name": "ProgressStyleModel",
            "_view_count": null,
            "_view_module": "@jupyter-widgets/base",
            "_view_module_version": "1.2.0",
            "_view_name": "StyleView",
            "bar_color": null,
            "description_width": ""
          }
        },
        "9b7f7eb0abfb4c489deaaa129ca64585": {
          "model_module": "@jupyter-widgets/base",
          "model_name": "LayoutModel",
          "model_module_version": "1.2.0",
          "state": {
            "_model_module": "@jupyter-widgets/base",
            "_model_module_version": "1.2.0",
            "_model_name": "LayoutModel",
            "_view_count": null,
            "_view_module": "@jupyter-widgets/base",
            "_view_module_version": "1.2.0",
            "_view_name": "LayoutView",
            "align_content": null,
            "align_items": null,
            "align_self": null,
            "border": null,
            "bottom": null,
            "display": null,
            "flex": null,
            "flex_flow": null,
            "grid_area": null,
            "grid_auto_columns": null,
            "grid_auto_flow": null,
            "grid_auto_rows": null,
            "grid_column": null,
            "grid_gap": null,
            "grid_row": null,
            "grid_template_areas": null,
            "grid_template_columns": null,
            "grid_template_rows": null,
            "height": null,
            "justify_content": null,
            "justify_items": null,
            "left": null,
            "margin": null,
            "max_height": null,
            "max_width": null,
            "min_height": null,
            "min_width": null,
            "object_fit": null,
            "object_position": null,
            "order": null,
            "overflow": null,
            "overflow_x": null,
            "overflow_y": null,
            "padding": null,
            "right": null,
            "top": null,
            "visibility": null,
            "width": null
          }
        },
        "9d0b4d82e42141939f4883c37c7503d0": {
          "model_module": "@jupyter-widgets/controls",
          "model_name": "DescriptionStyleModel",
          "model_module_version": "1.5.0",
          "state": {
            "_model_module": "@jupyter-widgets/controls",
            "_model_module_version": "1.5.0",
            "_model_name": "DescriptionStyleModel",
            "_view_count": null,
            "_view_module": "@jupyter-widgets/base",
            "_view_module_version": "1.2.0",
            "_view_name": "StyleView",
            "description_width": ""
          }
        },
        "0b00ccf36bf24b1ebb8a1adecbe9a35f": {
          "model_module": "@jupyter-widgets/controls",
          "model_name": "HBoxModel",
          "model_module_version": "1.5.0",
          "state": {
            "_dom_classes": [],
            "_model_module": "@jupyter-widgets/controls",
            "_model_module_version": "1.5.0",
            "_model_name": "HBoxModel",
            "_view_count": null,
            "_view_module": "@jupyter-widgets/controls",
            "_view_module_version": "1.5.0",
            "_view_name": "HBoxView",
            "box_style": "",
            "children": [
              "IPY_MODEL_57bee7e4be4145788a8781f6567d79f2",
              "IPY_MODEL_2ef53b1925d247dd899dffe2271cd7b7",
              "IPY_MODEL_de2009d0d800412ead366ae5a80e9ef0"
            ],
            "layout": "IPY_MODEL_b54d0df488314bbbb61fb716ca4d104d"
          }
        },
        "57bee7e4be4145788a8781f6567d79f2": {
          "model_module": "@jupyter-widgets/controls",
          "model_name": "HTMLModel",
          "model_module_version": "1.5.0",
          "state": {
            "_dom_classes": [],
            "_model_module": "@jupyter-widgets/controls",
            "_model_module_version": "1.5.0",
            "_model_name": "HTMLModel",
            "_view_count": null,
            "_view_module": "@jupyter-widgets/controls",
            "_view_module_version": "1.5.0",
            "_view_name": "HTMLView",
            "description": "",
            "description_tooltip": null,
            "layout": "IPY_MODEL_5958fc65c79c47c88f1cf30cd7151c92",
            "placeholder": "​",
            "style": "IPY_MODEL_e7f95b8f592240658d68c872f316713c",
            "value": "config_sentence_transformers.json: 100%"
          }
        },
        "2ef53b1925d247dd899dffe2271cd7b7": {
          "model_module": "@jupyter-widgets/controls",
          "model_name": "FloatProgressModel",
          "model_module_version": "1.5.0",
          "state": {
            "_dom_classes": [],
            "_model_module": "@jupyter-widgets/controls",
            "_model_module_version": "1.5.0",
            "_model_name": "FloatProgressModel",
            "_view_count": null,
            "_view_module": "@jupyter-widgets/controls",
            "_view_module_version": "1.5.0",
            "_view_name": "ProgressView",
            "bar_style": "success",
            "description": "",
            "description_tooltip": null,
            "layout": "IPY_MODEL_e8634466444f44a5bbee7d95168df413",
            "max": 116,
            "min": 0,
            "orientation": "horizontal",
            "style": "IPY_MODEL_4ad1bfac5b9349178a92f6468c38391a",
            "value": 116
          }
        },
        "de2009d0d800412ead366ae5a80e9ef0": {
          "model_module": "@jupyter-widgets/controls",
          "model_name": "HTMLModel",
          "model_module_version": "1.5.0",
          "state": {
            "_dom_classes": [],
            "_model_module": "@jupyter-widgets/controls",
            "_model_module_version": "1.5.0",
            "_model_name": "HTMLModel",
            "_view_count": null,
            "_view_module": "@jupyter-widgets/controls",
            "_view_module_version": "1.5.0",
            "_view_name": "HTMLView",
            "description": "",
            "description_tooltip": null,
            "layout": "IPY_MODEL_5294b8d4b08b48ad84f6e30aae87f81b",
            "placeholder": "​",
            "style": "IPY_MODEL_48c1955ca628419db97765f323196b9d",
            "value": " 116/116 [00:00&lt;00:00, 8.48kB/s]"
          }
        },
        "b54d0df488314bbbb61fb716ca4d104d": {
          "model_module": "@jupyter-widgets/base",
          "model_name": "LayoutModel",
          "model_module_version": "1.2.0",
          "state": {
            "_model_module": "@jupyter-widgets/base",
            "_model_module_version": "1.2.0",
            "_model_name": "LayoutModel",
            "_view_count": null,
            "_view_module": "@jupyter-widgets/base",
            "_view_module_version": "1.2.0",
            "_view_name": "LayoutView",
            "align_content": null,
            "align_items": null,
            "align_self": null,
            "border": null,
            "bottom": null,
            "display": null,
            "flex": null,
            "flex_flow": null,
            "grid_area": null,
            "grid_auto_columns": null,
            "grid_auto_flow": null,
            "grid_auto_rows": null,
            "grid_column": null,
            "grid_gap": null,
            "grid_row": null,
            "grid_template_areas": null,
            "grid_template_columns": null,
            "grid_template_rows": null,
            "height": null,
            "justify_content": null,
            "justify_items": null,
            "left": null,
            "margin": null,
            "max_height": null,
            "max_width": null,
            "min_height": null,
            "min_width": null,
            "object_fit": null,
            "object_position": null,
            "order": null,
            "overflow": null,
            "overflow_x": null,
            "overflow_y": null,
            "padding": null,
            "right": null,
            "top": null,
            "visibility": null,
            "width": null
          }
        },
        "5958fc65c79c47c88f1cf30cd7151c92": {
          "model_module": "@jupyter-widgets/base",
          "model_name": "LayoutModel",
          "model_module_version": "1.2.0",
          "state": {
            "_model_module": "@jupyter-widgets/base",
            "_model_module_version": "1.2.0",
            "_model_name": "LayoutModel",
            "_view_count": null,
            "_view_module": "@jupyter-widgets/base",
            "_view_module_version": "1.2.0",
            "_view_name": "LayoutView",
            "align_content": null,
            "align_items": null,
            "align_self": null,
            "border": null,
            "bottom": null,
            "display": null,
            "flex": null,
            "flex_flow": null,
            "grid_area": null,
            "grid_auto_columns": null,
            "grid_auto_flow": null,
            "grid_auto_rows": null,
            "grid_column": null,
            "grid_gap": null,
            "grid_row": null,
            "grid_template_areas": null,
            "grid_template_columns": null,
            "grid_template_rows": null,
            "height": null,
            "justify_content": null,
            "justify_items": null,
            "left": null,
            "margin": null,
            "max_height": null,
            "max_width": null,
            "min_height": null,
            "min_width": null,
            "object_fit": null,
            "object_position": null,
            "order": null,
            "overflow": null,
            "overflow_x": null,
            "overflow_y": null,
            "padding": null,
            "right": null,
            "top": null,
            "visibility": null,
            "width": null
          }
        },
        "e7f95b8f592240658d68c872f316713c": {
          "model_module": "@jupyter-widgets/controls",
          "model_name": "DescriptionStyleModel",
          "model_module_version": "1.5.0",
          "state": {
            "_model_module": "@jupyter-widgets/controls",
            "_model_module_version": "1.5.0",
            "_model_name": "DescriptionStyleModel",
            "_view_count": null,
            "_view_module": "@jupyter-widgets/base",
            "_view_module_version": "1.2.0",
            "_view_name": "StyleView",
            "description_width": ""
          }
        },
        "e8634466444f44a5bbee7d95168df413": {
          "model_module": "@jupyter-widgets/base",
          "model_name": "LayoutModel",
          "model_module_version": "1.2.0",
          "state": {
            "_model_module": "@jupyter-widgets/base",
            "_model_module_version": "1.2.0",
            "_model_name": "LayoutModel",
            "_view_count": null,
            "_view_module": "@jupyter-widgets/base",
            "_view_module_version": "1.2.0",
            "_view_name": "LayoutView",
            "align_content": null,
            "align_items": null,
            "align_self": null,
            "border": null,
            "bottom": null,
            "display": null,
            "flex": null,
            "flex_flow": null,
            "grid_area": null,
            "grid_auto_columns": null,
            "grid_auto_flow": null,
            "grid_auto_rows": null,
            "grid_column": null,
            "grid_gap": null,
            "grid_row": null,
            "grid_template_areas": null,
            "grid_template_columns": null,
            "grid_template_rows": null,
            "height": null,
            "justify_content": null,
            "justify_items": null,
            "left": null,
            "margin": null,
            "max_height": null,
            "max_width": null,
            "min_height": null,
            "min_width": null,
            "object_fit": null,
            "object_position": null,
            "order": null,
            "overflow": null,
            "overflow_x": null,
            "overflow_y": null,
            "padding": null,
            "right": null,
            "top": null,
            "visibility": null,
            "width": null
          }
        },
        "4ad1bfac5b9349178a92f6468c38391a": {
          "model_module": "@jupyter-widgets/controls",
          "model_name": "ProgressStyleModel",
          "model_module_version": "1.5.0",
          "state": {
            "_model_module": "@jupyter-widgets/controls",
            "_model_module_version": "1.5.0",
            "_model_name": "ProgressStyleModel",
            "_view_count": null,
            "_view_module": "@jupyter-widgets/base",
            "_view_module_version": "1.2.0",
            "_view_name": "StyleView",
            "bar_color": null,
            "description_width": ""
          }
        },
        "5294b8d4b08b48ad84f6e30aae87f81b": {
          "model_module": "@jupyter-widgets/base",
          "model_name": "LayoutModel",
          "model_module_version": "1.2.0",
          "state": {
            "_model_module": "@jupyter-widgets/base",
            "_model_module_version": "1.2.0",
            "_model_name": "LayoutModel",
            "_view_count": null,
            "_view_module": "@jupyter-widgets/base",
            "_view_module_version": "1.2.0",
            "_view_name": "LayoutView",
            "align_content": null,
            "align_items": null,
            "align_self": null,
            "border": null,
            "bottom": null,
            "display": null,
            "flex": null,
            "flex_flow": null,
            "grid_area": null,
            "grid_auto_columns": null,
            "grid_auto_flow": null,
            "grid_auto_rows": null,
            "grid_column": null,
            "grid_gap": null,
            "grid_row": null,
            "grid_template_areas": null,
            "grid_template_columns": null,
            "grid_template_rows": null,
            "height": null,
            "justify_content": null,
            "justify_items": null,
            "left": null,
            "margin": null,
            "max_height": null,
            "max_width": null,
            "min_height": null,
            "min_width": null,
            "object_fit": null,
            "object_position": null,
            "order": null,
            "overflow": null,
            "overflow_x": null,
            "overflow_y": null,
            "padding": null,
            "right": null,
            "top": null,
            "visibility": null,
            "width": null
          }
        },
        "48c1955ca628419db97765f323196b9d": {
          "model_module": "@jupyter-widgets/controls",
          "model_name": "DescriptionStyleModel",
          "model_module_version": "1.5.0",
          "state": {
            "_model_module": "@jupyter-widgets/controls",
            "_model_module_version": "1.5.0",
            "_model_name": "DescriptionStyleModel",
            "_view_count": null,
            "_view_module": "@jupyter-widgets/base",
            "_view_module_version": "1.2.0",
            "_view_name": "StyleView",
            "description_width": ""
          }
        },
        "dbf77eaef6d34f49bb59e6ce01429199": {
          "model_module": "@jupyter-widgets/controls",
          "model_name": "HBoxModel",
          "model_module_version": "1.5.0",
          "state": {
            "_dom_classes": [],
            "_model_module": "@jupyter-widgets/controls",
            "_model_module_version": "1.5.0",
            "_model_name": "HBoxModel",
            "_view_count": null,
            "_view_module": "@jupyter-widgets/controls",
            "_view_module_version": "1.5.0",
            "_view_name": "HBoxView",
            "box_style": "",
            "children": [
              "IPY_MODEL_100886e9c6864fb788ee2baee11a5d8c",
              "IPY_MODEL_078c04417d2141268d3399bc39f447e7",
              "IPY_MODEL_77149230281040459f9eaff34cdd3bd5"
            ],
            "layout": "IPY_MODEL_8e82098cd2f34888b738fea7dab53d70"
          }
        },
        "100886e9c6864fb788ee2baee11a5d8c": {
          "model_module": "@jupyter-widgets/controls",
          "model_name": "HTMLModel",
          "model_module_version": "1.5.0",
          "state": {
            "_dom_classes": [],
            "_model_module": "@jupyter-widgets/controls",
            "_model_module_version": "1.5.0",
            "_model_name": "HTMLModel",
            "_view_count": null,
            "_view_module": "@jupyter-widgets/controls",
            "_view_module_version": "1.5.0",
            "_view_name": "HTMLView",
            "description": "",
            "description_tooltip": null,
            "layout": "IPY_MODEL_3e72800d697b4fb79be09234c3c610ce",
            "placeholder": "​",
            "style": "IPY_MODEL_dc820e968a9f454092a826be8a9ba408",
            "value": "README.md: 100%"
          }
        },
        "078c04417d2141268d3399bc39f447e7": {
          "model_module": "@jupyter-widgets/controls",
          "model_name": "FloatProgressModel",
          "model_module_version": "1.5.0",
          "state": {
            "_dom_classes": [],
            "_model_module": "@jupyter-widgets/controls",
            "_model_module_version": "1.5.0",
            "_model_name": "FloatProgressModel",
            "_view_count": null,
            "_view_module": "@jupyter-widgets/controls",
            "_view_module_version": "1.5.0",
            "_view_name": "ProgressView",
            "bar_style": "success",
            "description": "",
            "description_tooltip": null,
            "layout": "IPY_MODEL_c20f9bf218dc4ab7abd8e40a41b5ed67",
            "max": 10659,
            "min": 0,
            "orientation": "horizontal",
            "style": "IPY_MODEL_c050956c85e8453db2185b9f2d0011da",
            "value": 10659
          }
        },
        "77149230281040459f9eaff34cdd3bd5": {
          "model_module": "@jupyter-widgets/controls",
          "model_name": "HTMLModel",
          "model_module_version": "1.5.0",
          "state": {
            "_dom_classes": [],
            "_model_module": "@jupyter-widgets/controls",
            "_model_module_version": "1.5.0",
            "_model_name": "HTMLModel",
            "_view_count": null,
            "_view_module": "@jupyter-widgets/controls",
            "_view_module_version": "1.5.0",
            "_view_name": "HTMLView",
            "description": "",
            "description_tooltip": null,
            "layout": "IPY_MODEL_477ebff3f9b842269758417af3831242",
            "placeholder": "​",
            "style": "IPY_MODEL_6e83dd4e5e7c48e0a8931f1ba494ccd0",
            "value": " 10.7k/10.7k [00:00&lt;00:00, 571kB/s]"
          }
        },
        "8e82098cd2f34888b738fea7dab53d70": {
          "model_module": "@jupyter-widgets/base",
          "model_name": "LayoutModel",
          "model_module_version": "1.2.0",
          "state": {
            "_model_module": "@jupyter-widgets/base",
            "_model_module_version": "1.2.0",
            "_model_name": "LayoutModel",
            "_view_count": null,
            "_view_module": "@jupyter-widgets/base",
            "_view_module_version": "1.2.0",
            "_view_name": "LayoutView",
            "align_content": null,
            "align_items": null,
            "align_self": null,
            "border": null,
            "bottom": null,
            "display": null,
            "flex": null,
            "flex_flow": null,
            "grid_area": null,
            "grid_auto_columns": null,
            "grid_auto_flow": null,
            "grid_auto_rows": null,
            "grid_column": null,
            "grid_gap": null,
            "grid_row": null,
            "grid_template_areas": null,
            "grid_template_columns": null,
            "grid_template_rows": null,
            "height": null,
            "justify_content": null,
            "justify_items": null,
            "left": null,
            "margin": null,
            "max_height": null,
            "max_width": null,
            "min_height": null,
            "min_width": null,
            "object_fit": null,
            "object_position": null,
            "order": null,
            "overflow": null,
            "overflow_x": null,
            "overflow_y": null,
            "padding": null,
            "right": null,
            "top": null,
            "visibility": null,
            "width": null
          }
        },
        "3e72800d697b4fb79be09234c3c610ce": {
          "model_module": "@jupyter-widgets/base",
          "model_name": "LayoutModel",
          "model_module_version": "1.2.0",
          "state": {
            "_model_module": "@jupyter-widgets/base",
            "_model_module_version": "1.2.0",
            "_model_name": "LayoutModel",
            "_view_count": null,
            "_view_module": "@jupyter-widgets/base",
            "_view_module_version": "1.2.0",
            "_view_name": "LayoutView",
            "align_content": null,
            "align_items": null,
            "align_self": null,
            "border": null,
            "bottom": null,
            "display": null,
            "flex": null,
            "flex_flow": null,
            "grid_area": null,
            "grid_auto_columns": null,
            "grid_auto_flow": null,
            "grid_auto_rows": null,
            "grid_column": null,
            "grid_gap": null,
            "grid_row": null,
            "grid_template_areas": null,
            "grid_template_columns": null,
            "grid_template_rows": null,
            "height": null,
            "justify_content": null,
            "justify_items": null,
            "left": null,
            "margin": null,
            "max_height": null,
            "max_width": null,
            "min_height": null,
            "min_width": null,
            "object_fit": null,
            "object_position": null,
            "order": null,
            "overflow": null,
            "overflow_x": null,
            "overflow_y": null,
            "padding": null,
            "right": null,
            "top": null,
            "visibility": null,
            "width": null
          }
        },
        "dc820e968a9f454092a826be8a9ba408": {
          "model_module": "@jupyter-widgets/controls",
          "model_name": "DescriptionStyleModel",
          "model_module_version": "1.5.0",
          "state": {
            "_model_module": "@jupyter-widgets/controls",
            "_model_module_version": "1.5.0",
            "_model_name": "DescriptionStyleModel",
            "_view_count": null,
            "_view_module": "@jupyter-widgets/base",
            "_view_module_version": "1.2.0",
            "_view_name": "StyleView",
            "description_width": ""
          }
        },
        "c20f9bf218dc4ab7abd8e40a41b5ed67": {
          "model_module": "@jupyter-widgets/base",
          "model_name": "LayoutModel",
          "model_module_version": "1.2.0",
          "state": {
            "_model_module": "@jupyter-widgets/base",
            "_model_module_version": "1.2.0",
            "_model_name": "LayoutModel",
            "_view_count": null,
            "_view_module": "@jupyter-widgets/base",
            "_view_module_version": "1.2.0",
            "_view_name": "LayoutView",
            "align_content": null,
            "align_items": null,
            "align_self": null,
            "border": null,
            "bottom": null,
            "display": null,
            "flex": null,
            "flex_flow": null,
            "grid_area": null,
            "grid_auto_columns": null,
            "grid_auto_flow": null,
            "grid_auto_rows": null,
            "grid_column": null,
            "grid_gap": null,
            "grid_row": null,
            "grid_template_areas": null,
            "grid_template_columns": null,
            "grid_template_rows": null,
            "height": null,
            "justify_content": null,
            "justify_items": null,
            "left": null,
            "margin": null,
            "max_height": null,
            "max_width": null,
            "min_height": null,
            "min_width": null,
            "object_fit": null,
            "object_position": null,
            "order": null,
            "overflow": null,
            "overflow_x": null,
            "overflow_y": null,
            "padding": null,
            "right": null,
            "top": null,
            "visibility": null,
            "width": null
          }
        },
        "c050956c85e8453db2185b9f2d0011da": {
          "model_module": "@jupyter-widgets/controls",
          "model_name": "ProgressStyleModel",
          "model_module_version": "1.5.0",
          "state": {
            "_model_module": "@jupyter-widgets/controls",
            "_model_module_version": "1.5.0",
            "_model_name": "ProgressStyleModel",
            "_view_count": null,
            "_view_module": "@jupyter-widgets/base",
            "_view_module_version": "1.2.0",
            "_view_name": "StyleView",
            "bar_color": null,
            "description_width": ""
          }
        },
        "477ebff3f9b842269758417af3831242": {
          "model_module": "@jupyter-widgets/base",
          "model_name": "LayoutModel",
          "model_module_version": "1.2.0",
          "state": {
            "_model_module": "@jupyter-widgets/base",
            "_model_module_version": "1.2.0",
            "_model_name": "LayoutModel",
            "_view_count": null,
            "_view_module": "@jupyter-widgets/base",
            "_view_module_version": "1.2.0",
            "_view_name": "LayoutView",
            "align_content": null,
            "align_items": null,
            "align_self": null,
            "border": null,
            "bottom": null,
            "display": null,
            "flex": null,
            "flex_flow": null,
            "grid_area": null,
            "grid_auto_columns": null,
            "grid_auto_flow": null,
            "grid_auto_rows": null,
            "grid_column": null,
            "grid_gap": null,
            "grid_row": null,
            "grid_template_areas": null,
            "grid_template_columns": null,
            "grid_template_rows": null,
            "height": null,
            "justify_content": null,
            "justify_items": null,
            "left": null,
            "margin": null,
            "max_height": null,
            "max_width": null,
            "min_height": null,
            "min_width": null,
            "object_fit": null,
            "object_position": null,
            "order": null,
            "overflow": null,
            "overflow_x": null,
            "overflow_y": null,
            "padding": null,
            "right": null,
            "top": null,
            "visibility": null,
            "width": null
          }
        },
        "6e83dd4e5e7c48e0a8931f1ba494ccd0": {
          "model_module": "@jupyter-widgets/controls",
          "model_name": "DescriptionStyleModel",
          "model_module_version": "1.5.0",
          "state": {
            "_model_module": "@jupyter-widgets/controls",
            "_model_module_version": "1.5.0",
            "_model_name": "DescriptionStyleModel",
            "_view_count": null,
            "_view_module": "@jupyter-widgets/base",
            "_view_module_version": "1.2.0",
            "_view_name": "StyleView",
            "description_width": ""
          }
        },
        "a2d7f72e182746ae98676487a9dafbc2": {
          "model_module": "@jupyter-widgets/controls",
          "model_name": "HBoxModel",
          "model_module_version": "1.5.0",
          "state": {
            "_dom_classes": [],
            "_model_module": "@jupyter-widgets/controls",
            "_model_module_version": "1.5.0",
            "_model_name": "HBoxModel",
            "_view_count": null,
            "_view_module": "@jupyter-widgets/controls",
            "_view_module_version": "1.5.0",
            "_view_name": "HBoxView",
            "box_style": "",
            "children": [
              "IPY_MODEL_ff164d1ad7b3444b898ce110cd5a7932",
              "IPY_MODEL_17d2748cc52343ec91a32bcdcc51c0a3",
              "IPY_MODEL_1877734f3a5e4db789ee70de840cc37b"
            ],
            "layout": "IPY_MODEL_51021e6f2a2149b6b2457c1845fcd615"
          }
        },
        "ff164d1ad7b3444b898ce110cd5a7932": {
          "model_module": "@jupyter-widgets/controls",
          "model_name": "HTMLModel",
          "model_module_version": "1.5.0",
          "state": {
            "_dom_classes": [],
            "_model_module": "@jupyter-widgets/controls",
            "_model_module_version": "1.5.0",
            "_model_name": "HTMLModel",
            "_view_count": null,
            "_view_module": "@jupyter-widgets/controls",
            "_view_module_version": "1.5.0",
            "_view_name": "HTMLView",
            "description": "",
            "description_tooltip": null,
            "layout": "IPY_MODEL_701b71f9555f476ea9f9688b425d42bb",
            "placeholder": "​",
            "style": "IPY_MODEL_a4f02317fb3b48f9b8307b6524d53f18",
            "value": "sentence_bert_config.json: 100%"
          }
        },
        "17d2748cc52343ec91a32bcdcc51c0a3": {
          "model_module": "@jupyter-widgets/controls",
          "model_name": "FloatProgressModel",
          "model_module_version": "1.5.0",
          "state": {
            "_dom_classes": [],
            "_model_module": "@jupyter-widgets/controls",
            "_model_module_version": "1.5.0",
            "_model_name": "FloatProgressModel",
            "_view_count": null,
            "_view_module": "@jupyter-widgets/controls",
            "_view_module_version": "1.5.0",
            "_view_name": "ProgressView",
            "bar_style": "success",
            "description": "",
            "description_tooltip": null,
            "layout": "IPY_MODEL_aab0cf0608c7457083d0ea6127be1d33",
            "max": 53,
            "min": 0,
            "orientation": "horizontal",
            "style": "IPY_MODEL_48ec00e4e22b40a48cdb4da3b5ab317c",
            "value": 53
          }
        },
        "1877734f3a5e4db789ee70de840cc37b": {
          "model_module": "@jupyter-widgets/controls",
          "model_name": "HTMLModel",
          "model_module_version": "1.5.0",
          "state": {
            "_dom_classes": [],
            "_model_module": "@jupyter-widgets/controls",
            "_model_module_version": "1.5.0",
            "_model_name": "HTMLModel",
            "_view_count": null,
            "_view_module": "@jupyter-widgets/controls",
            "_view_module_version": "1.5.0",
            "_view_name": "HTMLView",
            "description": "",
            "description_tooltip": null,
            "layout": "IPY_MODEL_9b6f304f510a436890f3399fd1439748",
            "placeholder": "​",
            "style": "IPY_MODEL_2af1df9393fd4e8ea63cdb83f0a8939b",
            "value": " 53.0/53.0 [00:00&lt;00:00, 4.14kB/s]"
          }
        },
        "51021e6f2a2149b6b2457c1845fcd615": {
          "model_module": "@jupyter-widgets/base",
          "model_name": "LayoutModel",
          "model_module_version": "1.2.0",
          "state": {
            "_model_module": "@jupyter-widgets/base",
            "_model_module_version": "1.2.0",
            "_model_name": "LayoutModel",
            "_view_count": null,
            "_view_module": "@jupyter-widgets/base",
            "_view_module_version": "1.2.0",
            "_view_name": "LayoutView",
            "align_content": null,
            "align_items": null,
            "align_self": null,
            "border": null,
            "bottom": null,
            "display": null,
            "flex": null,
            "flex_flow": null,
            "grid_area": null,
            "grid_auto_columns": null,
            "grid_auto_flow": null,
            "grid_auto_rows": null,
            "grid_column": null,
            "grid_gap": null,
            "grid_row": null,
            "grid_template_areas": null,
            "grid_template_columns": null,
            "grid_template_rows": null,
            "height": null,
            "justify_content": null,
            "justify_items": null,
            "left": null,
            "margin": null,
            "max_height": null,
            "max_width": null,
            "min_height": null,
            "min_width": null,
            "object_fit": null,
            "object_position": null,
            "order": null,
            "overflow": null,
            "overflow_x": null,
            "overflow_y": null,
            "padding": null,
            "right": null,
            "top": null,
            "visibility": null,
            "width": null
          }
        },
        "701b71f9555f476ea9f9688b425d42bb": {
          "model_module": "@jupyter-widgets/base",
          "model_name": "LayoutModel",
          "model_module_version": "1.2.0",
          "state": {
            "_model_module": "@jupyter-widgets/base",
            "_model_module_version": "1.2.0",
            "_model_name": "LayoutModel",
            "_view_count": null,
            "_view_module": "@jupyter-widgets/base",
            "_view_module_version": "1.2.0",
            "_view_name": "LayoutView",
            "align_content": null,
            "align_items": null,
            "align_self": null,
            "border": null,
            "bottom": null,
            "display": null,
            "flex": null,
            "flex_flow": null,
            "grid_area": null,
            "grid_auto_columns": null,
            "grid_auto_flow": null,
            "grid_auto_rows": null,
            "grid_column": null,
            "grid_gap": null,
            "grid_row": null,
            "grid_template_areas": null,
            "grid_template_columns": null,
            "grid_template_rows": null,
            "height": null,
            "justify_content": null,
            "justify_items": null,
            "left": null,
            "margin": null,
            "max_height": null,
            "max_width": null,
            "min_height": null,
            "min_width": null,
            "object_fit": null,
            "object_position": null,
            "order": null,
            "overflow": null,
            "overflow_x": null,
            "overflow_y": null,
            "padding": null,
            "right": null,
            "top": null,
            "visibility": null,
            "width": null
          }
        },
        "a4f02317fb3b48f9b8307b6524d53f18": {
          "model_module": "@jupyter-widgets/controls",
          "model_name": "DescriptionStyleModel",
          "model_module_version": "1.5.0",
          "state": {
            "_model_module": "@jupyter-widgets/controls",
            "_model_module_version": "1.5.0",
            "_model_name": "DescriptionStyleModel",
            "_view_count": null,
            "_view_module": "@jupyter-widgets/base",
            "_view_module_version": "1.2.0",
            "_view_name": "StyleView",
            "description_width": ""
          }
        },
        "aab0cf0608c7457083d0ea6127be1d33": {
          "model_module": "@jupyter-widgets/base",
          "model_name": "LayoutModel",
          "model_module_version": "1.2.0",
          "state": {
            "_model_module": "@jupyter-widgets/base",
            "_model_module_version": "1.2.0",
            "_model_name": "LayoutModel",
            "_view_count": null,
            "_view_module": "@jupyter-widgets/base",
            "_view_module_version": "1.2.0",
            "_view_name": "LayoutView",
            "align_content": null,
            "align_items": null,
            "align_self": null,
            "border": null,
            "bottom": null,
            "display": null,
            "flex": null,
            "flex_flow": null,
            "grid_area": null,
            "grid_auto_columns": null,
            "grid_auto_flow": null,
            "grid_auto_rows": null,
            "grid_column": null,
            "grid_gap": null,
            "grid_row": null,
            "grid_template_areas": null,
            "grid_template_columns": null,
            "grid_template_rows": null,
            "height": null,
            "justify_content": null,
            "justify_items": null,
            "left": null,
            "margin": null,
            "max_height": null,
            "max_width": null,
            "min_height": null,
            "min_width": null,
            "object_fit": null,
            "object_position": null,
            "order": null,
            "overflow": null,
            "overflow_x": null,
            "overflow_y": null,
            "padding": null,
            "right": null,
            "top": null,
            "visibility": null,
            "width": null
          }
        },
        "48ec00e4e22b40a48cdb4da3b5ab317c": {
          "model_module": "@jupyter-widgets/controls",
          "model_name": "ProgressStyleModel",
          "model_module_version": "1.5.0",
          "state": {
            "_model_module": "@jupyter-widgets/controls",
            "_model_module_version": "1.5.0",
            "_model_name": "ProgressStyleModel",
            "_view_count": null,
            "_view_module": "@jupyter-widgets/base",
            "_view_module_version": "1.2.0",
            "_view_name": "StyleView",
            "bar_color": null,
            "description_width": ""
          }
        },
        "9b6f304f510a436890f3399fd1439748": {
          "model_module": "@jupyter-widgets/base",
          "model_name": "LayoutModel",
          "model_module_version": "1.2.0",
          "state": {
            "_model_module": "@jupyter-widgets/base",
            "_model_module_version": "1.2.0",
            "_model_name": "LayoutModel",
            "_view_count": null,
            "_view_module": "@jupyter-widgets/base",
            "_view_module_version": "1.2.0",
            "_view_name": "LayoutView",
            "align_content": null,
            "align_items": null,
            "align_self": null,
            "border": null,
            "bottom": null,
            "display": null,
            "flex": null,
            "flex_flow": null,
            "grid_area": null,
            "grid_auto_columns": null,
            "grid_auto_flow": null,
            "grid_auto_rows": null,
            "grid_column": null,
            "grid_gap": null,
            "grid_row": null,
            "grid_template_areas": null,
            "grid_template_columns": null,
            "grid_template_rows": null,
            "height": null,
            "justify_content": null,
            "justify_items": null,
            "left": null,
            "margin": null,
            "max_height": null,
            "max_width": null,
            "min_height": null,
            "min_width": null,
            "object_fit": null,
            "object_position": null,
            "order": null,
            "overflow": null,
            "overflow_x": null,
            "overflow_y": null,
            "padding": null,
            "right": null,
            "top": null,
            "visibility": null,
            "width": null
          }
        },
        "2af1df9393fd4e8ea63cdb83f0a8939b": {
          "model_module": "@jupyter-widgets/controls",
          "model_name": "DescriptionStyleModel",
          "model_module_version": "1.5.0",
          "state": {
            "_model_module": "@jupyter-widgets/controls",
            "_model_module_version": "1.5.0",
            "_model_name": "DescriptionStyleModel",
            "_view_count": null,
            "_view_module": "@jupyter-widgets/base",
            "_view_module_version": "1.2.0",
            "_view_name": "StyleView",
            "description_width": ""
          }
        },
        "1472a9fc0a654e588732777b62fb7d16": {
          "model_module": "@jupyter-widgets/controls",
          "model_name": "HBoxModel",
          "model_module_version": "1.5.0",
          "state": {
            "_dom_classes": [],
            "_model_module": "@jupyter-widgets/controls",
            "_model_module_version": "1.5.0",
            "_model_name": "HBoxModel",
            "_view_count": null,
            "_view_module": "@jupyter-widgets/controls",
            "_view_module_version": "1.5.0",
            "_view_name": "HBoxView",
            "box_style": "",
            "children": [
              "IPY_MODEL_7c44bad9614a4f448e9c24326d18c8dd",
              "IPY_MODEL_9a2367285e1f4e2d8db599d3653b3023",
              "IPY_MODEL_54c746bd52ed48208d46c6d40815d5e1"
            ],
            "layout": "IPY_MODEL_f15346e2f9204726b6b1139c127336ee"
          }
        },
        "7c44bad9614a4f448e9c24326d18c8dd": {
          "model_module": "@jupyter-widgets/controls",
          "model_name": "HTMLModel",
          "model_module_version": "1.5.0",
          "state": {
            "_dom_classes": [],
            "_model_module": "@jupyter-widgets/controls",
            "_model_module_version": "1.5.0",
            "_model_name": "HTMLModel",
            "_view_count": null,
            "_view_module": "@jupyter-widgets/controls",
            "_view_module_version": "1.5.0",
            "_view_name": "HTMLView",
            "description": "",
            "description_tooltip": null,
            "layout": "IPY_MODEL_b271401d2e5e46d283a01032900baf40",
            "placeholder": "​",
            "style": "IPY_MODEL_cae41b80a3624bf8845fa9bc41b070a4",
            "value": "config.json: 100%"
          }
        },
        "9a2367285e1f4e2d8db599d3653b3023": {
          "model_module": "@jupyter-widgets/controls",
          "model_name": "FloatProgressModel",
          "model_module_version": "1.5.0",
          "state": {
            "_dom_classes": [],
            "_model_module": "@jupyter-widgets/controls",
            "_model_module_version": "1.5.0",
            "_model_name": "FloatProgressModel",
            "_view_count": null,
            "_view_module": "@jupyter-widgets/controls",
            "_view_module_version": "1.5.0",
            "_view_name": "ProgressView",
            "bar_style": "success",
            "description": "",
            "description_tooltip": null,
            "layout": "IPY_MODEL_ebe158c9ac3b4a739587f5b6981e8c39",
            "max": 612,
            "min": 0,
            "orientation": "horizontal",
            "style": "IPY_MODEL_b5687d929672426a99e6cf32602e5a1e",
            "value": 612
          }
        },
        "54c746bd52ed48208d46c6d40815d5e1": {
          "model_module": "@jupyter-widgets/controls",
          "model_name": "HTMLModel",
          "model_module_version": "1.5.0",
          "state": {
            "_dom_classes": [],
            "_model_module": "@jupyter-widgets/controls",
            "_model_module_version": "1.5.0",
            "_model_name": "HTMLModel",
            "_view_count": null,
            "_view_module": "@jupyter-widgets/controls",
            "_view_module_version": "1.5.0",
            "_view_name": "HTMLView",
            "description": "",
            "description_tooltip": null,
            "layout": "IPY_MODEL_170566448f5c4cf88e3d96a37b89f3ee",
            "placeholder": "​",
            "style": "IPY_MODEL_77355710ab104104a46d40ae88ff0185",
            "value": " 612/612 [00:00&lt;00:00, 35.4kB/s]"
          }
        },
        "f15346e2f9204726b6b1139c127336ee": {
          "model_module": "@jupyter-widgets/base",
          "model_name": "LayoutModel",
          "model_module_version": "1.2.0",
          "state": {
            "_model_module": "@jupyter-widgets/base",
            "_model_module_version": "1.2.0",
            "_model_name": "LayoutModel",
            "_view_count": null,
            "_view_module": "@jupyter-widgets/base",
            "_view_module_version": "1.2.0",
            "_view_name": "LayoutView",
            "align_content": null,
            "align_items": null,
            "align_self": null,
            "border": null,
            "bottom": null,
            "display": null,
            "flex": null,
            "flex_flow": null,
            "grid_area": null,
            "grid_auto_columns": null,
            "grid_auto_flow": null,
            "grid_auto_rows": null,
            "grid_column": null,
            "grid_gap": null,
            "grid_row": null,
            "grid_template_areas": null,
            "grid_template_columns": null,
            "grid_template_rows": null,
            "height": null,
            "justify_content": null,
            "justify_items": null,
            "left": null,
            "margin": null,
            "max_height": null,
            "max_width": null,
            "min_height": null,
            "min_width": null,
            "object_fit": null,
            "object_position": null,
            "order": null,
            "overflow": null,
            "overflow_x": null,
            "overflow_y": null,
            "padding": null,
            "right": null,
            "top": null,
            "visibility": null,
            "width": null
          }
        },
        "b271401d2e5e46d283a01032900baf40": {
          "model_module": "@jupyter-widgets/base",
          "model_name": "LayoutModel",
          "model_module_version": "1.2.0",
          "state": {
            "_model_module": "@jupyter-widgets/base",
            "_model_module_version": "1.2.0",
            "_model_name": "LayoutModel",
            "_view_count": null,
            "_view_module": "@jupyter-widgets/base",
            "_view_module_version": "1.2.0",
            "_view_name": "LayoutView",
            "align_content": null,
            "align_items": null,
            "align_self": null,
            "border": null,
            "bottom": null,
            "display": null,
            "flex": null,
            "flex_flow": null,
            "grid_area": null,
            "grid_auto_columns": null,
            "grid_auto_flow": null,
            "grid_auto_rows": null,
            "grid_column": null,
            "grid_gap": null,
            "grid_row": null,
            "grid_template_areas": null,
            "grid_template_columns": null,
            "grid_template_rows": null,
            "height": null,
            "justify_content": null,
            "justify_items": null,
            "left": null,
            "margin": null,
            "max_height": null,
            "max_width": null,
            "min_height": null,
            "min_width": null,
            "object_fit": null,
            "object_position": null,
            "order": null,
            "overflow": null,
            "overflow_x": null,
            "overflow_y": null,
            "padding": null,
            "right": null,
            "top": null,
            "visibility": null,
            "width": null
          }
        },
        "cae41b80a3624bf8845fa9bc41b070a4": {
          "model_module": "@jupyter-widgets/controls",
          "model_name": "DescriptionStyleModel",
          "model_module_version": "1.5.0",
          "state": {
            "_model_module": "@jupyter-widgets/controls",
            "_model_module_version": "1.5.0",
            "_model_name": "DescriptionStyleModel",
            "_view_count": null,
            "_view_module": "@jupyter-widgets/base",
            "_view_module_version": "1.2.0",
            "_view_name": "StyleView",
            "description_width": ""
          }
        },
        "ebe158c9ac3b4a739587f5b6981e8c39": {
          "model_module": "@jupyter-widgets/base",
          "model_name": "LayoutModel",
          "model_module_version": "1.2.0",
          "state": {
            "_model_module": "@jupyter-widgets/base",
            "_model_module_version": "1.2.0",
            "_model_name": "LayoutModel",
            "_view_count": null,
            "_view_module": "@jupyter-widgets/base",
            "_view_module_version": "1.2.0",
            "_view_name": "LayoutView",
            "align_content": null,
            "align_items": null,
            "align_self": null,
            "border": null,
            "bottom": null,
            "display": null,
            "flex": null,
            "flex_flow": null,
            "grid_area": null,
            "grid_auto_columns": null,
            "grid_auto_flow": null,
            "grid_auto_rows": null,
            "grid_column": null,
            "grid_gap": null,
            "grid_row": null,
            "grid_template_areas": null,
            "grid_template_columns": null,
            "grid_template_rows": null,
            "height": null,
            "justify_content": null,
            "justify_items": null,
            "left": null,
            "margin": null,
            "max_height": null,
            "max_width": null,
            "min_height": null,
            "min_width": null,
            "object_fit": null,
            "object_position": null,
            "order": null,
            "overflow": null,
            "overflow_x": null,
            "overflow_y": null,
            "padding": null,
            "right": null,
            "top": null,
            "visibility": null,
            "width": null
          }
        },
        "b5687d929672426a99e6cf32602e5a1e": {
          "model_module": "@jupyter-widgets/controls",
          "model_name": "ProgressStyleModel",
          "model_module_version": "1.5.0",
          "state": {
            "_model_module": "@jupyter-widgets/controls",
            "_model_module_version": "1.5.0",
            "_model_name": "ProgressStyleModel",
            "_view_count": null,
            "_view_module": "@jupyter-widgets/base",
            "_view_module_version": "1.2.0",
            "_view_name": "StyleView",
            "bar_color": null,
            "description_width": ""
          }
        },
        "170566448f5c4cf88e3d96a37b89f3ee": {
          "model_module": "@jupyter-widgets/base",
          "model_name": "LayoutModel",
          "model_module_version": "1.2.0",
          "state": {
            "_model_module": "@jupyter-widgets/base",
            "_model_module_version": "1.2.0",
            "_model_name": "LayoutModel",
            "_view_count": null,
            "_view_module": "@jupyter-widgets/base",
            "_view_module_version": "1.2.0",
            "_view_name": "LayoutView",
            "align_content": null,
            "align_items": null,
            "align_self": null,
            "border": null,
            "bottom": null,
            "display": null,
            "flex": null,
            "flex_flow": null,
            "grid_area": null,
            "grid_auto_columns": null,
            "grid_auto_flow": null,
            "grid_auto_rows": null,
            "grid_column": null,
            "grid_gap": null,
            "grid_row": null,
            "grid_template_areas": null,
            "grid_template_columns": null,
            "grid_template_rows": null,
            "height": null,
            "justify_content": null,
            "justify_items": null,
            "left": null,
            "margin": null,
            "max_height": null,
            "max_width": null,
            "min_height": null,
            "min_width": null,
            "object_fit": null,
            "object_position": null,
            "order": null,
            "overflow": null,
            "overflow_x": null,
            "overflow_y": null,
            "padding": null,
            "right": null,
            "top": null,
            "visibility": null,
            "width": null
          }
        },
        "77355710ab104104a46d40ae88ff0185": {
          "model_module": "@jupyter-widgets/controls",
          "model_name": "DescriptionStyleModel",
          "model_module_version": "1.5.0",
          "state": {
            "_model_module": "@jupyter-widgets/controls",
            "_model_module_version": "1.5.0",
            "_model_name": "DescriptionStyleModel",
            "_view_count": null,
            "_view_module": "@jupyter-widgets/base",
            "_view_module_version": "1.2.0",
            "_view_name": "StyleView",
            "description_width": ""
          }
        },
        "6c8934eac66f4bfe845837de3e1590f2": {
          "model_module": "@jupyter-widgets/controls",
          "model_name": "HBoxModel",
          "model_module_version": "1.5.0",
          "state": {
            "_dom_classes": [],
            "_model_module": "@jupyter-widgets/controls",
            "_model_module_version": "1.5.0",
            "_model_name": "HBoxModel",
            "_view_count": null,
            "_view_module": "@jupyter-widgets/controls",
            "_view_module_version": "1.5.0",
            "_view_name": "HBoxView",
            "box_style": "",
            "children": [
              "IPY_MODEL_84e62a955c2e4aa69cae3d4d34dad5c6",
              "IPY_MODEL_cf84779c4150462ab20abd56f719e2f8",
              "IPY_MODEL_9b55b783654549c9927069508f4ecb65"
            ],
            "layout": "IPY_MODEL_8f94a2803fd2455f849f34b28c05ebb7"
          }
        },
        "84e62a955c2e4aa69cae3d4d34dad5c6": {
          "model_module": "@jupyter-widgets/controls",
          "model_name": "HTMLModel",
          "model_module_version": "1.5.0",
          "state": {
            "_dom_classes": [],
            "_model_module": "@jupyter-widgets/controls",
            "_model_module_version": "1.5.0",
            "_model_name": "HTMLModel",
            "_view_count": null,
            "_view_module": "@jupyter-widgets/controls",
            "_view_module_version": "1.5.0",
            "_view_name": "HTMLView",
            "description": "",
            "description_tooltip": null,
            "layout": "IPY_MODEL_11ab5217e6b646a8be8c90f3c88d84f2",
            "placeholder": "​",
            "style": "IPY_MODEL_49eb2a45b31246f1808ee305b113b533",
            "value": "model.safetensors: 100%"
          }
        },
        "cf84779c4150462ab20abd56f719e2f8": {
          "model_module": "@jupyter-widgets/controls",
          "model_name": "FloatProgressModel",
          "model_module_version": "1.5.0",
          "state": {
            "_dom_classes": [],
            "_model_module": "@jupyter-widgets/controls",
            "_model_module_version": "1.5.0",
            "_model_name": "FloatProgressModel",
            "_view_count": null,
            "_view_module": "@jupyter-widgets/controls",
            "_view_module_version": "1.5.0",
            "_view_name": "ProgressView",
            "bar_style": "success",
            "description": "",
            "description_tooltip": null,
            "layout": "IPY_MODEL_54b168565e7748ef95b1fcbf15dd884c",
            "max": 90868376,
            "min": 0,
            "orientation": "horizontal",
            "style": "IPY_MODEL_94cda134f71e45a8b5f4e3bfb896b60c",
            "value": 90868376
          }
        },
        "9b55b783654549c9927069508f4ecb65": {
          "model_module": "@jupyter-widgets/controls",
          "model_name": "HTMLModel",
          "model_module_version": "1.5.0",
          "state": {
            "_dom_classes": [],
            "_model_module": "@jupyter-widgets/controls",
            "_model_module_version": "1.5.0",
            "_model_name": "HTMLModel",
            "_view_count": null,
            "_view_module": "@jupyter-widgets/controls",
            "_view_module_version": "1.5.0",
            "_view_name": "HTMLView",
            "description": "",
            "description_tooltip": null,
            "layout": "IPY_MODEL_dc9e8a71eaa74fe58e0ff738361fd4ae",
            "placeholder": "​",
            "style": "IPY_MODEL_64146ed73d1246fc8d8ae588f503c566",
            "value": " 90.9M/90.9M [00:00&lt;00:00, 186MB/s]"
          }
        },
        "8f94a2803fd2455f849f34b28c05ebb7": {
          "model_module": "@jupyter-widgets/base",
          "model_name": "LayoutModel",
          "model_module_version": "1.2.0",
          "state": {
            "_model_module": "@jupyter-widgets/base",
            "_model_module_version": "1.2.0",
            "_model_name": "LayoutModel",
            "_view_count": null,
            "_view_module": "@jupyter-widgets/base",
            "_view_module_version": "1.2.0",
            "_view_name": "LayoutView",
            "align_content": null,
            "align_items": null,
            "align_self": null,
            "border": null,
            "bottom": null,
            "display": null,
            "flex": null,
            "flex_flow": null,
            "grid_area": null,
            "grid_auto_columns": null,
            "grid_auto_flow": null,
            "grid_auto_rows": null,
            "grid_column": null,
            "grid_gap": null,
            "grid_row": null,
            "grid_template_areas": null,
            "grid_template_columns": null,
            "grid_template_rows": null,
            "height": null,
            "justify_content": null,
            "justify_items": null,
            "left": null,
            "margin": null,
            "max_height": null,
            "max_width": null,
            "min_height": null,
            "min_width": null,
            "object_fit": null,
            "object_position": null,
            "order": null,
            "overflow": null,
            "overflow_x": null,
            "overflow_y": null,
            "padding": null,
            "right": null,
            "top": null,
            "visibility": null,
            "width": null
          }
        },
        "11ab5217e6b646a8be8c90f3c88d84f2": {
          "model_module": "@jupyter-widgets/base",
          "model_name": "LayoutModel",
          "model_module_version": "1.2.0",
          "state": {
            "_model_module": "@jupyter-widgets/base",
            "_model_module_version": "1.2.0",
            "_model_name": "LayoutModel",
            "_view_count": null,
            "_view_module": "@jupyter-widgets/base",
            "_view_module_version": "1.2.0",
            "_view_name": "LayoutView",
            "align_content": null,
            "align_items": null,
            "align_self": null,
            "border": null,
            "bottom": null,
            "display": null,
            "flex": null,
            "flex_flow": null,
            "grid_area": null,
            "grid_auto_columns": null,
            "grid_auto_flow": null,
            "grid_auto_rows": null,
            "grid_column": null,
            "grid_gap": null,
            "grid_row": null,
            "grid_template_areas": null,
            "grid_template_columns": null,
            "grid_template_rows": null,
            "height": null,
            "justify_content": null,
            "justify_items": null,
            "left": null,
            "margin": null,
            "max_height": null,
            "max_width": null,
            "min_height": null,
            "min_width": null,
            "object_fit": null,
            "object_position": null,
            "order": null,
            "overflow": null,
            "overflow_x": null,
            "overflow_y": null,
            "padding": null,
            "right": null,
            "top": null,
            "visibility": null,
            "width": null
          }
        },
        "49eb2a45b31246f1808ee305b113b533": {
          "model_module": "@jupyter-widgets/controls",
          "model_name": "DescriptionStyleModel",
          "model_module_version": "1.5.0",
          "state": {
            "_model_module": "@jupyter-widgets/controls",
            "_model_module_version": "1.5.0",
            "_model_name": "DescriptionStyleModel",
            "_view_count": null,
            "_view_module": "@jupyter-widgets/base",
            "_view_module_version": "1.2.0",
            "_view_name": "StyleView",
            "description_width": ""
          }
        },
        "54b168565e7748ef95b1fcbf15dd884c": {
          "model_module": "@jupyter-widgets/base",
          "model_name": "LayoutModel",
          "model_module_version": "1.2.0",
          "state": {
            "_model_module": "@jupyter-widgets/base",
            "_model_module_version": "1.2.0",
            "_model_name": "LayoutModel",
            "_view_count": null,
            "_view_module": "@jupyter-widgets/base",
            "_view_module_version": "1.2.0",
            "_view_name": "LayoutView",
            "align_content": null,
            "align_items": null,
            "align_self": null,
            "border": null,
            "bottom": null,
            "display": null,
            "flex": null,
            "flex_flow": null,
            "grid_area": null,
            "grid_auto_columns": null,
            "grid_auto_flow": null,
            "grid_auto_rows": null,
            "grid_column": null,
            "grid_gap": null,
            "grid_row": null,
            "grid_template_areas": null,
            "grid_template_columns": null,
            "grid_template_rows": null,
            "height": null,
            "justify_content": null,
            "justify_items": null,
            "left": null,
            "margin": null,
            "max_height": null,
            "max_width": null,
            "min_height": null,
            "min_width": null,
            "object_fit": null,
            "object_position": null,
            "order": null,
            "overflow": null,
            "overflow_x": null,
            "overflow_y": null,
            "padding": null,
            "right": null,
            "top": null,
            "visibility": null,
            "width": null
          }
        },
        "94cda134f71e45a8b5f4e3bfb896b60c": {
          "model_module": "@jupyter-widgets/controls",
          "model_name": "ProgressStyleModel",
          "model_module_version": "1.5.0",
          "state": {
            "_model_module": "@jupyter-widgets/controls",
            "_model_module_version": "1.5.0",
            "_model_name": "ProgressStyleModel",
            "_view_count": null,
            "_view_module": "@jupyter-widgets/base",
            "_view_module_version": "1.2.0",
            "_view_name": "StyleView",
            "bar_color": null,
            "description_width": ""
          }
        },
        "dc9e8a71eaa74fe58e0ff738361fd4ae": {
          "model_module": "@jupyter-widgets/base",
          "model_name": "LayoutModel",
          "model_module_version": "1.2.0",
          "state": {
            "_model_module": "@jupyter-widgets/base",
            "_model_module_version": "1.2.0",
            "_model_name": "LayoutModel",
            "_view_count": null,
            "_view_module": "@jupyter-widgets/base",
            "_view_module_version": "1.2.0",
            "_view_name": "LayoutView",
            "align_content": null,
            "align_items": null,
            "align_self": null,
            "border": null,
            "bottom": null,
            "display": null,
            "flex": null,
            "flex_flow": null,
            "grid_area": null,
            "grid_auto_columns": null,
            "grid_auto_flow": null,
            "grid_auto_rows": null,
            "grid_column": null,
            "grid_gap": null,
            "grid_row": null,
            "grid_template_areas": null,
            "grid_template_columns": null,
            "grid_template_rows": null,
            "height": null,
            "justify_content": null,
            "justify_items": null,
            "left": null,
            "margin": null,
            "max_height": null,
            "max_width": null,
            "min_height": null,
            "min_width": null,
            "object_fit": null,
            "object_position": null,
            "order": null,
            "overflow": null,
            "overflow_x": null,
            "overflow_y": null,
            "padding": null,
            "right": null,
            "top": null,
            "visibility": null,
            "width": null
          }
        },
        "64146ed73d1246fc8d8ae588f503c566": {
          "model_module": "@jupyter-widgets/controls",
          "model_name": "DescriptionStyleModel",
          "model_module_version": "1.5.0",
          "state": {
            "_model_module": "@jupyter-widgets/controls",
            "_model_module_version": "1.5.0",
            "_model_name": "DescriptionStyleModel",
            "_view_count": null,
            "_view_module": "@jupyter-widgets/base",
            "_view_module_version": "1.2.0",
            "_view_name": "StyleView",
            "description_width": ""
          }
        },
        "e15456ec593648a784e9b1ad3f22b567": {
          "model_module": "@jupyter-widgets/controls",
          "model_name": "HBoxModel",
          "model_module_version": "1.5.0",
          "state": {
            "_dom_classes": [],
            "_model_module": "@jupyter-widgets/controls",
            "_model_module_version": "1.5.0",
            "_model_name": "HBoxModel",
            "_view_count": null,
            "_view_module": "@jupyter-widgets/controls",
            "_view_module_version": "1.5.0",
            "_view_name": "HBoxView",
            "box_style": "",
            "children": [
              "IPY_MODEL_fb6cf62a658c4dd2a3419d51280b4e0c",
              "IPY_MODEL_f600196555e54214b1f9bcf57a08688a",
              "IPY_MODEL_e561d027c741419d92365e8fd82e4418"
            ],
            "layout": "IPY_MODEL_5abbf5f84c024c8092d46974b5f1f075"
          }
        },
        "fb6cf62a658c4dd2a3419d51280b4e0c": {
          "model_module": "@jupyter-widgets/controls",
          "model_name": "HTMLModel",
          "model_module_version": "1.5.0",
          "state": {
            "_dom_classes": [],
            "_model_module": "@jupyter-widgets/controls",
            "_model_module_version": "1.5.0",
            "_model_name": "HTMLModel",
            "_view_count": null,
            "_view_module": "@jupyter-widgets/controls",
            "_view_module_version": "1.5.0",
            "_view_name": "HTMLView",
            "description": "",
            "description_tooltip": null,
            "layout": "IPY_MODEL_68ba31f28cf9454a924fc93109e4e030",
            "placeholder": "​",
            "style": "IPY_MODEL_0a5203d91393410a80ebe568b7eb7762",
            "value": "tokenizer_config.json: 100%"
          }
        },
        "f600196555e54214b1f9bcf57a08688a": {
          "model_module": "@jupyter-widgets/controls",
          "model_name": "FloatProgressModel",
          "model_module_version": "1.5.0",
          "state": {
            "_dom_classes": [],
            "_model_module": "@jupyter-widgets/controls",
            "_model_module_version": "1.5.0",
            "_model_name": "FloatProgressModel",
            "_view_count": null,
            "_view_module": "@jupyter-widgets/controls",
            "_view_module_version": "1.5.0",
            "_view_name": "ProgressView",
            "bar_style": "success",
            "description": "",
            "description_tooltip": null,
            "layout": "IPY_MODEL_0f7041446d984ec7a1fec5ee3b538b31",
            "max": 350,
            "min": 0,
            "orientation": "horizontal",
            "style": "IPY_MODEL_5a7d03cba7b44bb9b2e397e36f715d7d",
            "value": 350
          }
        },
        "e561d027c741419d92365e8fd82e4418": {
          "model_module": "@jupyter-widgets/controls",
          "model_name": "HTMLModel",
          "model_module_version": "1.5.0",
          "state": {
            "_dom_classes": [],
            "_model_module": "@jupyter-widgets/controls",
            "_model_module_version": "1.5.0",
            "_model_name": "HTMLModel",
            "_view_count": null,
            "_view_module": "@jupyter-widgets/controls",
            "_view_module_version": "1.5.0",
            "_view_name": "HTMLView",
            "description": "",
            "description_tooltip": null,
            "layout": "IPY_MODEL_e16462d8c36a44d98e785819ec7f3295",
            "placeholder": "​",
            "style": "IPY_MODEL_6dc21fc675a744b297ec6157110349d8",
            "value": " 350/350 [00:00&lt;00:00, 25.8kB/s]"
          }
        },
        "5abbf5f84c024c8092d46974b5f1f075": {
          "model_module": "@jupyter-widgets/base",
          "model_name": "LayoutModel",
          "model_module_version": "1.2.0",
          "state": {
            "_model_module": "@jupyter-widgets/base",
            "_model_module_version": "1.2.0",
            "_model_name": "LayoutModel",
            "_view_count": null,
            "_view_module": "@jupyter-widgets/base",
            "_view_module_version": "1.2.0",
            "_view_name": "LayoutView",
            "align_content": null,
            "align_items": null,
            "align_self": null,
            "border": null,
            "bottom": null,
            "display": null,
            "flex": null,
            "flex_flow": null,
            "grid_area": null,
            "grid_auto_columns": null,
            "grid_auto_flow": null,
            "grid_auto_rows": null,
            "grid_column": null,
            "grid_gap": null,
            "grid_row": null,
            "grid_template_areas": null,
            "grid_template_columns": null,
            "grid_template_rows": null,
            "height": null,
            "justify_content": null,
            "justify_items": null,
            "left": null,
            "margin": null,
            "max_height": null,
            "max_width": null,
            "min_height": null,
            "min_width": null,
            "object_fit": null,
            "object_position": null,
            "order": null,
            "overflow": null,
            "overflow_x": null,
            "overflow_y": null,
            "padding": null,
            "right": null,
            "top": null,
            "visibility": null,
            "width": null
          }
        },
        "68ba31f28cf9454a924fc93109e4e030": {
          "model_module": "@jupyter-widgets/base",
          "model_name": "LayoutModel",
          "model_module_version": "1.2.0",
          "state": {
            "_model_module": "@jupyter-widgets/base",
            "_model_module_version": "1.2.0",
            "_model_name": "LayoutModel",
            "_view_count": null,
            "_view_module": "@jupyter-widgets/base",
            "_view_module_version": "1.2.0",
            "_view_name": "LayoutView",
            "align_content": null,
            "align_items": null,
            "align_self": null,
            "border": null,
            "bottom": null,
            "display": null,
            "flex": null,
            "flex_flow": null,
            "grid_area": null,
            "grid_auto_columns": null,
            "grid_auto_flow": null,
            "grid_auto_rows": null,
            "grid_column": null,
            "grid_gap": null,
            "grid_row": null,
            "grid_template_areas": null,
            "grid_template_columns": null,
            "grid_template_rows": null,
            "height": null,
            "justify_content": null,
            "justify_items": null,
            "left": null,
            "margin": null,
            "max_height": null,
            "max_width": null,
            "min_height": null,
            "min_width": null,
            "object_fit": null,
            "object_position": null,
            "order": null,
            "overflow": null,
            "overflow_x": null,
            "overflow_y": null,
            "padding": null,
            "right": null,
            "top": null,
            "visibility": null,
            "width": null
          }
        },
        "0a5203d91393410a80ebe568b7eb7762": {
          "model_module": "@jupyter-widgets/controls",
          "model_name": "DescriptionStyleModel",
          "model_module_version": "1.5.0",
          "state": {
            "_model_module": "@jupyter-widgets/controls",
            "_model_module_version": "1.5.0",
            "_model_name": "DescriptionStyleModel",
            "_view_count": null,
            "_view_module": "@jupyter-widgets/base",
            "_view_module_version": "1.2.0",
            "_view_name": "StyleView",
            "description_width": ""
          }
        },
        "0f7041446d984ec7a1fec5ee3b538b31": {
          "model_module": "@jupyter-widgets/base",
          "model_name": "LayoutModel",
          "model_module_version": "1.2.0",
          "state": {
            "_model_module": "@jupyter-widgets/base",
            "_model_module_version": "1.2.0",
            "_model_name": "LayoutModel",
            "_view_count": null,
            "_view_module": "@jupyter-widgets/base",
            "_view_module_version": "1.2.0",
            "_view_name": "LayoutView",
            "align_content": null,
            "align_items": null,
            "align_self": null,
            "border": null,
            "bottom": null,
            "display": null,
            "flex": null,
            "flex_flow": null,
            "grid_area": null,
            "grid_auto_columns": null,
            "grid_auto_flow": null,
            "grid_auto_rows": null,
            "grid_column": null,
            "grid_gap": null,
            "grid_row": null,
            "grid_template_areas": null,
            "grid_template_columns": null,
            "grid_template_rows": null,
            "height": null,
            "justify_content": null,
            "justify_items": null,
            "left": null,
            "margin": null,
            "max_height": null,
            "max_width": null,
            "min_height": null,
            "min_width": null,
            "object_fit": null,
            "object_position": null,
            "order": null,
            "overflow": null,
            "overflow_x": null,
            "overflow_y": null,
            "padding": null,
            "right": null,
            "top": null,
            "visibility": null,
            "width": null
          }
        },
        "5a7d03cba7b44bb9b2e397e36f715d7d": {
          "model_module": "@jupyter-widgets/controls",
          "model_name": "ProgressStyleModel",
          "model_module_version": "1.5.0",
          "state": {
            "_model_module": "@jupyter-widgets/controls",
            "_model_module_version": "1.5.0",
            "_model_name": "ProgressStyleModel",
            "_view_count": null,
            "_view_module": "@jupyter-widgets/base",
            "_view_module_version": "1.2.0",
            "_view_name": "StyleView",
            "bar_color": null,
            "description_width": ""
          }
        },
        "e16462d8c36a44d98e785819ec7f3295": {
          "model_module": "@jupyter-widgets/base",
          "model_name": "LayoutModel",
          "model_module_version": "1.2.0",
          "state": {
            "_model_module": "@jupyter-widgets/base",
            "_model_module_version": "1.2.0",
            "_model_name": "LayoutModel",
            "_view_count": null,
            "_view_module": "@jupyter-widgets/base",
            "_view_module_version": "1.2.0",
            "_view_name": "LayoutView",
            "align_content": null,
            "align_items": null,
            "align_self": null,
            "border": null,
            "bottom": null,
            "display": null,
            "flex": null,
            "flex_flow": null,
            "grid_area": null,
            "grid_auto_columns": null,
            "grid_auto_flow": null,
            "grid_auto_rows": null,
            "grid_column": null,
            "grid_gap": null,
            "grid_row": null,
            "grid_template_areas": null,
            "grid_template_columns": null,
            "grid_template_rows": null,
            "height": null,
            "justify_content": null,
            "justify_items": null,
            "left": null,
            "margin": null,
            "max_height": null,
            "max_width": null,
            "min_height": null,
            "min_width": null,
            "object_fit": null,
            "object_position": null,
            "order": null,
            "overflow": null,
            "overflow_x": null,
            "overflow_y": null,
            "padding": null,
            "right": null,
            "top": null,
            "visibility": null,
            "width": null
          }
        },
        "6dc21fc675a744b297ec6157110349d8": {
          "model_module": "@jupyter-widgets/controls",
          "model_name": "DescriptionStyleModel",
          "model_module_version": "1.5.0",
          "state": {
            "_model_module": "@jupyter-widgets/controls",
            "_model_module_version": "1.5.0",
            "_model_name": "DescriptionStyleModel",
            "_view_count": null,
            "_view_module": "@jupyter-widgets/base",
            "_view_module_version": "1.2.0",
            "_view_name": "StyleView",
            "description_width": ""
          }
        },
        "7bd04335c73c4846823333cb62a25dcc": {
          "model_module": "@jupyter-widgets/controls",
          "model_name": "HBoxModel",
          "model_module_version": "1.5.0",
          "state": {
            "_dom_classes": [],
            "_model_module": "@jupyter-widgets/controls",
            "_model_module_version": "1.5.0",
            "_model_name": "HBoxModel",
            "_view_count": null,
            "_view_module": "@jupyter-widgets/controls",
            "_view_module_version": "1.5.0",
            "_view_name": "HBoxView",
            "box_style": "",
            "children": [
              "IPY_MODEL_a5f81de54233428cb781c228b00a2aed",
              "IPY_MODEL_8a82f1264148464097ac77e1ffe68451",
              "IPY_MODEL_600bb7ee7f82412585b7e03454219d74"
            ],
            "layout": "IPY_MODEL_727bbc51f08a4d9ebc6ba267695f5751"
          }
        },
        "a5f81de54233428cb781c228b00a2aed": {
          "model_module": "@jupyter-widgets/controls",
          "model_name": "HTMLModel",
          "model_module_version": "1.5.0",
          "state": {
            "_dom_classes": [],
            "_model_module": "@jupyter-widgets/controls",
            "_model_module_version": "1.5.0",
            "_model_name": "HTMLModel",
            "_view_count": null,
            "_view_module": "@jupyter-widgets/controls",
            "_view_module_version": "1.5.0",
            "_view_name": "HTMLView",
            "description": "",
            "description_tooltip": null,
            "layout": "IPY_MODEL_6612400a27c540a4acfa57e1d2505a18",
            "placeholder": "​",
            "style": "IPY_MODEL_75c9b5806df24b2192c9130a1930f8f0",
            "value": "vocab.txt: 100%"
          }
        },
        "8a82f1264148464097ac77e1ffe68451": {
          "model_module": "@jupyter-widgets/controls",
          "model_name": "FloatProgressModel",
          "model_module_version": "1.5.0",
          "state": {
            "_dom_classes": [],
            "_model_module": "@jupyter-widgets/controls",
            "_model_module_version": "1.5.0",
            "_model_name": "FloatProgressModel",
            "_view_count": null,
            "_view_module": "@jupyter-widgets/controls",
            "_view_module_version": "1.5.0",
            "_view_name": "ProgressView",
            "bar_style": "success",
            "description": "",
            "description_tooltip": null,
            "layout": "IPY_MODEL_d41c8526c8eb4394835ebcdda062ff54",
            "max": 231508,
            "min": 0,
            "orientation": "horizontal",
            "style": "IPY_MODEL_5f7aadc45bf8473982cfec4f4286352a",
            "value": 231508
          }
        },
        "600bb7ee7f82412585b7e03454219d74": {
          "model_module": "@jupyter-widgets/controls",
          "model_name": "HTMLModel",
          "model_module_version": "1.5.0",
          "state": {
            "_dom_classes": [],
            "_model_module": "@jupyter-widgets/controls",
            "_model_module_version": "1.5.0",
            "_model_name": "HTMLModel",
            "_view_count": null,
            "_view_module": "@jupyter-widgets/controls",
            "_view_module_version": "1.5.0",
            "_view_name": "HTMLView",
            "description": "",
            "description_tooltip": null,
            "layout": "IPY_MODEL_e00a6542b8fa4d20907eb72b66e47ba4",
            "placeholder": "​",
            "style": "IPY_MODEL_6b009d12fc9840a5a8593478a6713942",
            "value": " 232k/232k [00:00&lt;00:00, 2.83MB/s]"
          }
        },
        "727bbc51f08a4d9ebc6ba267695f5751": {
          "model_module": "@jupyter-widgets/base",
          "model_name": "LayoutModel",
          "model_module_version": "1.2.0",
          "state": {
            "_model_module": "@jupyter-widgets/base",
            "_model_module_version": "1.2.0",
            "_model_name": "LayoutModel",
            "_view_count": null,
            "_view_module": "@jupyter-widgets/base",
            "_view_module_version": "1.2.0",
            "_view_name": "LayoutView",
            "align_content": null,
            "align_items": null,
            "align_self": null,
            "border": null,
            "bottom": null,
            "display": null,
            "flex": null,
            "flex_flow": null,
            "grid_area": null,
            "grid_auto_columns": null,
            "grid_auto_flow": null,
            "grid_auto_rows": null,
            "grid_column": null,
            "grid_gap": null,
            "grid_row": null,
            "grid_template_areas": null,
            "grid_template_columns": null,
            "grid_template_rows": null,
            "height": null,
            "justify_content": null,
            "justify_items": null,
            "left": null,
            "margin": null,
            "max_height": null,
            "max_width": null,
            "min_height": null,
            "min_width": null,
            "object_fit": null,
            "object_position": null,
            "order": null,
            "overflow": null,
            "overflow_x": null,
            "overflow_y": null,
            "padding": null,
            "right": null,
            "top": null,
            "visibility": null,
            "width": null
          }
        },
        "6612400a27c540a4acfa57e1d2505a18": {
          "model_module": "@jupyter-widgets/base",
          "model_name": "LayoutModel",
          "model_module_version": "1.2.0",
          "state": {
            "_model_module": "@jupyter-widgets/base",
            "_model_module_version": "1.2.0",
            "_model_name": "LayoutModel",
            "_view_count": null,
            "_view_module": "@jupyter-widgets/base",
            "_view_module_version": "1.2.0",
            "_view_name": "LayoutView",
            "align_content": null,
            "align_items": null,
            "align_self": null,
            "border": null,
            "bottom": null,
            "display": null,
            "flex": null,
            "flex_flow": null,
            "grid_area": null,
            "grid_auto_columns": null,
            "grid_auto_flow": null,
            "grid_auto_rows": null,
            "grid_column": null,
            "grid_gap": null,
            "grid_row": null,
            "grid_template_areas": null,
            "grid_template_columns": null,
            "grid_template_rows": null,
            "height": null,
            "justify_content": null,
            "justify_items": null,
            "left": null,
            "margin": null,
            "max_height": null,
            "max_width": null,
            "min_height": null,
            "min_width": null,
            "object_fit": null,
            "object_position": null,
            "order": null,
            "overflow": null,
            "overflow_x": null,
            "overflow_y": null,
            "padding": null,
            "right": null,
            "top": null,
            "visibility": null,
            "width": null
          }
        },
        "75c9b5806df24b2192c9130a1930f8f0": {
          "model_module": "@jupyter-widgets/controls",
          "model_name": "DescriptionStyleModel",
          "model_module_version": "1.5.0",
          "state": {
            "_model_module": "@jupyter-widgets/controls",
            "_model_module_version": "1.5.0",
            "_model_name": "DescriptionStyleModel",
            "_view_count": null,
            "_view_module": "@jupyter-widgets/base",
            "_view_module_version": "1.2.0",
            "_view_name": "StyleView",
            "description_width": ""
          }
        },
        "d41c8526c8eb4394835ebcdda062ff54": {
          "model_module": "@jupyter-widgets/base",
          "model_name": "LayoutModel",
          "model_module_version": "1.2.0",
          "state": {
            "_model_module": "@jupyter-widgets/base",
            "_model_module_version": "1.2.0",
            "_model_name": "LayoutModel",
            "_view_count": null,
            "_view_module": "@jupyter-widgets/base",
            "_view_module_version": "1.2.0",
            "_view_name": "LayoutView",
            "align_content": null,
            "align_items": null,
            "align_self": null,
            "border": null,
            "bottom": null,
            "display": null,
            "flex": null,
            "flex_flow": null,
            "grid_area": null,
            "grid_auto_columns": null,
            "grid_auto_flow": null,
            "grid_auto_rows": null,
            "grid_column": null,
            "grid_gap": null,
            "grid_row": null,
            "grid_template_areas": null,
            "grid_template_columns": null,
            "grid_template_rows": null,
            "height": null,
            "justify_content": null,
            "justify_items": null,
            "left": null,
            "margin": null,
            "max_height": null,
            "max_width": null,
            "min_height": null,
            "min_width": null,
            "object_fit": null,
            "object_position": null,
            "order": null,
            "overflow": null,
            "overflow_x": null,
            "overflow_y": null,
            "padding": null,
            "right": null,
            "top": null,
            "visibility": null,
            "width": null
          }
        },
        "5f7aadc45bf8473982cfec4f4286352a": {
          "model_module": "@jupyter-widgets/controls",
          "model_name": "ProgressStyleModel",
          "model_module_version": "1.5.0",
          "state": {
            "_model_module": "@jupyter-widgets/controls",
            "_model_module_version": "1.5.0",
            "_model_name": "ProgressStyleModel",
            "_view_count": null,
            "_view_module": "@jupyter-widgets/base",
            "_view_module_version": "1.2.0",
            "_view_name": "StyleView",
            "bar_color": null,
            "description_width": ""
          }
        },
        "e00a6542b8fa4d20907eb72b66e47ba4": {
          "model_module": "@jupyter-widgets/base",
          "model_name": "LayoutModel",
          "model_module_version": "1.2.0",
          "state": {
            "_model_module": "@jupyter-widgets/base",
            "_model_module_version": "1.2.0",
            "_model_name": "LayoutModel",
            "_view_count": null,
            "_view_module": "@jupyter-widgets/base",
            "_view_module_version": "1.2.0",
            "_view_name": "LayoutView",
            "align_content": null,
            "align_items": null,
            "align_self": null,
            "border": null,
            "bottom": null,
            "display": null,
            "flex": null,
            "flex_flow": null,
            "grid_area": null,
            "grid_auto_columns": null,
            "grid_auto_flow": null,
            "grid_auto_rows": null,
            "grid_column": null,
            "grid_gap": null,
            "grid_row": null,
            "grid_template_areas": null,
            "grid_template_columns": null,
            "grid_template_rows": null,
            "height": null,
            "justify_content": null,
            "justify_items": null,
            "left": null,
            "margin": null,
            "max_height": null,
            "max_width": null,
            "min_height": null,
            "min_width": null,
            "object_fit": null,
            "object_position": null,
            "order": null,
            "overflow": null,
            "overflow_x": null,
            "overflow_y": null,
            "padding": null,
            "right": null,
            "top": null,
            "visibility": null,
            "width": null
          }
        },
        "6b009d12fc9840a5a8593478a6713942": {
          "model_module": "@jupyter-widgets/controls",
          "model_name": "DescriptionStyleModel",
          "model_module_version": "1.5.0",
          "state": {
            "_model_module": "@jupyter-widgets/controls",
            "_model_module_version": "1.5.0",
            "_model_name": "DescriptionStyleModel",
            "_view_count": null,
            "_view_module": "@jupyter-widgets/base",
            "_view_module_version": "1.2.0",
            "_view_name": "StyleView",
            "description_width": ""
          }
        },
        "2708d3c2995643378bf4a67ceda9e570": {
          "model_module": "@jupyter-widgets/controls",
          "model_name": "HBoxModel",
          "model_module_version": "1.5.0",
          "state": {
            "_dom_classes": [],
            "_model_module": "@jupyter-widgets/controls",
            "_model_module_version": "1.5.0",
            "_model_name": "HBoxModel",
            "_view_count": null,
            "_view_module": "@jupyter-widgets/controls",
            "_view_module_version": "1.5.0",
            "_view_name": "HBoxView",
            "box_style": "",
            "children": [
              "IPY_MODEL_cec69b88d8ee49fbbd9ec6ce84363a03",
              "IPY_MODEL_d96b5421ae1a48bb813e3fd184cd0627",
              "IPY_MODEL_ff29a64b710e4ff1b517833dc3ee005d"
            ],
            "layout": "IPY_MODEL_e04a4d109dfa4ce8b9fdf865341f38d0"
          }
        },
        "cec69b88d8ee49fbbd9ec6ce84363a03": {
          "model_module": "@jupyter-widgets/controls",
          "model_name": "HTMLModel",
          "model_module_version": "1.5.0",
          "state": {
            "_dom_classes": [],
            "_model_module": "@jupyter-widgets/controls",
            "_model_module_version": "1.5.0",
            "_model_name": "HTMLModel",
            "_view_count": null,
            "_view_module": "@jupyter-widgets/controls",
            "_view_module_version": "1.5.0",
            "_view_name": "HTMLView",
            "description": "",
            "description_tooltip": null,
            "layout": "IPY_MODEL_65d0b29654054a718f36ff4573efb71f",
            "placeholder": "​",
            "style": "IPY_MODEL_f570ee440ce9499c8ce4df6c8d6083e3",
            "value": "tokenizer.json: 100%"
          }
        },
        "d96b5421ae1a48bb813e3fd184cd0627": {
          "model_module": "@jupyter-widgets/controls",
          "model_name": "FloatProgressModel",
          "model_module_version": "1.5.0",
          "state": {
            "_dom_classes": [],
            "_model_module": "@jupyter-widgets/controls",
            "_model_module_version": "1.5.0",
            "_model_name": "FloatProgressModel",
            "_view_count": null,
            "_view_module": "@jupyter-widgets/controls",
            "_view_module_version": "1.5.0",
            "_view_name": "ProgressView",
            "bar_style": "success",
            "description": "",
            "description_tooltip": null,
            "layout": "IPY_MODEL_f35a118a5e064efe81b45c55187afabe",
            "max": 466247,
            "min": 0,
            "orientation": "horizontal",
            "style": "IPY_MODEL_4d4fbf3a10144ca5a859f7192e12c6f7",
            "value": 466247
          }
        },
        "ff29a64b710e4ff1b517833dc3ee005d": {
          "model_module": "@jupyter-widgets/controls",
          "model_name": "HTMLModel",
          "model_module_version": "1.5.0",
          "state": {
            "_dom_classes": [],
            "_model_module": "@jupyter-widgets/controls",
            "_model_module_version": "1.5.0",
            "_model_name": "HTMLModel",
            "_view_count": null,
            "_view_module": "@jupyter-widgets/controls",
            "_view_module_version": "1.5.0",
            "_view_name": "HTMLView",
            "description": "",
            "description_tooltip": null,
            "layout": "IPY_MODEL_39da189069fe4d8d85ee187e975914b5",
            "placeholder": "​",
            "style": "IPY_MODEL_4b44d7cd11064000a5f4c0bca768f35d",
            "value": " 466k/466k [00:00&lt;00:00, 2.81MB/s]"
          }
        },
        "e04a4d109dfa4ce8b9fdf865341f38d0": {
          "model_module": "@jupyter-widgets/base",
          "model_name": "LayoutModel",
          "model_module_version": "1.2.0",
          "state": {
            "_model_module": "@jupyter-widgets/base",
            "_model_module_version": "1.2.0",
            "_model_name": "LayoutModel",
            "_view_count": null,
            "_view_module": "@jupyter-widgets/base",
            "_view_module_version": "1.2.0",
            "_view_name": "LayoutView",
            "align_content": null,
            "align_items": null,
            "align_self": null,
            "border": null,
            "bottom": null,
            "display": null,
            "flex": null,
            "flex_flow": null,
            "grid_area": null,
            "grid_auto_columns": null,
            "grid_auto_flow": null,
            "grid_auto_rows": null,
            "grid_column": null,
            "grid_gap": null,
            "grid_row": null,
            "grid_template_areas": null,
            "grid_template_columns": null,
            "grid_template_rows": null,
            "height": null,
            "justify_content": null,
            "justify_items": null,
            "left": null,
            "margin": null,
            "max_height": null,
            "max_width": null,
            "min_height": null,
            "min_width": null,
            "object_fit": null,
            "object_position": null,
            "order": null,
            "overflow": null,
            "overflow_x": null,
            "overflow_y": null,
            "padding": null,
            "right": null,
            "top": null,
            "visibility": null,
            "width": null
          }
        },
        "65d0b29654054a718f36ff4573efb71f": {
          "model_module": "@jupyter-widgets/base",
          "model_name": "LayoutModel",
          "model_module_version": "1.2.0",
          "state": {
            "_model_module": "@jupyter-widgets/base",
            "_model_module_version": "1.2.0",
            "_model_name": "LayoutModel",
            "_view_count": null,
            "_view_module": "@jupyter-widgets/base",
            "_view_module_version": "1.2.0",
            "_view_name": "LayoutView",
            "align_content": null,
            "align_items": null,
            "align_self": null,
            "border": null,
            "bottom": null,
            "display": null,
            "flex": null,
            "flex_flow": null,
            "grid_area": null,
            "grid_auto_columns": null,
            "grid_auto_flow": null,
            "grid_auto_rows": null,
            "grid_column": null,
            "grid_gap": null,
            "grid_row": null,
            "grid_template_areas": null,
            "grid_template_columns": null,
            "grid_template_rows": null,
            "height": null,
            "justify_content": null,
            "justify_items": null,
            "left": null,
            "margin": null,
            "max_height": null,
            "max_width": null,
            "min_height": null,
            "min_width": null,
            "object_fit": null,
            "object_position": null,
            "order": null,
            "overflow": null,
            "overflow_x": null,
            "overflow_y": null,
            "padding": null,
            "right": null,
            "top": null,
            "visibility": null,
            "width": null
          }
        },
        "f570ee440ce9499c8ce4df6c8d6083e3": {
          "model_module": "@jupyter-widgets/controls",
          "model_name": "DescriptionStyleModel",
          "model_module_version": "1.5.0",
          "state": {
            "_model_module": "@jupyter-widgets/controls",
            "_model_module_version": "1.5.0",
            "_model_name": "DescriptionStyleModel",
            "_view_count": null,
            "_view_module": "@jupyter-widgets/base",
            "_view_module_version": "1.2.0",
            "_view_name": "StyleView",
            "description_width": ""
          }
        },
        "f35a118a5e064efe81b45c55187afabe": {
          "model_module": "@jupyter-widgets/base",
          "model_name": "LayoutModel",
          "model_module_version": "1.2.0",
          "state": {
            "_model_module": "@jupyter-widgets/base",
            "_model_module_version": "1.2.0",
            "_model_name": "LayoutModel",
            "_view_count": null,
            "_view_module": "@jupyter-widgets/base",
            "_view_module_version": "1.2.0",
            "_view_name": "LayoutView",
            "align_content": null,
            "align_items": null,
            "align_self": null,
            "border": null,
            "bottom": null,
            "display": null,
            "flex": null,
            "flex_flow": null,
            "grid_area": null,
            "grid_auto_columns": null,
            "grid_auto_flow": null,
            "grid_auto_rows": null,
            "grid_column": null,
            "grid_gap": null,
            "grid_row": null,
            "grid_template_areas": null,
            "grid_template_columns": null,
            "grid_template_rows": null,
            "height": null,
            "justify_content": null,
            "justify_items": null,
            "left": null,
            "margin": null,
            "max_height": null,
            "max_width": null,
            "min_height": null,
            "min_width": null,
            "object_fit": null,
            "object_position": null,
            "order": null,
            "overflow": null,
            "overflow_x": null,
            "overflow_y": null,
            "padding": null,
            "right": null,
            "top": null,
            "visibility": null,
            "width": null
          }
        },
        "4d4fbf3a10144ca5a859f7192e12c6f7": {
          "model_module": "@jupyter-widgets/controls",
          "model_name": "ProgressStyleModel",
          "model_module_version": "1.5.0",
          "state": {
            "_model_module": "@jupyter-widgets/controls",
            "_model_module_version": "1.5.0",
            "_model_name": "ProgressStyleModel",
            "_view_count": null,
            "_view_module": "@jupyter-widgets/base",
            "_view_module_version": "1.2.0",
            "_view_name": "StyleView",
            "bar_color": null,
            "description_width": ""
          }
        },
        "39da189069fe4d8d85ee187e975914b5": {
          "model_module": "@jupyter-widgets/base",
          "model_name": "LayoutModel",
          "model_module_version": "1.2.0",
          "state": {
            "_model_module": "@jupyter-widgets/base",
            "_model_module_version": "1.2.0",
            "_model_name": "LayoutModel",
            "_view_count": null,
            "_view_module": "@jupyter-widgets/base",
            "_view_module_version": "1.2.0",
            "_view_name": "LayoutView",
            "align_content": null,
            "align_items": null,
            "align_self": null,
            "border": null,
            "bottom": null,
            "display": null,
            "flex": null,
            "flex_flow": null,
            "grid_area": null,
            "grid_auto_columns": null,
            "grid_auto_flow": null,
            "grid_auto_rows": null,
            "grid_column": null,
            "grid_gap": null,
            "grid_row": null,
            "grid_template_areas": null,
            "grid_template_columns": null,
            "grid_template_rows": null,
            "height": null,
            "justify_content": null,
            "justify_items": null,
            "left": null,
            "margin": null,
            "max_height": null,
            "max_width": null,
            "min_height": null,
            "min_width": null,
            "object_fit": null,
            "object_position": null,
            "order": null,
            "overflow": null,
            "overflow_x": null,
            "overflow_y": null,
            "padding": null,
            "right": null,
            "top": null,
            "visibility": null,
            "width": null
          }
        },
        "4b44d7cd11064000a5f4c0bca768f35d": {
          "model_module": "@jupyter-widgets/controls",
          "model_name": "DescriptionStyleModel",
          "model_module_version": "1.5.0",
          "state": {
            "_model_module": "@jupyter-widgets/controls",
            "_model_module_version": "1.5.0",
            "_model_name": "DescriptionStyleModel",
            "_view_count": null,
            "_view_module": "@jupyter-widgets/base",
            "_view_module_version": "1.2.0",
            "_view_name": "StyleView",
            "description_width": ""
          }
        },
        "b2093d49980a452abb0c7c3e65e60952": {
          "model_module": "@jupyter-widgets/controls",
          "model_name": "HBoxModel",
          "model_module_version": "1.5.0",
          "state": {
            "_dom_classes": [],
            "_model_module": "@jupyter-widgets/controls",
            "_model_module_version": "1.5.0",
            "_model_name": "HBoxModel",
            "_view_count": null,
            "_view_module": "@jupyter-widgets/controls",
            "_view_module_version": "1.5.0",
            "_view_name": "HBoxView",
            "box_style": "",
            "children": [
              "IPY_MODEL_7d45d891c9d5437aa77d2faf766407a1",
              "IPY_MODEL_fc1e6b3569a94e299917840486e66471",
              "IPY_MODEL_10eb6bca642d4b0fba8dc4c266cd9d58"
            ],
            "layout": "IPY_MODEL_0a60830d23924899804db36ea7d0d941"
          }
        },
        "7d45d891c9d5437aa77d2faf766407a1": {
          "model_module": "@jupyter-widgets/controls",
          "model_name": "HTMLModel",
          "model_module_version": "1.5.0",
          "state": {
            "_dom_classes": [],
            "_model_module": "@jupyter-widgets/controls",
            "_model_module_version": "1.5.0",
            "_model_name": "HTMLModel",
            "_view_count": null,
            "_view_module": "@jupyter-widgets/controls",
            "_view_module_version": "1.5.0",
            "_view_name": "HTMLView",
            "description": "",
            "description_tooltip": null,
            "layout": "IPY_MODEL_d0571afe7cec463b83da30024995772c",
            "placeholder": "​",
            "style": "IPY_MODEL_30bbd1382f0549e99e0d1a04b8a19e56",
            "value": "special_tokens_map.json: 100%"
          }
        },
        "fc1e6b3569a94e299917840486e66471": {
          "model_module": "@jupyter-widgets/controls",
          "model_name": "FloatProgressModel",
          "model_module_version": "1.5.0",
          "state": {
            "_dom_classes": [],
            "_model_module": "@jupyter-widgets/controls",
            "_model_module_version": "1.5.0",
            "_model_name": "FloatProgressModel",
            "_view_count": null,
            "_view_module": "@jupyter-widgets/controls",
            "_view_module_version": "1.5.0",
            "_view_name": "ProgressView",
            "bar_style": "success",
            "description": "",
            "description_tooltip": null,
            "layout": "IPY_MODEL_e000163ba3dd475fa61dedd7884dff9d",
            "max": 112,
            "min": 0,
            "orientation": "horizontal",
            "style": "IPY_MODEL_4374618623af489c83411d9ddfab6fbd",
            "value": 112
          }
        },
        "10eb6bca642d4b0fba8dc4c266cd9d58": {
          "model_module": "@jupyter-widgets/controls",
          "model_name": "HTMLModel",
          "model_module_version": "1.5.0",
          "state": {
            "_dom_classes": [],
            "_model_module": "@jupyter-widgets/controls",
            "_model_module_version": "1.5.0",
            "_model_name": "HTMLModel",
            "_view_count": null,
            "_view_module": "@jupyter-widgets/controls",
            "_view_module_version": "1.5.0",
            "_view_name": "HTMLView",
            "description": "",
            "description_tooltip": null,
            "layout": "IPY_MODEL_61734071a0d04de2b9c247509a4dc989",
            "placeholder": "​",
            "style": "IPY_MODEL_114d2d4713d845129ec28a65fd2bb0c0",
            "value": " 112/112 [00:00&lt;00:00, 8.53kB/s]"
          }
        },
        "0a60830d23924899804db36ea7d0d941": {
          "model_module": "@jupyter-widgets/base",
          "model_name": "LayoutModel",
          "model_module_version": "1.2.0",
          "state": {
            "_model_module": "@jupyter-widgets/base",
            "_model_module_version": "1.2.0",
            "_model_name": "LayoutModel",
            "_view_count": null,
            "_view_module": "@jupyter-widgets/base",
            "_view_module_version": "1.2.0",
            "_view_name": "LayoutView",
            "align_content": null,
            "align_items": null,
            "align_self": null,
            "border": null,
            "bottom": null,
            "display": null,
            "flex": null,
            "flex_flow": null,
            "grid_area": null,
            "grid_auto_columns": null,
            "grid_auto_flow": null,
            "grid_auto_rows": null,
            "grid_column": null,
            "grid_gap": null,
            "grid_row": null,
            "grid_template_areas": null,
            "grid_template_columns": null,
            "grid_template_rows": null,
            "height": null,
            "justify_content": null,
            "justify_items": null,
            "left": null,
            "margin": null,
            "max_height": null,
            "max_width": null,
            "min_height": null,
            "min_width": null,
            "object_fit": null,
            "object_position": null,
            "order": null,
            "overflow": null,
            "overflow_x": null,
            "overflow_y": null,
            "padding": null,
            "right": null,
            "top": null,
            "visibility": null,
            "width": null
          }
        },
        "d0571afe7cec463b83da30024995772c": {
          "model_module": "@jupyter-widgets/base",
          "model_name": "LayoutModel",
          "model_module_version": "1.2.0",
          "state": {
            "_model_module": "@jupyter-widgets/base",
            "_model_module_version": "1.2.0",
            "_model_name": "LayoutModel",
            "_view_count": null,
            "_view_module": "@jupyter-widgets/base",
            "_view_module_version": "1.2.0",
            "_view_name": "LayoutView",
            "align_content": null,
            "align_items": null,
            "align_self": null,
            "border": null,
            "bottom": null,
            "display": null,
            "flex": null,
            "flex_flow": null,
            "grid_area": null,
            "grid_auto_columns": null,
            "grid_auto_flow": null,
            "grid_auto_rows": null,
            "grid_column": null,
            "grid_gap": null,
            "grid_row": null,
            "grid_template_areas": null,
            "grid_template_columns": null,
            "grid_template_rows": null,
            "height": null,
            "justify_content": null,
            "justify_items": null,
            "left": null,
            "margin": null,
            "max_height": null,
            "max_width": null,
            "min_height": null,
            "min_width": null,
            "object_fit": null,
            "object_position": null,
            "order": null,
            "overflow": null,
            "overflow_x": null,
            "overflow_y": null,
            "padding": null,
            "right": null,
            "top": null,
            "visibility": null,
            "width": null
          }
        },
        "30bbd1382f0549e99e0d1a04b8a19e56": {
          "model_module": "@jupyter-widgets/controls",
          "model_name": "DescriptionStyleModel",
          "model_module_version": "1.5.0",
          "state": {
            "_model_module": "@jupyter-widgets/controls",
            "_model_module_version": "1.5.0",
            "_model_name": "DescriptionStyleModel",
            "_view_count": null,
            "_view_module": "@jupyter-widgets/base",
            "_view_module_version": "1.2.0",
            "_view_name": "StyleView",
            "description_width": ""
          }
        },
        "e000163ba3dd475fa61dedd7884dff9d": {
          "model_module": "@jupyter-widgets/base",
          "model_name": "LayoutModel",
          "model_module_version": "1.2.0",
          "state": {
            "_model_module": "@jupyter-widgets/base",
            "_model_module_version": "1.2.0",
            "_model_name": "LayoutModel",
            "_view_count": null,
            "_view_module": "@jupyter-widgets/base",
            "_view_module_version": "1.2.0",
            "_view_name": "LayoutView",
            "align_content": null,
            "align_items": null,
            "align_self": null,
            "border": null,
            "bottom": null,
            "display": null,
            "flex": null,
            "flex_flow": null,
            "grid_area": null,
            "grid_auto_columns": null,
            "grid_auto_flow": null,
            "grid_auto_rows": null,
            "grid_column": null,
            "grid_gap": null,
            "grid_row": null,
            "grid_template_areas": null,
            "grid_template_columns": null,
            "grid_template_rows": null,
            "height": null,
            "justify_content": null,
            "justify_items": null,
            "left": null,
            "margin": null,
            "max_height": null,
            "max_width": null,
            "min_height": null,
            "min_width": null,
            "object_fit": null,
            "object_position": null,
            "order": null,
            "overflow": null,
            "overflow_x": null,
            "overflow_y": null,
            "padding": null,
            "right": null,
            "top": null,
            "visibility": null,
            "width": null
          }
        },
        "4374618623af489c83411d9ddfab6fbd": {
          "model_module": "@jupyter-widgets/controls",
          "model_name": "ProgressStyleModel",
          "model_module_version": "1.5.0",
          "state": {
            "_model_module": "@jupyter-widgets/controls",
            "_model_module_version": "1.5.0",
            "_model_name": "ProgressStyleModel",
            "_view_count": null,
            "_view_module": "@jupyter-widgets/base",
            "_view_module_version": "1.2.0",
            "_view_name": "StyleView",
            "bar_color": null,
            "description_width": ""
          }
        },
        "61734071a0d04de2b9c247509a4dc989": {
          "model_module": "@jupyter-widgets/base",
          "model_name": "LayoutModel",
          "model_module_version": "1.2.0",
          "state": {
            "_model_module": "@jupyter-widgets/base",
            "_model_module_version": "1.2.0",
            "_model_name": "LayoutModel",
            "_view_count": null,
            "_view_module": "@jupyter-widgets/base",
            "_view_module_version": "1.2.0",
            "_view_name": "LayoutView",
            "align_content": null,
            "align_items": null,
            "align_self": null,
            "border": null,
            "bottom": null,
            "display": null,
            "flex": null,
            "flex_flow": null,
            "grid_area": null,
            "grid_auto_columns": null,
            "grid_auto_flow": null,
            "grid_auto_rows": null,
            "grid_column": null,
            "grid_gap": null,
            "grid_row": null,
            "grid_template_areas": null,
            "grid_template_columns": null,
            "grid_template_rows": null,
            "height": null,
            "justify_content": null,
            "justify_items": null,
            "left": null,
            "margin": null,
            "max_height": null,
            "max_width": null,
            "min_height": null,
            "min_width": null,
            "object_fit": null,
            "object_position": null,
            "order": null,
            "overflow": null,
            "overflow_x": null,
            "overflow_y": null,
            "padding": null,
            "right": null,
            "top": null,
            "visibility": null,
            "width": null
          }
        },
        "114d2d4713d845129ec28a65fd2bb0c0": {
          "model_module": "@jupyter-widgets/controls",
          "model_name": "DescriptionStyleModel",
          "model_module_version": "1.5.0",
          "state": {
            "_model_module": "@jupyter-widgets/controls",
            "_model_module_version": "1.5.0",
            "_model_name": "DescriptionStyleModel",
            "_view_count": null,
            "_view_module": "@jupyter-widgets/base",
            "_view_module_version": "1.2.0",
            "_view_name": "StyleView",
            "description_width": ""
          }
        },
        "6e06f35d7c63413f87281146d4b317b2": {
          "model_module": "@jupyter-widgets/controls",
          "model_name": "HBoxModel",
          "model_module_version": "1.5.0",
          "state": {
            "_dom_classes": [],
            "_model_module": "@jupyter-widgets/controls",
            "_model_module_version": "1.5.0",
            "_model_name": "HBoxModel",
            "_view_count": null,
            "_view_module": "@jupyter-widgets/controls",
            "_view_module_version": "1.5.0",
            "_view_name": "HBoxView",
            "box_style": "",
            "children": [
              "IPY_MODEL_7cd3284752d945d2a74fbeecf338951c",
              "IPY_MODEL_f857dee91d044a488181689dd8e66193",
              "IPY_MODEL_2f232487f4b248399c102ed1694d6add"
            ],
            "layout": "IPY_MODEL_68a3132a46ab48e398f3b42034db27c5"
          }
        },
        "7cd3284752d945d2a74fbeecf338951c": {
          "model_module": "@jupyter-widgets/controls",
          "model_name": "HTMLModel",
          "model_module_version": "1.5.0",
          "state": {
            "_dom_classes": [],
            "_model_module": "@jupyter-widgets/controls",
            "_model_module_version": "1.5.0",
            "_model_name": "HTMLModel",
            "_view_count": null,
            "_view_module": "@jupyter-widgets/controls",
            "_view_module_version": "1.5.0",
            "_view_name": "HTMLView",
            "description": "",
            "description_tooltip": null,
            "layout": "IPY_MODEL_0126762bb0f9450abd8305bd8af3e199",
            "placeholder": "​",
            "style": "IPY_MODEL_48f83f69508e4872a0a6a0d99d9091ac",
            "value": "1_Pooling/config.json: 100%"
          }
        },
        "f857dee91d044a488181689dd8e66193": {
          "model_module": "@jupyter-widgets/controls",
          "model_name": "FloatProgressModel",
          "model_module_version": "1.5.0",
          "state": {
            "_dom_classes": [],
            "_model_module": "@jupyter-widgets/controls",
            "_model_module_version": "1.5.0",
            "_model_name": "FloatProgressModel",
            "_view_count": null,
            "_view_module": "@jupyter-widgets/controls",
            "_view_module_version": "1.5.0",
            "_view_name": "ProgressView",
            "bar_style": "success",
            "description": "",
            "description_tooltip": null,
            "layout": "IPY_MODEL_f81067fd4cb742439427da6c7cf75462",
            "max": 190,
            "min": 0,
            "orientation": "horizontal",
            "style": "IPY_MODEL_affc5cf9b88343048f15deb08d9a56ac",
            "value": 190
          }
        },
        "2f232487f4b248399c102ed1694d6add": {
          "model_module": "@jupyter-widgets/controls",
          "model_name": "HTMLModel",
          "model_module_version": "1.5.0",
          "state": {
            "_dom_classes": [],
            "_model_module": "@jupyter-widgets/controls",
            "_model_module_version": "1.5.0",
            "_model_name": "HTMLModel",
            "_view_count": null,
            "_view_module": "@jupyter-widgets/controls",
            "_view_module_version": "1.5.0",
            "_view_name": "HTMLView",
            "description": "",
            "description_tooltip": null,
            "layout": "IPY_MODEL_782512c373ba48ca8beec1ac295c26b9",
            "placeholder": "​",
            "style": "IPY_MODEL_cd5a936f013d4e188d4208fc8a1b86a9",
            "value": " 190/190 [00:00&lt;00:00, 5.81kB/s]"
          }
        },
        "68a3132a46ab48e398f3b42034db27c5": {
          "model_module": "@jupyter-widgets/base",
          "model_name": "LayoutModel",
          "model_module_version": "1.2.0",
          "state": {
            "_model_module": "@jupyter-widgets/base",
            "_model_module_version": "1.2.0",
            "_model_name": "LayoutModel",
            "_view_count": null,
            "_view_module": "@jupyter-widgets/base",
            "_view_module_version": "1.2.0",
            "_view_name": "LayoutView",
            "align_content": null,
            "align_items": null,
            "align_self": null,
            "border": null,
            "bottom": null,
            "display": null,
            "flex": null,
            "flex_flow": null,
            "grid_area": null,
            "grid_auto_columns": null,
            "grid_auto_flow": null,
            "grid_auto_rows": null,
            "grid_column": null,
            "grid_gap": null,
            "grid_row": null,
            "grid_template_areas": null,
            "grid_template_columns": null,
            "grid_template_rows": null,
            "height": null,
            "justify_content": null,
            "justify_items": null,
            "left": null,
            "margin": null,
            "max_height": null,
            "max_width": null,
            "min_height": null,
            "min_width": null,
            "object_fit": null,
            "object_position": null,
            "order": null,
            "overflow": null,
            "overflow_x": null,
            "overflow_y": null,
            "padding": null,
            "right": null,
            "top": null,
            "visibility": null,
            "width": null
          }
        },
        "0126762bb0f9450abd8305bd8af3e199": {
          "model_module": "@jupyter-widgets/base",
          "model_name": "LayoutModel",
          "model_module_version": "1.2.0",
          "state": {
            "_model_module": "@jupyter-widgets/base",
            "_model_module_version": "1.2.0",
            "_model_name": "LayoutModel",
            "_view_count": null,
            "_view_module": "@jupyter-widgets/base",
            "_view_module_version": "1.2.0",
            "_view_name": "LayoutView",
            "align_content": null,
            "align_items": null,
            "align_self": null,
            "border": null,
            "bottom": null,
            "display": null,
            "flex": null,
            "flex_flow": null,
            "grid_area": null,
            "grid_auto_columns": null,
            "grid_auto_flow": null,
            "grid_auto_rows": null,
            "grid_column": null,
            "grid_gap": null,
            "grid_row": null,
            "grid_template_areas": null,
            "grid_template_columns": null,
            "grid_template_rows": null,
            "height": null,
            "justify_content": null,
            "justify_items": null,
            "left": null,
            "margin": null,
            "max_height": null,
            "max_width": null,
            "min_height": null,
            "min_width": null,
            "object_fit": null,
            "object_position": null,
            "order": null,
            "overflow": null,
            "overflow_x": null,
            "overflow_y": null,
            "padding": null,
            "right": null,
            "top": null,
            "visibility": null,
            "width": null
          }
        },
        "48f83f69508e4872a0a6a0d99d9091ac": {
          "model_module": "@jupyter-widgets/controls",
          "model_name": "DescriptionStyleModel",
          "model_module_version": "1.5.0",
          "state": {
            "_model_module": "@jupyter-widgets/controls",
            "_model_module_version": "1.5.0",
            "_model_name": "DescriptionStyleModel",
            "_view_count": null,
            "_view_module": "@jupyter-widgets/base",
            "_view_module_version": "1.2.0",
            "_view_name": "StyleView",
            "description_width": ""
          }
        },
        "f81067fd4cb742439427da6c7cf75462": {
          "model_module": "@jupyter-widgets/base",
          "model_name": "LayoutModel",
          "model_module_version": "1.2.0",
          "state": {
            "_model_module": "@jupyter-widgets/base",
            "_model_module_version": "1.2.0",
            "_model_name": "LayoutModel",
            "_view_count": null,
            "_view_module": "@jupyter-widgets/base",
            "_view_module_version": "1.2.0",
            "_view_name": "LayoutView",
            "align_content": null,
            "align_items": null,
            "align_self": null,
            "border": null,
            "bottom": null,
            "display": null,
            "flex": null,
            "flex_flow": null,
            "grid_area": null,
            "grid_auto_columns": null,
            "grid_auto_flow": null,
            "grid_auto_rows": null,
            "grid_column": null,
            "grid_gap": null,
            "grid_row": null,
            "grid_template_areas": null,
            "grid_template_columns": null,
            "grid_template_rows": null,
            "height": null,
            "justify_content": null,
            "justify_items": null,
            "left": null,
            "margin": null,
            "max_height": null,
            "max_width": null,
            "min_height": null,
            "min_width": null,
            "object_fit": null,
            "object_position": null,
            "order": null,
            "overflow": null,
            "overflow_x": null,
            "overflow_y": null,
            "padding": null,
            "right": null,
            "top": null,
            "visibility": null,
            "width": null
          }
        },
        "affc5cf9b88343048f15deb08d9a56ac": {
          "model_module": "@jupyter-widgets/controls",
          "model_name": "ProgressStyleModel",
          "model_module_version": "1.5.0",
          "state": {
            "_model_module": "@jupyter-widgets/controls",
            "_model_module_version": "1.5.0",
            "_model_name": "ProgressStyleModel",
            "_view_count": null,
            "_view_module": "@jupyter-widgets/base",
            "_view_module_version": "1.2.0",
            "_view_name": "StyleView",
            "bar_color": null,
            "description_width": ""
          }
        },
        "782512c373ba48ca8beec1ac295c26b9": {
          "model_module": "@jupyter-widgets/base",
          "model_name": "LayoutModel",
          "model_module_version": "1.2.0",
          "state": {
            "_model_module": "@jupyter-widgets/base",
            "_model_module_version": "1.2.0",
            "_model_name": "LayoutModel",
            "_view_count": null,
            "_view_module": "@jupyter-widgets/base",
            "_view_module_version": "1.2.0",
            "_view_name": "LayoutView",
            "align_content": null,
            "align_items": null,
            "align_self": null,
            "border": null,
            "bottom": null,
            "display": null,
            "flex": null,
            "flex_flow": null,
            "grid_area": null,
            "grid_auto_columns": null,
            "grid_auto_flow": null,
            "grid_auto_rows": null,
            "grid_column": null,
            "grid_gap": null,
            "grid_row": null,
            "grid_template_areas": null,
            "grid_template_columns": null,
            "grid_template_rows": null,
            "height": null,
            "justify_content": null,
            "justify_items": null,
            "left": null,
            "margin": null,
            "max_height": null,
            "max_width": null,
            "min_height": null,
            "min_width": null,
            "object_fit": null,
            "object_position": null,
            "order": null,
            "overflow": null,
            "overflow_x": null,
            "overflow_y": null,
            "padding": null,
            "right": null,
            "top": null,
            "visibility": null,
            "width": null
          }
        },
        "cd5a936f013d4e188d4208fc8a1b86a9": {
          "model_module": "@jupyter-widgets/controls",
          "model_name": "DescriptionStyleModel",
          "model_module_version": "1.5.0",
          "state": {
            "_model_module": "@jupyter-widgets/controls",
            "_model_module_version": "1.5.0",
            "_model_name": "DescriptionStyleModel",
            "_view_count": null,
            "_view_module": "@jupyter-widgets/base",
            "_view_module_version": "1.2.0",
            "_view_name": "StyleView",
            "description_width": ""
          }
        }
      }
    }
  },
  "nbformat": 4,
  "nbformat_minor": 0
}